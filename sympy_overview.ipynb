{
 "cells": [
  {
   "cell_type": "code",
   "execution_count": 1,
   "id": "8c38e10e",
   "metadata": {},
   "outputs": [],
   "source": [
    "%load_ext autoreload\n",
    "%autoreload 2\n",
    "\n",
    "import sympy\n",
    "sympy.init_printing() #pretty printing"
   ]
  },
  {
   "cell_type": "code",
   "execution_count": 2,
   "id": "06b755e1",
   "metadata": {},
   "outputs": [
    {
     "data": {
      "image/png": "[encoded data removed]",
      "text/latex": [
       "$\\displaystyle \\sqrt{x^{2}}$"
      ],
      "text/plain": [
       "   ____\n",
       "  ╱  2 \n",
       "╲╱  x  "
      ]
     },
     "execution_count": 2,
     "metadata": {},
     "output_type": "execute_result"
    }
   ],
   "source": [
    "# Evaluate an expression\n",
    "x = sympy.Symbol('x')\n",
    "sympy.sqrt(x**2) #sympy will fail to simplify because it has no information on x"
   ]
  },
  {
   "cell_type": "code",
   "execution_count": 3,
   "id": "772f47da",
   "metadata": {},
   "outputs": [
    {
     "data": {
      "image/png": "[encoded data removed]",
      "text/latex": [
       "$\\displaystyle y$"
      ],
      "text/plain": [
       "y"
      ]
     },
     "execution_count": 3,
     "metadata": {},
     "output_type": "execute_result"
    }
   ],
   "source": [
    "# Specifying y is a positive number will help evaluate\n",
    "y = sympy.Symbol('y', positive=True)\n",
    "sympy.sqrt(y**2)"
   ]
  },
  {
   "cell_type": "code",
   "execution_count": 4,
   "id": "7b3f906f",
   "metadata": {},
   "outputs": [
    {
     "data": {
      "image/png": "[encoded data removed]",
      "text/latex": [
       "$\\displaystyle \\frac{8}{15}$"
      ],
      "text/plain": [
       "8/15"
      ]
     },
     "execution_count": 4,
     "metadata": {},
     "output_type": "execute_result"
    }
   ],
   "source": [
    "# Rational expressions\n",
    "\n",
    "r1 = sympy.Rational(2, 3)\n",
    "r2 = sympy.Rational(4, 5)\n",
    "r1 * r2"
   ]
  },
  {
   "cell_type": "code",
   "execution_count": 5,
   "id": "e5716f06",
   "metadata": {},
   "outputs": [
    {
     "data": {
      "image/png": "[encoded data removed]",
      "text/latex": [
       "$\\displaystyle \\frac{5}{6}$"
      ],
      "text/plain": [
       "5/6"
      ]
     },
     "execution_count": 5,
     "metadata": {},
     "output_type": "execute_result"
    }
   ],
   "source": [
    "r1/r2"
   ]
  },
  {
   "cell_type": "markdown",
   "id": "ce43621e",
   "metadata": {},
   "source": [
    "$$\n",
    "cos^2θe^{-itE_1/\\hbar} +sin^2\\theta e^{-itE_2/\\hbar}\n",
    "$$"
   ]
  },
  {
   "cell_type": "code",
   "execution_count": 6,
   "id": "b2090ef8",
   "metadata": {},
   "outputs": [
    {
     "data": {
      "image/png": "[encoded data removed]",
      "text/latex": [
       "$\\displaystyle e^{- \\frac{i E_{2} t}{h}} \\sin^{2}{\\left(\\theta \\right)} + e^{- \\frac{i E_{1} t}{h}} \\cos^{2}{\\left(\\theta \\right)}$"
      ],
      "text/plain": [
       " -ⅈ⋅E₂⋅t             -ⅈ⋅E₁⋅t         \n",
       " ────────            ────────        \n",
       "    h        2          h        2   \n",
       "ℯ        ⋅sin (θ) + ℯ        ⋅cos (θ)"
      ]
     },
     "execution_count": 6,
     "metadata": {},
     "output_type": "execute_result"
    }
   ],
   "source": [
    "theta,t,E1,E2,h = sympy.symbols('theta,t,E_1,E_2,h', real=True)\n",
    "v = sympy.cos(theta)**2*sympy.exp(-sympy.I*t*E1/h) + sympy.sin(theta)**2*sympy.exp(-sympy.I*t*E2/h)\n",
    "v"
   ]
  },
  {
   "cell_type": "code",
   "execution_count": 7,
   "id": "0ad8ada0",
   "metadata": {},
   "outputs": [
    {
     "data": {
      "image/png": "[encoded data removed]",
      "text/latex": [
       "$\\displaystyle \\frac{c^{3} \\left(m_{1}^{2} - m_{2}^{2}\\right)}{2 p}$"
      ],
      "text/plain": [
       " 3 ⎛  2     2⎞\n",
       "c ⋅⎝m₁  - m₂ ⎠\n",
       "──────────────\n",
       "     2⋅p      "
      ]
     },
     "execution_count": 7,
     "metadata": {},
     "output_type": "execute_result"
    }
   ],
   "source": [
    "#Simplification\n",
    "\n",
    "c,p,m = sympy.symbols('c,p,m')\n",
    "m1,m2 =sympy.symbols('m_1,m_2')\n",
    "E = p*c*(1+m**2*c**2/(2*p**2))\n",
    "E\n",
    "sympy.simplify(E.subs({m:m1})-E.subs({m:m2}))"
   ]
  },
  {
   "cell_type": "markdown",
   "id": "060b5d65",
   "metadata": {},
   "source": [
    "### Integration\n",
    "$ \\int_{-1}^1 2\\sqrt{(1-x^2)} = \\pi$"
   ]
  },
  {
   "cell_type": "code",
   "execution_count": 8,
   "id": "c732dd9c",
   "metadata": {},
   "outputs": [
    {
     "data": {
      "image/png": "[encoded data removed]",
      "text/latex": [
       "$\\displaystyle \\pi$"
      ],
      "text/plain": [
       "π"
      ]
     },
     "execution_count": 8,
     "metadata": {},
     "output_type": "execute_result"
    }
   ],
   "source": [
    "x = sympy.symbols('x')\n",
    "f = 2 * sympy.sqrt(1-x**2)\n",
    "a,b = -1,1\n",
    "sympy.integrate(f, (x,a,b))"
   ]
  },
  {
   "cell_type": "code",
   "execution_count": 9,
   "id": "2c58aa65",
   "metadata": {},
   "outputs": [],
   "source": [
    "t,x,y = sympy.symbols('t,x,y')\n",
    "C = sympy.Curve([sympy.cos(t), sympy.sin(t)], (t, 0, 2*sympy.pi))"
   ]
  },
  {
   "cell_type": "markdown",
   "id": "e7d7773b",
   "metadata": {},
   "source": [
    "$\\int_C 1 = 2π $"
   ]
  },
  {
   "cell_type": "code",
   "execution_count": 10,
   "id": "598fa6a8",
   "metadata": {},
   "outputs": [
    {
     "data": {
      "image/png": "[encoded data removed]",
      "text/latex": [
       "$\\displaystyle 2 \\pi$"
      ],
      "text/plain": [
       "2⋅π"
      ]
     },
     "execution_count": 10,
     "metadata": {},
     "output_type": "execute_result"
    }
   ],
   "source": [
    "sympy.line_integrate(1,C,[x,y])"
   ]
  },
  {
   "cell_type": "markdown",
   "id": "c332af75",
   "metadata": {},
   "source": [
    "$\\int_C x^2y^2 = \\pi/4 $"
   ]
  },
  {
   "cell_type": "code",
   "execution_count": 11,
   "id": "72ede369",
   "metadata": {},
   "outputs": [
    {
     "data": {
      "image/png": "[encoded data removed]",
      "text/latex": [
       "$\\displaystyle \\frac{\\pi}{4}$"
      ],
      "text/plain": [
       "π\n",
       "─\n",
       "4"
      ]
     },
     "execution_count": 11,
     "metadata": {},
     "output_type": "execute_result"
    }
   ],
   "source": [
    "sympy.line_integrate(x**2*y**2,C,[x,y])"
   ]
  },
  {
   "cell_type": "markdown",
   "id": "1e9aa5c2",
   "metadata": {},
   "source": [
    "### Laplace Transform"
   ]
  },
  {
   "cell_type": "code",
   "execution_count": 12,
   "id": "c2529cce",
   "metadata": {},
   "outputs": [],
   "source": [
    "s = sympy.symbols('s')\n",
    "a,t = sympy.symbols('a,t', positive=True)\n",
    "f = sympy.sin(a*t)"
   ]
  },
  {
   "cell_type": "code",
   "execution_count": 13,
   "id": "d8d34423",
   "metadata": {},
   "outputs": [
    {
     "data": {
      "image/png": "[encoded data removed]",
      "text/latex": [
       "$\\displaystyle \\left( \\frac{a}{a^{2} + s^{2}}, \\  0, \\  \\text{True}\\right)$"
      ],
      "text/plain": [
       "⎛   a            ⎞\n",
       "⎜───────, 0, True⎟\n",
       "⎜ 2    2         ⎟\n",
       "⎝a  + s          ⎠"
      ]
     },
     "execution_count": 13,
     "metadata": {},
     "output_type": "execute_result"
    }
   ],
   "source": [
    "sympy.laplace_transform(f,t,s)"
   ]
  },
  {
   "cell_type": "code",
   "execution_count": 14,
   "id": "53b91bb8",
   "metadata": {},
   "outputs": [
    {
     "data": {
      "image/png": "[encoded data removed]",
      "text/latex": [
       "$\\displaystyle \\frac{a}{a^{2} + s^{2}}$"
      ],
      "text/plain": [
       "   a   \n",
       "───────\n",
       " 2    2\n",
       "a  + s "
      ]
     },
     "execution_count": 14,
     "metadata": {},
     "output_type": "execute_result"
    }
   ],
   "source": [
    "sympy.laplace_transform(f,t,s, noconds=True)"
   ]
  },
  {
   "cell_type": "code",
   "execution_count": 15,
   "id": "7d7e2b28",
   "metadata": {},
   "outputs": [
    {
     "data": {
      "image/png": "[encoded data removed]",
      "text/latex": [
       "$\\displaystyle \\left[ \\frac{1}{s^{2}}, \\  \\frac{2}{s^{3}}, \\  \\frac{6}{s^{4}}, \\  \\frac{24}{s^{5}}\\right]$"
      ],
      "text/plain": [
       "⎡1   2   6   24⎤\n",
       "⎢──, ──, ──, ──⎥\n",
       "⎢ 2   3   4   5⎥\n",
       "⎣s   s   s   s ⎦"
      ]
     },
     "execution_count": 15,
     "metadata": {},
     "output_type": "execute_result"
    }
   ],
   "source": [
    "[sympy.laplace_transform(f,t,s, noconds=True) for f in [t,t**2, t**3, t**4]]"
   ]
  },
  {
   "cell_type": "code",
   "execution_count": 16,
   "id": "223ae47f",
   "metadata": {},
   "outputs": [
    {
     "data": {
      "image/png": "[encoded data removed]",
      "text/latex": [
       "$\\displaystyle s^{- n - 1} \\Gamma\\left(n + 1\\right)$"
      ],
      "text/plain": [
       " -n - 1         \n",
       "s      ⋅Γ(n + 1)"
      ]
     },
     "execution_count": 16,
     "metadata": {},
     "output_type": "execute_result"
    }
   ],
   "source": [
    "n = sympy.symbols('n', positive=True)\n",
    "sympy.laplace_transform(t**n,t,s, noconds=True)"
   ]
  },
  {
   "cell_type": "code",
   "execution_count": 17,
   "id": "abc7d115",
   "metadata": {},
   "outputs": [
    {
     "data": {
      "image/png": "[encoded data removed]",
      "text/latex": [
       "$\\displaystyle s^{- n - 1} \\Gamma\\left(n + 1\\right)$"
      ],
      "text/plain": [
       " -n - 1         \n",
       "s      ⋅Γ(n + 1)"
      ]
     },
     "execution_count": 17,
     "metadata": {},
     "output_type": "execute_result"
    }
   ],
   "source": [
    "n = sympy.symbols('n', integer = True, positive=True)\n",
    "sympy.laplace_transform(t**n,t,s, noconds=True)"
   ]
  },
  {
   "cell_type": "code",
   "execution_count": 18,
   "id": "db4d58a9",
   "metadata": {},
   "outputs": [
    {
     "data": {
      "image/png": "[encoded data removed]",
      "text/latex": [
       "$\\displaystyle \\frac{\\sqrt{\\pi} e^{- \\frac{\\pi^{2} \\omega^{2}}{a}}}{\\sqrt{a}}$"
      ],
      "text/plain": [
       "      2  2 \n",
       "    -π ⋅ω  \n",
       "    ───────\n",
       "       a   \n",
       "√π⋅ℯ       \n",
       "───────────\n",
       "     √a    "
      ]
     },
     "execution_count": 18,
     "metadata": {},
     "output_type": "execute_result"
    }
   ],
   "source": [
    "a = sympy.symbols('a', positive=True)\n",
    "t,w = sympy.symbols('t, omega')\n",
    "f = sympy.exp(-a*(t**2))\n",
    "sympy.fourier_transform(f,t,w)"
   ]
  },
  {
   "cell_type": "markdown",
   "id": "10d2ebd0",
   "metadata": {},
   "source": [
    "### Solving ODEs"
   ]
  },
  {
   "cell_type": "code",
   "execution_count": 19,
   "id": "62bdb8b8",
   "metadata": {},
   "outputs": [
    {
     "data": {
      "image/png": "[encoded data removed]",
      "text/latex": [
       "$\\displaystyle k \\left(- T_{a} + T{\\left(t \\right)}\\right) + \\frac{d}{d t} T{\\left(t \\right)} = 0$"
      ],
      "text/plain": [
       "                 d           \n",
       "k⋅(-Tₐ + T(t)) + ──(T(t)) = 0\n",
       "                 dt          "
      ]
     },
     "execution_count": 19,
     "metadata": {},
     "output_type": "execute_result"
    }
   ],
   "source": [
    "t,k,T0,Ta = sympy.symbols('t,k,T_0, T_a')\n",
    "T = sympy.Function('T')\n",
    "ode = T(t).diff(t) + k*(T(t)-Ta)\n",
    "sympy.Eq(ode,0)"
   ]
  },
  {
   "cell_type": "code",
   "execution_count": 20,
   "id": "124b0238",
   "metadata": {},
   "outputs": [
    {
     "data": {
      "image/png": "[encoded data removed]",
      "text/latex": [
       "$\\displaystyle T{\\left(t \\right)} = C_{1} e^{- k t} + T_{a}$"
      ],
      "text/plain": [
       "           -k⋅t     \n",
       "T(t) = C₁⋅ℯ     + Tₐ"
      ]
     },
     "execution_count": 20,
     "metadata": {},
     "output_type": "execute_result"
    }
   ],
   "source": [
    "ode_solution = sympy.dsolve(ode)\n",
    "ode_solution"
   ]
  },
  {
   "cell_type": "code",
   "execution_count": 21,
   "id": "285a3d2a",
   "metadata": {},
   "outputs": [
    {
     "data": {
      "image/png": "[encoded data removed]",
      "text/latex": [
       "$\\displaystyle T_{0} = C_{1} + T_{a}$"
      ],
      "text/plain": [
       "T₀ = C₁ + Tₐ"
      ]
     },
     "execution_count": 21,
     "metadata": {},
     "output_type": "execute_result"
    }
   ],
   "source": [
    "ics = {T(0):T0}\n",
    "#Get the equation resulting by sustituting t for 0 and T(0) for T0\n",
    "C_eq = ode_solution.subs(t,0).subs(ics)\n",
    "C_eq"
   ]
  },
  {
   "cell_type": "code",
   "execution_count": 22,
   "id": "19608372",
   "metadata": {},
   "outputs": [
    {
     "data": {
      "image/png": "[encoded data removed]",
      "text/latex": [
       "$\\displaystyle \\left[ \\left\\{ C_{1} : T_{0} - T_{a}\\right\\}\\right]$"
      ],
      "text/plain": [
       "[{C₁: T₀ - Tₐ}]"
      ]
     },
     "execution_count": 22,
     "metadata": {},
     "output_type": "execute_result"
    }
   ],
   "source": [
    "#Solve for C1\n",
    "C_sol = sympy.solve(C_eq)\n",
    "C_sol"
   ]
  },
  {
   "cell_type": "code",
   "execution_count": 23,
   "id": "785408ec",
   "metadata": {},
   "outputs": [
    {
     "data": {
      "image/png": "[encoded data removed]",
      "text/latex": [
       "$\\displaystyle T{\\left(t \\right)} = T_{a} + \\left(T_{0} - T_{a}\\right) e^{- k t}$"
      ],
      "text/plain": [
       "                       -k⋅t\n",
       "T(t) = Tₐ + (T₀ - Tₐ)⋅ℯ    "
      ]
     },
     "execution_count": 23,
     "metadata": {},
     "output_type": "execute_result"
    }
   ],
   "source": [
    "#plug the value for C1 into the ode solution\n",
    "ode_solution.subs(C_sol[0])"
   ]
  },
  {
   "cell_type": "code",
   "execution_count": 24,
   "id": "ecad384d",
   "metadata": {},
   "outputs": [
    {
     "data": {
      "image/png": "[encoded data removed]",
      "text/latex": [
       "$\\displaystyle T{\\left(t \\right)} = T_{a} + \\left(T_{0} - T_{a}\\right) e^{- k t}$"
      ],
      "text/plain": [
       "                       -k⋅t\n",
       "T(t) = Tₐ + (T₀ - Tₐ)⋅ℯ    "
      ]
     },
     "execution_count": 24,
     "metadata": {},
     "output_type": "execute_result"
    }
   ],
   "source": [
    "from odes import apply_ics\n",
    "# function to do the substitution\n",
    "apply_ics(ode_solution, ics, t, [k,Ta])"
   ]
  },
  {
   "cell_type": "code",
   "execution_count": 25,
   "id": "9b86c666",
   "metadata": {},
   "outputs": [
    {
     "data": {
      "image/png": "[encoded data removed]",
      "text/latex": [
       "$\\displaystyle 2 \\gamma \\omega_{0} \\frac{d}{d t} x{\\left(t \\right)} + \\omega_{0}^{2} x{\\left(t \\right)} + \\frac{d^{2}}{d t^{2}} x{\\left(t \\right)} = 0$"
      ],
      "text/plain": [
       "                               2          \n",
       "       d            2         d           \n",
       "2⋅γ⋅ω₀⋅──(x(t)) + ω₀ ⋅x(t) + ───(x(t)) = 0\n",
       "       dt                      2          \n",
       "                             dt           "
      ]
     },
     "execution_count": 25,
     "metadata": {},
     "output_type": "execute_result"
    }
   ],
   "source": [
    "# Solve a more complex ODE: damped harmonic oscillato\n",
    "t, omega0, gamma = sympy.symbols('t, omega_0, gamma', positive=True)\n",
    "x = sympy.Function(x)\n",
    "ode = x(t).diff(t,2) + 2*gamma*omega0*x(t).diff(t) + omega0**2*x(t)\n",
    "sympy.Eq(ode,0)"
   ]
  },
  {
   "cell_type": "code",
   "execution_count": 26,
   "id": "07c86b03",
   "metadata": {},
   "outputs": [
    {
     "data": {
      "image/png": "[encoded data removed]",
      "text/latex": [
       "$\\displaystyle x{\\left(t \\right)} = C_{1} e^{\\omega_{0} t \\left(- \\gamma + \\sqrt{\\gamma - 1} \\sqrt{\\gamma + 1}\\right)} + C_{2} e^{- \\omega_{0} t \\left(\\gamma + \\sqrt{\\gamma - 1} \\sqrt{\\gamma + 1}\\right)}$"
      ],
      "text/plain": [
       "                ⎛       _______   _______⎞             ⎛      _______   ______\n",
       "           ω₀⋅t⋅⎝-γ + ╲╱ γ - 1 ⋅╲╱ γ + 1 ⎠       -ω₀⋅t⋅⎝γ + ╲╱ γ - 1 ⋅╲╱ γ + 1\n",
       "x(t) = C₁⋅ℯ                                + C₂⋅ℯ                             \n",
       "\n",
       "_⎞\n",
       " ⎠\n",
       "  "
      ]
     },
     "execution_count": 26,
     "metadata": {},
     "output_type": "execute_result"
    }
   ],
   "source": [
    "harmonic_solution = sympy.dsolve(ode)\n",
    "harmonic_solution"
   ]
  },
  {
   "cell_type": "code",
   "execution_count": 27,
   "id": "a34aa4c2",
   "metadata": {},
   "outputs": [
    {
     "data": {
      "image/png": "[encoded data removed]",
      "text/latex": [
       "$\\displaystyle \\left\\{ x{\\left(0 \\right)} : 1, \\  \\left. \\frac{d}{d t} x{\\left(t \\right)} \\right|_{\\substack{ t=0 }} : 0\\right\\}$"
      ],
      "text/plain": [
       "⎧         ⎛d       ⎞│      ⎫\n",
       "⎨x(0): 1, ⎜──(x(t))⎟│   : 0⎬\n",
       "⎩         ⎝dt      ⎠│t=0   ⎭"
      ]
     },
     "execution_count": 27,
     "metadata": {},
     "output_type": "execute_result"
    }
   ],
   "source": [
    "ics = {x(0): 1, x(t).diff(t).subs(t,0): 0}\n",
    "ics"
   ]
  },
  {
   "cell_type": "code",
   "execution_count": 28,
   "id": "19bf12f0",
   "metadata": {},
   "outputs": [
    {
     "data": {
      "image/png": "[encoded data removed]",
      "text/latex": [
       "$\\displaystyle x{\\left(t \\right)} = \\left(- \\frac{\\gamma}{2 \\sqrt{\\gamma - 1} \\sqrt{\\gamma + 1}} + \\frac{1}{2}\\right) e^{- \\omega_{0} t \\left(\\gamma + \\sqrt{\\gamma - 1} \\sqrt{\\gamma + 1}\\right)} + \\left(\\frac{\\gamma}{2 \\sqrt{\\gamma - 1} \\sqrt{\\gamma + 1}} + \\frac{1}{2}\\right) e^{\\omega_{0} t \\left(- \\gamma + \\sqrt{\\gamma - 1} \\sqrt{\\gamma + 1}\\right)}$"
      ],
      "text/plain": [
       "                                            ⎛      _______   _______⎞         \n",
       "       ⎛            γ             1⎞  -ω₀⋅t⋅⎝γ + ╲╱ γ - 1 ⋅╲╱ γ + 1 ⎠   ⎛     \n",
       "x(t) = ⎜- ───────────────────── + ─⎟⋅ℯ                                + ⎜─────\n",
       "       ⎜      _______   _______   2⎟                                    ⎜    _\n",
       "       ⎝  2⋅╲╱ γ - 1 ⋅╲╱ γ + 1     ⎠                                    ⎝2⋅╲╱ \n",
       "\n",
       "                            ⎛       _______   _______⎞\n",
       "     γ             1⎞  ω₀⋅t⋅⎝-γ + ╲╱ γ - 1 ⋅╲╱ γ + 1 ⎠\n",
       "──────────────── + ─⎟⋅ℯ                               \n",
       "______   _______   2⎟                                 \n",
       "γ - 1 ⋅╲╱ γ + 1     ⎠                                 "
      ]
     },
     "execution_count": 28,
     "metadata": {},
     "output_type": "execute_result"
    }
   ],
   "source": [
    "x_t_sol = apply_ics(harmonic_solution, ics, t, [omega0,gamma])\n",
    "x_t_sol"
   ]
  },
  {
   "cell_type": "code",
   "execution_count": 29,
   "id": "313b3e8d",
   "metadata": {},
   "outputs": [
    {
     "data": {
      "image/png": "[encoded data removed]",
      "text/latex": [
       "$\\displaystyle \\left(\\omega_{0} t + 1\\right) e^{- \\omega_{0} t}$"
      ],
      "text/plain": [
       "            -ω₀⋅t\n",
       "(ω₀⋅t + 1)⋅ℯ     "
      ]
     },
     "execution_count": 29,
     "metadata": {},
     "output_type": "execute_result"
    }
   ],
   "source": [
    "x_t_critical = sympy.limit(x_t_sol.rhs, gamma, 1)\n",
    "x_t_critical"
   ]
  },
  {
   "cell_type": "code",
   "execution_count": 30,
   "id": "3d3e50ee",
   "metadata": {},
   "outputs": [
    {
     "data": {
      "text/plain": [
       "<matplotlib.legend.Legend at 0x1d83c089900>"
      ]
     },
     "execution_count": 30,
     "metadata": {},
     "output_type": "execute_result"
    },
    {
     "data": {
      "image/png": "[encoded data removed]",
      "text/plain": [
       "<Figure size 800x400 with 1 Axes>"
      ]
     },
     "metadata": {},
     "output_type": "display_data"
    }
   ],
   "source": [
    "import numpy as np\n",
    "import matplotlib.pyplot as plt\n",
    "\n",
    "fig,ax = plt.subplots(figsize=(8,4))\n",
    "tt = np.linspace(0,3,250)\n",
    "w0 = 2*sympy.pi\n",
    "for g in [0.1, 0.5, 1, 2.0, 5.0]:\n",
    "    if g == 1:\n",
    "        x_t = sympy.lambdify(t,x_t_critical.subs({omega0: w0}), 'numpy')\n",
    "    else:\n",
    "        x_t = sympy.lambdify(t,x_t_sol.rhs.subs({omega0: w0, gamma: g}), 'numpy')\n",
    "    ax.plot(tt, x_t(tt).real, label=r'$γ = %.1f$' % g)\n",
    "\n",
    "ax.set_xlabel(r'$t$', fontsize=18)\n",
    "ax.set_ylabel(r'$x(t)$', fontsize=18)\n",
    "ax.legend()"
   ]
  },
  {
   "cell_type": "code",
   "execution_count": 31,
   "id": "78f7e8e8",
   "metadata": {},
   "outputs": [
    {
     "data": {
      "image/png": "[encoded data removed]",
      "text/latex": [
       "$\\displaystyle \\frac{d}{d x} y{\\left(x \\right)} = x + y^{2}{\\left(x \\right)}$"
      ],
      "text/plain": [
       "d               2   \n",
       "──(y(x)) = x + y (x)\n",
       "dx                  "
      ]
     },
     "execution_count": 31,
     "metadata": {},
     "output_type": "execute_result"
    }
   ],
   "source": [
    "# In this example, sympy can only find an approximation\n",
    "x = sympy.symbols('x')\n",
    "y = sympy.Function('y')\n",
    "f = y(x)**2+x\n",
    "sympy.Eq(y(x).diff(x), f)"
   ]
  },
  {
   "cell_type": "code",
   "execution_count": 32,
   "id": "e4230a4e",
   "metadata": {},
   "outputs": [
    {
     "ename": "TypeError",
     "evalue": "bad operand type for unary -: 'list'",
     "output_type": "error",
     "traceback": [
      "\u001b[1;31m---------------------------------------------------------------------------\u001b[0m",
      "\u001b[1;31mTypeError\u001b[0m                                 Traceback (most recent call last)",
      "Cell \u001b[1;32mIn [32], line 1\u001b[0m\n\u001b[1;32m----> 1\u001b[0m \u001b[43msympy\u001b[49m\u001b[38;5;241;43m.\u001b[39;49m\u001b[43mdsolve\u001b[49m\u001b[43m(\u001b[49m\u001b[43my\u001b[49m\u001b[43m(\u001b[49m\u001b[43mx\u001b[49m\u001b[43m)\u001b[49m\u001b[38;5;241;43m.\u001b[39;49m\u001b[43mdiff\u001b[49m\u001b[43m(\u001b[49m\u001b[43mx\u001b[49m\u001b[43m)\u001b[49m\u001b[43m \u001b[49m\u001b[38;5;241;43m-\u001b[39;49m\u001b[43m \u001b[49m\u001b[43mf\u001b[49m\u001b[43m)\u001b[49m\n",
      "File \u001b[1;32m~\\anaconda3\\envs\\computational-physics\\lib\\site-packages\\sympy\\solvers\\ode\\ode.py:640\u001b[0m, in \u001b[0;36mdsolve\u001b[1;34m(eq, func, hint, simplify, ics, xi, eta, x0, n, **kwargs)\u001b[0m\n\u001b[0;32m    637\u001b[0m \u001b[38;5;28;01melse\u001b[39;00m:\n\u001b[0;32m    638\u001b[0m     \u001b[38;5;66;03m# The key 'hint' stores the hint needed to be solved for.\u001b[39;00m\n\u001b[0;32m    639\u001b[0m     hint \u001b[38;5;241m=\u001b[39m hints[\u001b[38;5;124m'\u001b[39m\u001b[38;5;124mhint\u001b[39m\u001b[38;5;124m'\u001b[39m]\n\u001b[1;32m--> 640\u001b[0m     \u001b[38;5;28;01mreturn\u001b[39;00m \u001b[43m_helper_simplify\u001b[49m\u001b[43m(\u001b[49m\u001b[43meq\u001b[49m\u001b[43m,\u001b[49m\u001b[43m \u001b[49m\u001b[43mhint\u001b[49m\u001b[43m,\u001b[49m\u001b[43m \u001b[49m\u001b[43mhints\u001b[49m\u001b[43m,\u001b[49m\u001b[43m \u001b[49m\u001b[43msimplify\u001b[49m\u001b[43m,\u001b[49m\u001b[43m \u001b[49m\u001b[43mics\u001b[49m\u001b[38;5;241;43m=\u001b[39;49m\u001b[43mics\u001b[49m\u001b[43m)\u001b[49m\n",
      "File \u001b[1;32m~\\anaconda3\\envs\\computational-physics\\lib\\site-packages\\sympy\\solvers\\ode\\ode.py:669\u001b[0m, in \u001b[0;36m_helper_simplify\u001b[1;34m(eq, hint, match, simplify, ics, **kwargs)\u001b[0m\n\u001b[0;32m    664\u001b[0m \u001b[38;5;28;01mif\u001b[39;00m simplify:\n\u001b[0;32m    665\u001b[0m     \u001b[38;5;66;03m# odesimp() will attempt to integrate, if necessary, apply constantsimp(),\u001b[39;00m\n\u001b[0;32m    666\u001b[0m     \u001b[38;5;66;03m# attempt to solve for func, and apply any other hint specific\u001b[39;00m\n\u001b[0;32m    667\u001b[0m     \u001b[38;5;66;03m# simplifications\u001b[39;00m\n\u001b[0;32m    668\u001b[0m     \u001b[38;5;28;01mif\u001b[39;00m \u001b[38;5;28misinstance\u001b[39m(solvefunc, SingleODESolver):\n\u001b[1;32m--> 669\u001b[0m         sols \u001b[38;5;241m=\u001b[39m \u001b[43msolvefunc\u001b[49m\u001b[38;5;241;43m.\u001b[39;49m\u001b[43mget_general_solution\u001b[49m\u001b[43m(\u001b[49m\u001b[43m)\u001b[49m\n\u001b[0;32m    670\u001b[0m     \u001b[38;5;28;01melse\u001b[39;00m:\n\u001b[0;32m    671\u001b[0m         sols \u001b[38;5;241m=\u001b[39m solvefunc(eq, func, order, match)\n",
      "File \u001b[1;32m~\\anaconda3\\envs\\computational-physics\\lib\\site-packages\\sympy\\solvers\\ode\\single.py:285\u001b[0m, in \u001b[0;36mSingleODESolver.get_general_solution\u001b[1;34m(self, simplify)\u001b[0m\n\u001b[0;32m    283\u001b[0m     msg \u001b[38;5;241m=\u001b[39m \u001b[38;5;124m\"\u001b[39m\u001b[38;5;132;01m%s\u001b[39;00m\u001b[38;5;124m solver cannot solve:\u001b[39m\u001b[38;5;130;01m\\n\u001b[39;00m\u001b[38;5;132;01m%s\u001b[39;00m\u001b[38;5;124m\"\u001b[39m\n\u001b[0;32m    284\u001b[0m     \u001b[38;5;28;01mraise\u001b[39;00m ODEMatchError(msg \u001b[38;5;241m%\u001b[39m (\u001b[38;5;28mself\u001b[39m\u001b[38;5;241m.\u001b[39mhint, \u001b[38;5;28mself\u001b[39m\u001b[38;5;241m.\u001b[39mode_problem\u001b[38;5;241m.\u001b[39meq))\n\u001b[1;32m--> 285\u001b[0m \u001b[38;5;28;01mreturn\u001b[39;00m \u001b[38;5;28;43mself\u001b[39;49m\u001b[38;5;241;43m.\u001b[39;49m\u001b[43m_get_general_solution\u001b[49m\u001b[43m(\u001b[49m\u001b[43msimplify_flag\u001b[49m\u001b[38;5;241;43m=\u001b[39;49m\u001b[43msimplify\u001b[49m\u001b[43m)\u001b[49m\n",
      "File \u001b[1;32m~\\anaconda3\\envs\\computational-physics\\lib\\site-packages\\sympy\\solvers\\ode\\single.py:1045\u001b[0m, in \u001b[0;36mRationalRiccati._get_general_solution\u001b[1;34m(self, simplify_flag)\u001b[0m\n\u001b[0;32m   1043\u001b[0m fx \u001b[38;5;241m=\u001b[39m \u001b[38;5;28mself\u001b[39m\u001b[38;5;241m.\u001b[39mode_problem\u001b[38;5;241m.\u001b[39mfunc\n\u001b[0;32m   1044\u001b[0m x \u001b[38;5;241m=\u001b[39m \u001b[38;5;28mself\u001b[39m\u001b[38;5;241m.\u001b[39mode_problem\u001b[38;5;241m.\u001b[39msym\n\u001b[1;32m-> 1045\u001b[0m \u001b[38;5;28;01mreturn\u001b[39;00m \u001b[43msolve_riccati\u001b[49m\u001b[43m(\u001b[49m\u001b[43mfx\u001b[49m\u001b[43m,\u001b[49m\u001b[43m \u001b[49m\u001b[43mx\u001b[49m\u001b[43m,\u001b[49m\u001b[43m \u001b[49m\u001b[43mb0\u001b[49m\u001b[43m,\u001b[49m\u001b[43m \u001b[49m\u001b[43mb1\u001b[49m\u001b[43m,\u001b[49m\u001b[43m \u001b[49m\u001b[43mb2\u001b[49m\u001b[43m,\u001b[49m\u001b[43m \u001b[49m\u001b[43mgensol\u001b[49m\u001b[38;5;241;43m=\u001b[39;49m\u001b[38;5;28;43;01mTrue\u001b[39;49;00m\u001b[43m)\u001b[49m\n",
      "File \u001b[1;32m~\\anaconda3\\envs\\computational-physics\\lib\\site-packages\\sympy\\solvers\\ode\\riccati.py:892\u001b[0m, in \u001b[0;36msolve_riccati\u001b[1;34m(fx, x, b0, b1, b2, gensol)\u001b[0m\n\u001b[0;32m    889\u001b[0m     sols \u001b[38;5;241m=\u001b[39m [get_gen_sol_from_part_sol(sols, a, x)]\n\u001b[0;32m    891\u001b[0m \u001b[38;5;66;03m# Inverse transform the particular solutions\u001b[39;00m\n\u001b[1;32m--> 892\u001b[0m presol \u001b[38;5;241m=\u001b[39m [Eq(fx, riccati_inverse_normal(y, x, b1, b2, bp)\u001b[38;5;241m.\u001b[39mcancel(extension\u001b[38;5;241m=\u001b[39m\u001b[38;5;28;01mTrue\u001b[39;00m)) \u001b[38;5;28;01mfor\u001b[39;00m y \u001b[38;5;129;01min\u001b[39;00m sols]\n\u001b[0;32m    893\u001b[0m \u001b[38;5;28;01mreturn\u001b[39;00m presol\n",
      "File \u001b[1;32m~\\anaconda3\\envs\\computational-physics\\lib\\site-packages\\sympy\\solvers\\ode\\riccati.py:892\u001b[0m, in \u001b[0;36m<listcomp>\u001b[1;34m(.0)\u001b[0m\n\u001b[0;32m    889\u001b[0m     sols \u001b[38;5;241m=\u001b[39m [get_gen_sol_from_part_sol(sols, a, x)]\n\u001b[0;32m    891\u001b[0m \u001b[38;5;66;03m# Inverse transform the particular solutions\u001b[39;00m\n\u001b[1;32m--> 892\u001b[0m presol \u001b[38;5;241m=\u001b[39m [Eq(fx, \u001b[43mriccati_inverse_normal\u001b[49m\u001b[43m(\u001b[49m\u001b[43my\u001b[49m\u001b[43m,\u001b[49m\u001b[43m \u001b[49m\u001b[43mx\u001b[49m\u001b[43m,\u001b[49m\u001b[43m \u001b[49m\u001b[43mb1\u001b[49m\u001b[43m,\u001b[49m\u001b[43m \u001b[49m\u001b[43mb2\u001b[49m\u001b[43m,\u001b[49m\u001b[43m \u001b[49m\u001b[43mbp\u001b[49m\u001b[43m)\u001b[49m\u001b[38;5;241m.\u001b[39mcancel(extension\u001b[38;5;241m=\u001b[39m\u001b[38;5;28;01mTrue\u001b[39;00m)) \u001b[38;5;28;01mfor\u001b[39;00m y \u001b[38;5;129;01min\u001b[39;00m sols]\n\u001b[0;32m    893\u001b[0m \u001b[38;5;28;01mreturn\u001b[39;00m presol\n",
      "File \u001b[1;32m~\\anaconda3\\envs\\computational-physics\\lib\\site-packages\\sympy\\solvers\\ode\\riccati.py:246\u001b[0m, in \u001b[0;36mriccati_inverse_normal\u001b[1;34m(y, x, b1, b2, bp)\u001b[0m\n\u001b[0;32m    244\u001b[0m     bp \u001b[38;5;241m=\u001b[39m \u001b[38;5;241m-\u001b[39mb2\u001b[38;5;241m.\u001b[39mdiff(x)\u001b[38;5;241m/\u001b[39m(\u001b[38;5;241m2\u001b[39m\u001b[38;5;241m*\u001b[39mb2\u001b[38;5;241m*\u001b[39m\u001b[38;5;241m*\u001b[39m\u001b[38;5;241m2\u001b[39m) \u001b[38;5;241m-\u001b[39m b1\u001b[38;5;241m/\u001b[39m(\u001b[38;5;241m2\u001b[39m\u001b[38;5;241m*\u001b[39mb2)\n\u001b[0;32m    245\u001b[0m \u001b[38;5;66;03m# w(x) = -y(x)/b2(x) - b2'(x)/(2*b2(x)^2) - b1(x)/(2*b2(x))\u001b[39;00m\n\u001b[1;32m--> 246\u001b[0m \u001b[38;5;28;01mreturn\u001b[39;00m \u001b[38;5;241;43m-\u001b[39;49m\u001b[43my\u001b[49m\u001b[38;5;241m/\u001b[39mb2 \u001b[38;5;241m+\u001b[39m bp\n",
      "\u001b[1;31mTypeError\u001b[0m: bad operand type for unary -: 'list'"
     ]
    }
   ],
   "source": [
    "sympy.dsolve(y(x).diff(x) - f)"
   ]
  },
  {
   "cell_type": "code",
   "execution_count": 33,
   "id": "ec35a49f",
   "metadata": {},
   "outputs": [
    {
     "ename": "NotImplementedError",
     "evalue": "solve: Cannot solve -x - y(x)**2 + Derivative(y(x), (x, 2))",
     "output_type": "error",
     "traceback": [
      "\u001b[1;31m---------------------------------------------------------------------------\u001b[0m",
      "\u001b[1;31mNotImplementedError\u001b[0m                       Traceback (most recent call last)",
      "Cell \u001b[1;32mIn [33], line 2\u001b[0m\n\u001b[0;32m      1\u001b[0m \u001b[38;5;66;03m# In this example, sympy cannot find anything\u001b[39;00m\n\u001b[1;32m----> 2\u001b[0m \u001b[43msympy\u001b[49m\u001b[38;5;241;43m.\u001b[39;49m\u001b[43mdsolve\u001b[49m\u001b[43m(\u001b[49m\u001b[43my\u001b[49m\u001b[43m(\u001b[49m\u001b[43mx\u001b[49m\u001b[43m)\u001b[49m\u001b[38;5;241;43m.\u001b[39;49m\u001b[43mdiff\u001b[49m\u001b[43m(\u001b[49m\u001b[43mx\u001b[49m\u001b[43m,\u001b[49m\u001b[38;5;241;43m2\u001b[39;49m\u001b[43m)\u001b[49m\u001b[43m \u001b[49m\u001b[38;5;241;43m-\u001b[39;49m\u001b[43m \u001b[49m\u001b[43mf\u001b[49m\u001b[43m)\u001b[49m\n",
      "File \u001b[1;32m~\\anaconda3\\envs\\computational-physics\\lib\\site-packages\\sympy\\solvers\\ode\\ode.py:605\u001b[0m, in \u001b[0;36mdsolve\u001b[1;34m(eq, func, hint, simplify, ics, xi, eta, x0, n, **kwargs)\u001b[0m\n\u001b[0;32m    602\u001b[0m given_hint \u001b[38;5;241m=\u001b[39m hint  \u001b[38;5;66;03m# hint given by the user\u001b[39;00m\n\u001b[0;32m    604\u001b[0m \u001b[38;5;66;03m# See the docstring of _desolve for more details.\u001b[39;00m\n\u001b[1;32m--> 605\u001b[0m hints \u001b[38;5;241m=\u001b[39m _desolve(eq, func\u001b[38;5;241m=\u001b[39mfunc,\n\u001b[0;32m    606\u001b[0m     hint\u001b[38;5;241m=\u001b[39mhint, simplify\u001b[38;5;241m=\u001b[39m\u001b[38;5;28;01mTrue\u001b[39;00m, xi\u001b[38;5;241m=\u001b[39mxi, eta\u001b[38;5;241m=\u001b[39meta, \u001b[38;5;28mtype\u001b[39m\u001b[38;5;241m=\u001b[39m\u001b[38;5;124m'\u001b[39m\u001b[38;5;124mode\u001b[39m\u001b[38;5;124m'\u001b[39m, ics\u001b[38;5;241m=\u001b[39mics,\n\u001b[0;32m    607\u001b[0m     x0\u001b[38;5;241m=\u001b[39mx0, n\u001b[38;5;241m=\u001b[39mn, \u001b[38;5;241m*\u001b[39m\u001b[38;5;241m*\u001b[39mkwargs)\n\u001b[0;32m    608\u001b[0m eq \u001b[38;5;241m=\u001b[39m hints\u001b[38;5;241m.\u001b[39mpop(\u001b[38;5;124m'\u001b[39m\u001b[38;5;124meq\u001b[39m\u001b[38;5;124m'\u001b[39m, eq)\n\u001b[0;32m    609\u001b[0m all_ \u001b[38;5;241m=\u001b[39m hints\u001b[38;5;241m.\u001b[39mpop(\u001b[38;5;124m'\u001b[39m\u001b[38;5;124mall\u001b[39m\u001b[38;5;124m'\u001b[39m, \u001b[38;5;28;01mFalse\u001b[39;00m)\n",
      "File \u001b[1;32m~\\anaconda3\\envs\\computational-physics\\lib\\site-packages\\sympy\\solvers\\deutils.py:241\u001b[0m, in \u001b[0;36m_desolve\u001b[1;34m(eq, func, hint, ics, simplify, prep, **kwargs)\u001b[0m\n\u001b[0;32m    238\u001b[0m         \u001b[38;5;28;01mraise\u001b[39;00m \u001b[38;5;167;01mValueError\u001b[39;00m(\n\u001b[0;32m    239\u001b[0m             \u001b[38;5;28mstr\u001b[39m(eq) \u001b[38;5;241m+\u001b[39m \u001b[38;5;124m\"\u001b[39m\u001b[38;5;124m is not a solvable differential equation in \u001b[39m\u001b[38;5;124m\"\u001b[39m \u001b[38;5;241m+\u001b[39m \u001b[38;5;28mstr\u001b[39m(func))\n\u001b[0;32m    240\u001b[0m     \u001b[38;5;28;01melse\u001b[39;00m:\n\u001b[1;32m--> 241\u001b[0m         \u001b[38;5;28;01mraise\u001b[39;00m \u001b[38;5;167;01mNotImplementedError\u001b[39;00m(dummy \u001b[38;5;241m+\u001b[39m \u001b[38;5;124m\"\u001b[39m\u001b[38;5;124msolve\u001b[39m\u001b[38;5;124m\"\u001b[39m \u001b[38;5;241m+\u001b[39m \u001b[38;5;124m\"\u001b[39m\u001b[38;5;124m: Cannot solve \u001b[39m\u001b[38;5;124m\"\u001b[39m \u001b[38;5;241m+\u001b[39m \u001b[38;5;28mstr\u001b[39m(eq))\n\u001b[0;32m    242\u001b[0m \u001b[38;5;28;01mif\u001b[39;00m hint \u001b[38;5;241m==\u001b[39m \u001b[38;5;124m'\u001b[39m\u001b[38;5;124mdefault\u001b[39m\u001b[38;5;124m'\u001b[39m:\n\u001b[0;32m    243\u001b[0m     \u001b[38;5;28;01mreturn\u001b[39;00m _desolve(eq, func, ics\u001b[38;5;241m=\u001b[39mics, hint\u001b[38;5;241m=\u001b[39mhints[\u001b[38;5;124m'\u001b[39m\u001b[38;5;124mdefault\u001b[39m\u001b[38;5;124m'\u001b[39m], simplify\u001b[38;5;241m=\u001b[39msimplify,\n\u001b[0;32m    244\u001b[0m                   prep\u001b[38;5;241m=\u001b[39mprep, x0\u001b[38;5;241m=\u001b[39mx0, classify\u001b[38;5;241m=\u001b[39m\u001b[38;5;28;01mFalse\u001b[39;00m, order\u001b[38;5;241m=\u001b[39mhints[\u001b[38;5;124m'\u001b[39m\u001b[38;5;124morder\u001b[39m\u001b[38;5;124m'\u001b[39m],\n\u001b[0;32m    245\u001b[0m                   match\u001b[38;5;241m=\u001b[39mhints[hints[\u001b[38;5;124m'\u001b[39m\u001b[38;5;124mdefault\u001b[39m\u001b[38;5;124m'\u001b[39m]], xi\u001b[38;5;241m=\u001b[39mxi, eta\u001b[38;5;241m=\u001b[39meta, n\u001b[38;5;241m=\u001b[39mterms, \u001b[38;5;28mtype\u001b[39m\u001b[38;5;241m=\u001b[39m\u001b[38;5;28mtype\u001b[39m)\n",
      "\u001b[1;31mNotImplementedError\u001b[0m: solve: Cannot solve -x - y(x)**2 + Derivative(y(x), (x, 2))"
     ]
    }
   ],
   "source": [
    "# In this example, sympy cannot find anything\n",
    "sympy.dsolve(y(x).diff(x,2) - f)"
   ]
  },
  {
   "cell_type": "markdown",
   "id": "007d339d",
   "metadata": {},
   "source": [
    "# Parsing"
   ]
  },
  {
   "cell_type": "code",
   "execution_count": 34,
   "id": "0baf9559",
   "metadata": {},
   "outputs": [],
   "source": [
    "from sympy.parsing.sympy_parser import parse_expr"
   ]
  },
  {
   "cell_type": "code",
   "execution_count": 35,
   "id": "d70239ae",
   "metadata": {},
   "outputs": [
    {
     "data": {
      "image/png": "[encoded data removed]",
      "text/latex": [
       "$\\displaystyle X^{2} + 1$"
      ],
      "text/plain": [
       " 2    \n",
       "X  + 1"
      ]
     },
     "execution_count": 35,
     "metadata": {},
     "output_type": "execute_result"
    }
   ],
   "source": [
    "# Parse an expression from a string\n",
    "f = parse_expr(\"X**2+1\")\n",
    "f"
   ]
  },
  {
   "cell_type": "code",
   "execution_count": 36,
   "id": "a49543c0",
   "metadata": {},
   "outputs": [],
   "source": [
    "# Turn it into a function\n",
    "from sympy import symbols, lambdify\n",
    "\n",
    "X = symbols('X')\n",
    "F = lambdify(X, f, 'numpy')"
   ]
  },
  {
   "cell_type": "code",
   "execution_count": 37,
   "id": "4c765556",
   "metadata": {},
   "outputs": [
    {
     "name": "stdout",
     "output_type": "stream",
     "text": [
      "[0.  0.2 0.4 0.6 0.8 1. ]\n"
     ]
    }
   ],
   "source": [
    "x = np.linspace(0, 1, 6)\n",
    "print(x)"
   ]
  },
  {
   "cell_type": "code",
   "execution_count": 38,
   "id": "22e3ee32",
   "metadata": {},
   "outputs": [
    {
     "name": "stdout",
     "output_type": "stream",
     "text": [
      "[1.   1.04 1.16 1.36 1.64 2.  ]\n"
     ]
    }
   ],
   "source": [
    "#Evaluate the function\n",
    "print(F(x))"
   ]
  },
  {
   "cell_type": "code",
   "execution_count": null,
   "id": "7574d5db",
   "metadata": {},
   "outputs": [],
   "source": []
  }
 ],
 "metadata": {
  "kernelspec": {
   "display_name": "computational-physics",
   "language": "python",
   "name": "computational-physics"
  },
  "language_info": {
   "codemirror_mode": {
    "name": "ipython",
    "version": 3
   },
   "file_extension": ".py",
   "mimetype": "text/x-python",
   "name": "python",
   "nbconvert_exporter": "python",
   "pygments_lexer": "ipython3",
   "version": "3.10.6"
  }
 },
 "nbformat": 4,
 "nbformat_minor": 5
}
