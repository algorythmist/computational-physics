{
 "cells": [
  {
   "cell_type": "code",
   "execution_count": 1,
   "id": "594b59d0",
   "metadata": {},
   "outputs": [],
   "source": [
    "import numpy as np\n",
    "from numpy import polynomial as poly\n",
    "import matplotlib.pyplot as plt"
   ]
  },
  {
   "cell_type": "code",
   "execution_count": 2,
   "id": "f7b4e9e6",
   "metadata": {},
   "outputs": [
    {
     "data": {
      "text/latex": [
       "$x \\mapsto \\text{1.0} + \\text{2.0}\\,x + \\text{3.0}\\,x^{2}$"
      ],
      "text/plain": [
       "Polynomial([1., 2., 3.], domain=[-1,  1], window=[-1,  1])"
      ]
     },
     "execution_count": 2,
     "metadata": {},
     "output_type": "execute_result"
    }
   ],
   "source": [
    "p1 = poly.Polynomial([1,2,3])\n",
    "p1"
   ]
  },
  {
   "cell_type": "code",
   "execution_count": 3,
   "id": "b166d94d",
   "metadata": {},
   "outputs": [
    {
     "data": {
      "text/plain": [
       "array([-0.33333333-0.47140452j, -0.33333333+0.47140452j])"
      ]
     },
     "execution_count": 3,
     "metadata": {},
     "output_type": "execute_result"
    }
   ],
   "source": [
    "p1.roots()"
   ]
  },
  {
   "cell_type": "code",
   "execution_count": 4,
   "id": "40e8c2b1",
   "metadata": {},
   "outputs": [
    {
     "data": {
      "text/plain": [
       "array([-1,  1])"
      ]
     },
     "execution_count": 4,
     "metadata": {},
     "output_type": "execute_result"
    }
   ],
   "source": [
    "p1.domain"
   ]
  },
  {
   "cell_type": "code",
   "execution_count": 5,
   "id": "f8ac8be9",
   "metadata": {},
   "outputs": [
    {
     "data": {
      "text/latex": [
       "$x \\mapsto \\text{-1.0}\\color{LightGray}{ + \\text{0.0}\\,x} + \\text{1.0}\\,x^{2}$"
      ],
      "text/plain": [
       "Polynomial([-1.,  0.,  1.], domain=[-1.,  1.], window=[-1.,  1.])"
      ]
     },
     "execution_count": 5,
     "metadata": {},
     "output_type": "execute_result"
    }
   ],
   "source": [
    "p2 = poly.Polynomial.fromroots([-1,1])\n",
    "p2"
   ]
  },
  {
   "cell_type": "code",
   "execution_count": 6,
   "id": "c6a22394",
   "metadata": {},
   "outputs": [
    {
     "data": {
      "text/latex": [
       "$x \\mapsto \\text{3.0} - \\text{4.0}\\,x + \\text{1.0}\\,x^{2}$"
      ],
      "text/plain": [
       "Polynomial([ 3., -4.,  1.], domain=[-1.,  1.], window=[-1.,  1.])"
      ]
     },
     "execution_count": 6,
     "metadata": {},
     "output_type": "execute_result"
    }
   ],
   "source": [
    "# Division\n",
    "p1 = poly.Polynomial.fromroots([1,2,3])\n",
    "p2 = poly.Polynomial.fromroots([2])\n",
    "p1 // p2"
   ]
  },
  {
   "cell_type": "code",
   "execution_count": 7,
   "id": "036d4e77",
   "metadata": {},
   "outputs": [],
   "source": [
    "def plot_polynomial(p, points=100):\n",
    "    x = np.linspace(p.domain[0], p.domain[1], points)\n",
    "    return plt.plot(x, p(x))"
   ]
  },
  {
   "cell_type": "code",
   "execution_count": 9,
   "id": "e2569aac",
   "metadata": {},
   "outputs": [
    {
     "data": {
      "image/png": "[encoded data removed]",
      "text/plain": [
       "<Figure size 432x288 with 1 Axes>"
      ]
     },
     "metadata": {
      "needs_background": "light"
     },
     "output_type": "display_data"
    }
   ],
   "source": [
    "ppl = plot_polynomial(poly.Polynomial.fromroots([-0.7,-0.2, 0.3, 0.7]))"
   ]
  },
  {
   "cell_type": "code",
   "execution_count": null,
   "id": "dc3cce16",
   "metadata": {},
   "outputs": [],
   "source": []
  }
 ],
 "metadata": {
  "kernelspec": {
   "display_name": "computational-physics",
   "language": "python",
   "name": "computational-physics"
  },
  "language_info": {
   "codemirror_mode": {
    "name": "ipython",
    "version": 3
   },
   "file_extension": ".py",
   "mimetype": "text/x-python",
   "name": "python",
   "nbconvert_exporter": "python",
   "pygments_lexer": "ipython3",
   "version": "3.9.7"
  }
 },
 "nbformat": 4,
 "nbformat_minor": 5
}
