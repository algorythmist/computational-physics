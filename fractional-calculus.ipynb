{
 "cells": [
  {
   "cell_type": "markdown",
   "id": "0227385b",
   "metadata": {},
   "source": [
    "# Fractional Calculus"
   ]
  },
  {
   "cell_type": "markdown",
   "id": "54450f97",
   "metadata": {},
   "source": [
    "Define a vector space of continuous functions $F$ such that $f(0) = 0$. \n",
    "\n",
    "Define the linear operator $I: F\\rightarrow F$ by\n",
    "\n",
    "$$\n",
    "(If)(x) := \\int_0^x f(t)dt\n",
    "$$"
   ]
  },
  {
   "cell_type": "markdown",
   "id": "51fc3f7a",
   "metadata": {},
   "source": [
    "Continuous applications of this operator are denoted as $I^nf$."
   ]
  },
  {
   "cell_type": "markdown",
   "id": "eabcb9be",
   "metadata": {},
   "source": [
    "## Cauchy formula\n",
    "\n",
    "$$\n",
    "I^n f(x) = \\frac{1}{(n-1)!}\\int_0^x (x-t)^{n-1}f(t)dt\n",
    "$$\n",
    "\n",
    "#### Proof\n",
    "\n",
    "Let $F(x) := If(x)$ be the anti-derivative of $f$.\n",
    "\n",
    "\\begin{eqnarray}\n",
    "\\int_0^x (x-t)^n f(t)dt &=& \\int_0^x (x-t)^n dF(t)\\\\\n",
    "&=& F(t)(x-t)^n \\bigg|_0^x + \\int_0^x F(t) d(x-t)^n\\\\\n",
    "&=& n\\int_0^x F(t) (x-t)^{n-1}\\\\\n",
    "&=& n(n-1)! I^n F(x)\\\\\n",
    "&=& n! I^{n+1} f(x)\n",
    "\\end{eqnarray}\n",
    "\n",
    "\n",
    "see also https://en.wikipedia.org/wiki/Cauchy_formula_for_repeated_integration"
   ]
  },
  {
   "cell_type": "markdown",
   "id": "33640641",
   "metadata": {},
   "source": [
    "### Gamma Function\n",
    "\n",
    "$$\n",
    "\\Gamma(z) := \\int_0^\\infty t^{z-1}e^{-t}dt\n",
    "$$\n",
    "\n",
    "#### Proposition\n",
    "For any integer $n$, $\\Gamma(n) = (n-1)!$\n",
    "\n",
    "#### Proof\n",
    "Induction. $\\Gamma(1) = 1$.\n",
    "\n",
    "\\begin{eqnarray}\n",
    "\\Gamma(n) &=& \\int_0^\\infty t^{n-1}e^{-t}dt\\\\\n",
    "&=& - \\int_0^\\infty t^{n-1}de^{-t}\\\\ \n",
    "&=&-e^{-t}t^{n-1}\\bigg|_{0}^{\\infty} + \\int_0^\\infty e^{-t}d t^{n-1}\\\\\n",
    "&=& (n-1) \\int_0^\\infty t^{n-2}e^{-t}dt\\\\\n",
    "&=& (n-1)\\Gamma(n-1)\n",
    "\\end{eqnarray}\n"
   ]
  },
  {
   "cell_type": "markdown",
   "id": "7785bfd5",
   "metadata": {},
   "source": [
    "### Fractional Integral\n",
    "\n",
    "Replace the factorial with the Gamma function in the Cauchy formula\n",
    "\n",
    "$$\n",
    "I^a f(x) = \\frac{1}{\\Gamma(a)}\\int_0^x (x-t)^{a-1} f(t)dt  \n",
    "$$"
   ]
  },
  {
   "cell_type": "markdown",
   "id": "76a25043",
   "metadata": {},
   "source": [
    "### Fractional Derivative\n",
    "\n",
    "We want to preserve the rule $(D^a I^a)f = f$, so that $I^{-a} = D^a$.\n",
    "\n",
    "Observe then that $D^a = D^{\\lceil a \\rceil + a - \\lceil a \\rceil} = D^{\\lceil a \\rceil}I^{\\lceil a \\rceil - a}$\n",
    "\n",
    "Therefore\n",
    "\n",
    "$$\n",
    "D^a f(x) := \\frac{1}{\\Gamma(\\lceil a \\rceil - a)} D^{\\lceil a \\rceil} \\int_0^x (x-t)^{\\lceil a \\rceil - a-1} f(t)dt\n",
    "$$\n",
    "\n",
    "For $0<a<1$\n",
    "\n",
    "$$\n",
    "D^a f(x) = \\frac{1}{\\Gamma(1-a)}\\int_0^x (x-t)^{-a}f(t)dt\n",
    "$$\n",
    "\n",
    "\n",
    "See also https://en.wikipedia.org/wiki/Fractional_calculus"
   ]
  },
  {
   "cell_type": "code",
   "execution_count": null,
   "id": "6cd211e6",
   "metadata": {},
   "outputs": [],
   "source": []
  }
 ],
 "metadata": {
  "kernelspec": {
   "display_name": "computational-physics",
   "language": "python",
   "name": "computational-physics"
  },
  "language_info": {
   "codemirror_mode": {
    "name": "ipython",
    "version": 3
   },
   "file_extension": ".py",
   "mimetype": "text/x-python",
   "name": "python",
   "nbconvert_exporter": "python",
   "pygments_lexer": "ipython3",
   "version": "3.9.10"
  }
 },
 "nbformat": 4,
 "nbformat_minor": 5
}
