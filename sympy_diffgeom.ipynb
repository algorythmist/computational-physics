{
 "cells": [
  {
   "cell_type": "markdown",
   "id": "491bad68",
   "metadata": {},
   "source": [
    "## Differential Geometry"
   ]
  },
  {
   "cell_type": "code",
   "execution_count": 1,
   "id": "c6bbced9",
   "metadata": {},
   "outputs": [],
   "source": [
    "from sympy import symbols, pi, sqrt, atan2, cos, sin\n",
    "from sympy.diffgeom import Manifold, Patch, CoordSystem\n",
    "\n",
    "# define a manifold and a coordinate patch\n",
    "manifold = Manifold('M', 2)\n",
    "patch = Patch('P', manifold)\n",
    "\n",
    "x, y = symbols('x y', real=True)\n",
    "r, theta = symbols('r theta', nonnegative=True)\n",
    "\n",
    "# Define the transformations from cartesian to polar and vice versa\n",
    "relation_dict = {\n",
    "('Car2D', 'Pol'): [(x, y), (sqrt(x**2 + y**2), atan2(y, x))],\n",
    "('Pol', 'Car2D'): [(r, theta), (r*cos(theta), r*sin(theta))]\n",
    "}\n",
    "\n",
    "\n",
    "# Define the two coordinate systems\n",
    "Car2D = CoordSystem('Car2D', patch, (x, y), relation_dict)\n",
    "Pol = CoordSystem('Pol', patch, (r, theta), relation_dict)"
   ]
  },
  {
   "cell_type": "code",
   "execution_count": 2,
   "id": "7c0c3338",
   "metadata": {},
   "outputs": [
    {
     "data": {
      "text/latex": [
       "$\\displaystyle \\left( \\left( x, \\  y\\right) \\mapsto \\left[\\begin{matrix}\\sqrt{x^{2} + y^{2}}\\\\\\operatorname{atan}_{2}{\\left(y,x \\right)}\\end{matrix}\\right] \\right)$"
      ],
      "text/plain": [
       "Lambda((x, y), Matrix([\n",
       "[sqrt(x**2 + y**2)],\n",
       "[      atan2(y, x)]]))"
      ]
     },
     "execution_count": 2,
     "metadata": {},
     "output_type": "execute_result"
    }
   ],
   "source": [
    "# This simply reproduces the transformations we defined\n",
    "\n",
    "Car2D.transformation(Pol)"
   ]
  },
  {
   "cell_type": "code",
   "execution_count": 3,
   "id": "e7c11ea4",
   "metadata": {},
   "outputs": [
    {
     "data": {
      "text/latex": [
       "$\\displaystyle \\left( \\left( r, \\  \\theta\\right) \\mapsto \\left[\\begin{matrix}r \\cos{\\left(\\theta \\right)}\\\\r \\sin{\\left(\\theta \\right)}\\end{matrix}\\right] \\right)$"
      ],
      "text/plain": [
       "Lambda((r, theta), Matrix([\n",
       "[r*cos(theta)],\n",
       "[r*sin(theta)]]))"
      ]
     },
     "execution_count": 3,
     "metadata": {},
     "output_type": "execute_result"
    }
   ],
   "source": [
    "Pol.transformation(Car2D)"
   ]
  },
  {
   "cell_type": "code",
   "execution_count": 4,
   "id": "4d2e7042",
   "metadata": {},
   "outputs": [
    {
     "data": {
      "text/latex": [
       "$\\displaystyle \\left[\\begin{matrix}\\cos{\\left(\\theta \\right)} & - r \\sin{\\left(\\theta \\right)}\\\\\\sin{\\left(\\theta \\right)} & r \\cos{\\left(\\theta \\right)}\\end{matrix}\\right]$"
      ],
      "text/plain": [
       "Matrix([\n",
       "[cos(theta), -r*sin(theta)],\n",
       "[sin(theta),  r*cos(theta)]])"
      ]
     },
     "execution_count": 4,
     "metadata": {},
     "output_type": "execute_result"
    }
   ],
   "source": [
    "# Now we get something new. The Jacobians\n",
    "Pol.jacobian(Car2D)\n"
   ]
  },
  {
   "cell_type": "code",
   "execution_count": 5,
   "id": "3814eefe",
   "metadata": {},
   "outputs": [
    {
     "data": {
      "text/latex": [
       "$\\displaystyle \\left[\\begin{matrix}\\frac{x}{\\sqrt{x^{2} + y^{2}}} & \\frac{y}{\\sqrt{x^{2} + y^{2}}}\\\\- \\frac{y}{x^{2} + y^{2}} & \\frac{x}{x^{2} + y^{2}}\\end{matrix}\\right]$"
      ],
      "text/plain": [
       "Matrix([\n",
       "[x/sqrt(x**2 + y**2), y/sqrt(x**2 + y**2)],\n",
       "[   -y/(x**2 + y**2),     x/(x**2 + y**2)]])"
      ]
     },
     "execution_count": 5,
     "metadata": {},
     "output_type": "execute_result"
    }
   ],
   "source": [
    "Car2D.jacobian(Pol)"
   ]
  },
  {
   "cell_type": "code",
   "execution_count": 6,
   "id": "00768dfe",
   "metadata": {},
   "outputs": [
    {
     "data": {
      "text/latex": [
       "$\\displaystyle r \\cos{\\left(\\theta \\right)}$"
      ],
      "text/plain": [
       "r*cos(theta)"
      ]
     },
     "execution_count": 6,
     "metadata": {},
     "output_type": "execute_result"
    }
   ],
   "source": [
    "# We can convert functional expressions from 2D to polar and vice versa\n",
    "\n",
    "x, y = Car2D.symbols\n",
    "x.rewrite(Pol)"
   ]
  },
  {
   "cell_type": "code",
   "execution_count": 7,
   "id": "01796c96",
   "metadata": {},
   "outputs": [
    {
     "data": {
      "text/latex": [
       "$\\displaystyle r^{2} \\cos^{2}{\\left(\\theta \\right)} + \\frac{1}{r \\sin{\\left(\\theta \\right)}}$"
      ],
      "text/plain": [
       "r**2*cos(theta)**2 + 1/(r*sin(theta))"
      ]
     },
     "execution_count": 7,
     "metadata": {},
     "output_type": "execute_result"
    }
   ],
   "source": [
    "(x**2 + 1/y).rewrite(Pol)"
   ]
  },
  {
   "cell_type": "code",
   "execution_count": 8,
   "id": "99a5869a",
   "metadata": {},
   "outputs": [],
   "source": [
    "from sympy import pi\n",
    "from sympy.diffgeom import Point\n",
    "from sympy.diffgeom.rn import R2 # The R^2 Manifold\n",
    "from sympy.diffgeom.rn import R2_r, R2_p # coordinate patches in cartesian and polar coordinates\n",
    "\n",
    "rho, theta = R2_p.symbols"
   ]
  },
  {
   "cell_type": "code",
   "execution_count": 9,
   "id": "89c185c2",
   "metadata": {},
   "outputs": [
    {
     "data": {
      "text/latex": [
       "$\\displaystyle \\left[\\begin{matrix}\\rho\\\\\\frac{3 \\pi}{4}\\end{matrix}\\right]$"
      ],
      "text/plain": [
       "Matrix([\n",
       "[   rho],\n",
       "[3*pi/4]])"
      ]
     },
     "execution_count": 9,
     "metadata": {},
     "output_type": "execute_result"
    }
   ],
   "source": [
    "p = Point(R2_p, [rho, 3*pi/4])\n",
    "p.coords()"
   ]
  },
  {
   "cell_type": "code",
   "execution_count": 10,
   "id": "a9c57d70",
   "metadata": {},
   "outputs": [
    {
     "data": {
      "text/latex": [
       "$\\displaystyle \\left[\\begin{matrix}- \\frac{\\sqrt{2} \\rho}{2}\\\\\\frac{\\sqrt{2} \\rho}{2}\\end{matrix}\\right]$"
      ],
      "text/plain": [
       "Matrix([\n",
       "[-sqrt(2)*rho/2],\n",
       "[ sqrt(2)*rho/2]])"
      ]
     },
     "execution_count": 10,
     "metadata": {},
     "output_type": "execute_result"
    }
   ],
   "source": [
    "p.coords(R2_r)"
   ]
  },
  {
   "cell_type": "markdown",
   "id": "ebddb036",
   "metadata": {},
   "source": [
    "## Scalar Fields"
   ]
  },
  {
   "cell_type": "code",
   "execution_count": 11,
   "id": "09d925a2",
   "metadata": {},
   "outputs": [],
   "source": [
    "from sympy import Function\n",
    "from sympy.diffgeom import BaseScalarField\n",
    "\n",
    "rho, _ = R2_p.symbols\n",
    "fx, fy = R2_r.base_scalars()\n",
    "ftheta = BaseScalarField(R2_r, 1)"
   ]
  },
  {
   "cell_type": "code",
   "execution_count": 12,
   "id": "ff0e08d4",
   "metadata": {},
   "outputs": [
    {
     "data": {
      "text/latex": [
       "$\\displaystyle \\rho$"
      ],
      "text/plain": [
       "rho"
      ]
     },
     "execution_count": 12,
     "metadata": {},
     "output_type": "execute_result"
    }
   ],
   "source": [
    "#evaluate field at a point\n",
    "\n",
    "point = R2_p.point([rho, 0])\n",
    "fx(point)"
   ]
  },
  {
   "cell_type": "code",
   "execution_count": 13,
   "id": "694b58c5",
   "metadata": {},
   "outputs": [
    {
     "data": {
      "text/latex": [
       "$\\displaystyle 0$"
      ],
      "text/plain": [
       "0"
      ]
     },
     "execution_count": 13,
     "metadata": {},
     "output_type": "execute_result"
    }
   ],
   "source": [
    "fy(point)"
   ]
  },
  {
   "cell_type": "code",
   "execution_count": 14,
   "id": "63905ac9",
   "metadata": {},
   "outputs": [
    {
     "data": {
      "text/latex": [
       "$\\displaystyle \\rho^{2}$"
      ],
      "text/plain": [
       "rho**2"
      ]
     },
     "execution_count": 14,
     "metadata": {},
     "output_type": "execute_result"
    }
   ],
   "source": [
    "# Evaluate a function of the field coordinates at a point\n",
    "(fx**2+fy**2).rcall(point)"
   ]
  },
  {
   "cell_type": "markdown",
   "id": "214b2467",
   "metadata": {},
   "source": [
    "## Vector Fields"
   ]
  },
  {
   "cell_type": "code",
   "execution_count": 15,
   "id": "50161507",
   "metadata": {},
   "outputs": [],
   "source": [
    "from sympy.diffgeom import BaseVectorField\n",
    "from sympy import pprint\n",
    "\n",
    "x, y = R2_r.symbols\n",
    "rho, theta = R2_p.symbols\n",
    "fx, fy = R2_r.base_scalars()\n",
    "point_p = R2_p.point([rho, theta])\n",
    "point_r = R2_r.point([x, y])"
   ]
  },
  {
   "cell_type": "code",
   "execution_count": 16,
   "id": "8669d1f3",
   "metadata": {},
   "outputs": [],
   "source": [
    "# A vector field is an operator taking a scalar field and returning a directional derivative (which is also a scalar field). \n",
    "# A base vector field is the same type of operator, \n",
    "# however the derivation is specifically done with respect to a chosen coordinate.\n",
    "\n",
    "g = Function('g')\n",
    "scalar_field = g(fx, fy)"
   ]
  },
  {
   "cell_type": "code",
   "execution_count": 17,
   "id": "2f4888e7",
   "metadata": {},
   "outputs": [
    {
     "name": "stdout",
     "output_type": "stream",
     "text": [
      "⎛d          ⎞│   \n",
      "⎜──(g(x, ξ))⎟│   \n",
      "⎝dξ         ⎠│ξ=y\n"
     ]
    }
   ],
   "source": [
    "v = BaseVectorField(R2_r, 1)\n",
    "pprint(v(scalar_field))"
   ]
  },
  {
   "cell_type": "code",
   "execution_count": 18,
   "id": "09ce7e84",
   "metadata": {},
   "outputs": [],
   "source": [
    "# Commutator of two vector fields\n",
    "\n",
    "from sympy.diffgeom import Commutator\n",
    "from sympy import simplify\n",
    "\n",
    "fx, fy = R2_r.base_scalars()\n",
    "e_x, e_y = R2_r.base_vectors()\n",
    "e_r, e_theta = R2_p.base_vectors()"
   ]
  },
  {
   "cell_type": "code",
   "execution_count": 19,
   "id": "63b06ad6",
   "metadata": {},
   "outputs": [
    {
     "data": {
      "text/latex": [
       "$\\displaystyle 0$"
      ],
      "text/plain": [
       "0"
      ]
     },
     "execution_count": 19,
     "metadata": {},
     "output_type": "execute_result"
    }
   ],
   "source": [
    "Commutator(e_x, e_y)"
   ]
  },
  {
   "cell_type": "code",
   "execution_count": 20,
   "id": "a0389d6c",
   "metadata": {},
   "outputs": [
    {
     "data": {
      "text/latex": [
       "$\\displaystyle \\operatorname{Commutator}\\left(\\partial_{x}, \\partial_{\\rho}\\right)$"
      ],
      "text/plain": [
       "Commutator(e_x, e_rho)"
      ]
     },
     "execution_count": 20,
     "metadata": {},
     "output_type": "execute_result"
    }
   ],
   "source": [
    "Commutator(e_x, e_r)"
   ]
  },
  {
   "cell_type": "code",
   "execution_count": 21,
   "id": "69e1c876",
   "metadata": {},
   "outputs": [
    {
     "data": {
      "text/latex": [
       "$\\displaystyle - \\frac{2 \\cos{\\left(\\mathbf{\\theta} \\right)} \\mathbf{y}^{2}}{\\mathbf{x}^{2} + \\mathbf{y}^{2}}$"
      ],
      "text/plain": [
       "-2*cos(theta)*y**2/(x**2 + y**2)"
      ]
     },
     "execution_count": 21,
     "metadata": {},
     "output_type": "execute_result"
    }
   ],
   "source": [
    "c_xr = Commutator(e_x, e_r)\n",
    "c_xr(fy**2)"
   ]
  },
  {
   "cell_type": "code",
   "execution_count": 22,
   "id": "29290632",
   "metadata": {},
   "outputs": [
    {
     "data": {
      "text/latex": [
       "$\\displaystyle \\frac{2 \\sin{\\left(\\mathbf{\\theta} \\right)} \\mathbf{x} \\mathbf{y}}{\\mathbf{x}^{2} + \\mathbf{y}^{2}} - \\frac{2 \\cos{\\left(\\mathbf{\\theta} \\right)} \\mathbf{y}^{2}}{\\mathbf{x}^{2} + \\mathbf{y}^{2}}$"
      ],
      "text/plain": [
       "2*sin(theta)*x*y/(x**2 + y**2) - 2*cos(theta)*y**2/(x**2 + y**2)"
      ]
     },
     "execution_count": 22,
     "metadata": {},
     "output_type": "execute_result"
    }
   ],
   "source": [
    "c_xr(fy**2+fx**2)"
   ]
  },
  {
   "cell_type": "code",
   "execution_count": 23,
   "id": "ac0f6ef6",
   "metadata": {},
   "outputs": [],
   "source": [
    "# Tensors and forms\n",
    "\n",
    "from sympy.diffgeom import TensorProduct\n",
    "\n",
    "e_x, e_y = R2_r.base_vectors()"
   ]
  },
  {
   "cell_type": "code",
   "execution_count": 24,
   "id": "15c73c73",
   "metadata": {},
   "outputs": [
    {
     "data": {
      "text/latex": [
       "$\\displaystyle \\partial_{x}$"
      ],
      "text/plain": [
       "e_x"
      ]
     },
     "execution_count": 24,
     "metadata": {},
     "output_type": "execute_result"
    }
   ],
   "source": [
    "e_x"
   ]
  },
  {
   "cell_type": "code",
   "execution_count": 25,
   "id": "77f7a227",
   "metadata": {},
   "outputs": [
    {
     "data": {
      "text/latex": [
       "$\\displaystyle \\partial_{x} \\otimes \\partial_{y}$"
      ],
      "text/plain": [
       "TensorProduct(e_x, e_y)"
      ]
     },
     "execution_count": 25,
     "metadata": {},
     "output_type": "execute_result"
    }
   ],
   "source": [
    "TensorProduct(e_x, e_y)"
   ]
  },
  {
   "cell_type": "code",
   "execution_count": 26,
   "id": "cff8f31c",
   "metadata": {},
   "outputs": [],
   "source": [
    "dx, dy = R2_r.base_oneforms()"
   ]
  },
  {
   "cell_type": "code",
   "execution_count": 27,
   "id": "23782d68",
   "metadata": {},
   "outputs": [
    {
     "data": {
      "text/latex": [
       "$\\displaystyle \\operatorname{d}y$"
      ],
      "text/plain": [
       "dy"
      ]
     },
     "execution_count": 27,
     "metadata": {},
     "output_type": "execute_result"
    }
   ],
   "source": [
    "dy"
   ]
  },
  {
   "cell_type": "code",
   "execution_count": 28,
   "id": "4aa95461",
   "metadata": {},
   "outputs": [
    {
     "data": {
      "text/latex": [
       "$\\displaystyle \\operatorname{d}x \\otimes \\operatorname{d}y$"
      ],
      "text/plain": [
       "TensorProduct(dx, dy)"
      ]
     },
     "execution_count": 28,
     "metadata": {},
     "output_type": "execute_result"
    }
   ],
   "source": [
    "TensorProduct(dx, dy)"
   ]
  },
  {
   "cell_type": "code",
   "execution_count": 29,
   "id": "8e0547d2",
   "metadata": {},
   "outputs": [
    {
     "data": {
      "text/latex": [
       "$\\displaystyle 1$"
      ],
      "text/plain": [
       "1"
      ]
     },
     "execution_count": 29,
     "metadata": {},
     "output_type": "execute_result"
    }
   ],
   "source": [
    "TensorProduct(dx, dy)(e_x, e_y)"
   ]
  },
  {
   "cell_type": "markdown",
   "id": "8683b219",
   "metadata": {},
   "source": [
    "## Lie Derivative"
   ]
  },
  {
   "cell_type": "code",
   "execution_count": 30,
   "id": "64bc5b61",
   "metadata": {},
   "outputs": [],
   "source": [
    "from sympy.diffgeom import *\n",
    "\n",
    "M = Manifold(\"M\", 5)\n",
    "P = Patch(\"P\", M)\n",
    "\n",
    "x, y, L, u, v = symbols('x y L u v', real=True)\n",
    "\n",
    "coord = CoordSystem(\"coord\", P, [x, y, L, u, v])\n",
    "\n",
    "x, y, L, u, v = coord.coord_functions()"
   ]
  },
  {
   "cell_type": "code",
   "execution_count": 31,
   "id": "59e41577",
   "metadata": {},
   "outputs": [],
   "source": [
    " # Matrices are currently not supported, you have to express them as linear combination of base vector fields:\n",
    "\n",
    "e_x, e_y, e_L, e_u, e_v = coord.base_vectors()"
   ]
  },
  {
   "cell_type": "code",
   "execution_count": 32,
   "id": "3b557afc",
   "metadata": {},
   "outputs": [
    {
     "data": {
      "text/latex": [
       "$\\displaystyle \\left(\\mathbf{x} + \\mathbf{u}\\right) \\partial_{x} + \\left(\\mathbf{y} + \\mathbf{v}\\right) \\partial_{y} + \\mathbf{L} \\partial_{L}$"
      ],
      "text/plain": [
       "(x + u)*e_x + (y + v)*e_y + L*e_L"
      ]
     },
     "execution_count": 32,
     "metadata": {},
     "output_type": "execute_result"
    }
   ],
   "source": [
    "# define a vector as a sum of components and base vectors:\n",
    "\n",
    "expr = (x + u)*e_x + (y + v)*e_y + L*e_L\n",
    "expr"
   ]
  },
  {
   "cell_type": "code",
   "execution_count": 33,
   "id": "638aa774",
   "metadata": {},
   "outputs": [
    {
     "data": {
      "text/latex": [
       "$\\displaystyle \\frac{\\left(- \\mathbf{x} + \\mathbf{y}\\right) \\left(\\mathbf{y} + \\mathbf{v}\\right)}{\\sqrt{\\left(- \\mathbf{x} + \\mathbf{y}\\right)^{2} + \\mathbf{L}^{2}}} + \\frac{\\left(\\mathbf{x} - \\mathbf{y}\\right) \\left(\\mathbf{x} + \\mathbf{u}\\right)}{\\sqrt{\\left(- \\mathbf{x} + \\mathbf{y}\\right)^{2} + \\mathbf{L}^{2}}} + \\frac{\\mathbf{L}^{2}}{\\sqrt{\\left(- \\mathbf{x} + \\mathbf{y}\\right)^{2} + \\mathbf{L}^{2}}}$"
      ],
      "text/plain": [
       "(-x + y)*(y + v)/sqrt((-x + y)**2 + L**2) + (x - y)*(x + u)/sqrt((-x + y)**2 + L**2) + L**2/sqrt((-x + y)**2 + L**2)"
      ]
     },
     "execution_count": 33,
     "metadata": {},
     "output_type": "execute_result"
    }
   ],
   "source": [
    "LieDerivative(expr, sqrt(L**2 + (y - x)**2))"
   ]
  },
  {
   "cell_type": "code",
   "execution_count": null,
   "id": "bb1145d9",
   "metadata": {},
   "outputs": [],
   "source": []
  }
 ],
 "metadata": {
  "kernelspec": {
   "display_name": "computational-physics",
   "language": "python",
   "name": "computational-physics"
  },
  "language_info": {
   "codemirror_mode": {
    "name": "ipython",
    "version": 3
   },
   "file_extension": ".py",
   "mimetype": "text/x-python",
   "name": "python",
   "nbconvert_exporter": "python",
   "pygments_lexer": "ipython3",
   "version": "3.10.6"
  }
 },
 "nbformat": 4,
 "nbformat_minor": 5
}
