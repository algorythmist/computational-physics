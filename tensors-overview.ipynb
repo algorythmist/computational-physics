{
 "cells": [
  {
   "cell_type": "markdown",
   "id": "48d4a0f2",
   "metadata": {},
   "source": [
    "# Notation\n",
    "\n",
    "Basis vectors are written with subscripts like $\\mathbf{e_1, e_2}$ and $\\partial_i$.\n",
    "\n",
    "Components of a vector are written with superscripts, so that\n",
    "\n",
    "$\\mathbf{v} = v^i\\mathbf{e_i}$\n",
    "\n",
    "Whenever the same index appears in both the subscript and superscript as above, summation is implied\n",
    "\n",
    "$\\mathbf{v} = v^i\\mathbf{e_i}$ means $\\mathbf{v} = \\sum_{i=1}^n v^i\\mathbf{e_i}$"
   ]
  },
  {
   "cell_type": "markdown",
   "id": "47a1c625",
   "metadata": {},
   "source": [
    "On the other hand, basis one forms are written with superscripts as in $\\mathbf{\\epsilon_1}, \\mathbf{\\epsilon_2}$ and $dx^i$\n",
    "\n",
    "whereas one form components appear with subscripts\n",
    "\n",
    "$\\mathbf{\\omega} = \\omega_i \\mathbf{\\epsilon^i}$ "
   ]
  },
  {
   "cell_type": "markdown",
   "id": "f4e2613b",
   "metadata": {},
   "source": [
    "Typically, latin indexes $i,j,k$ etc are used to represent 3D spatial coordinates and Greek symbls like $\\mu,\\nu,\\lambda$\n",
    "are used to represent 4D Minkowski coordinates."
   ]
  },
  {
   "cell_type": "markdown",
   "id": "8828f97a",
   "metadata": {},
   "source": [
    "## Matrix notation\n",
    "\n",
    "Vectors coordinates appear as columns $\\begin{bmatrix} v^1\\\\v^2\\\\v^2 \\end{bmatrix}$ \n",
    "and form coordinates as rows  $\\begin{bmatrix} \\omega_1 && \\omega_2 && \\omega_3 \\end{bmatrix}$.\n",
    "\n",
    "In tensor operations, forms operate from the left and vectors from the right, so that \n",
    "\n",
    "$\\omega_i dx^i \\otimes v^i \\partial_i = \\omega_i v^i$ = \n",
    "\n",
    "$$\n",
    "\\begin{bmatrix} \\omega_1 && \\omega_2 && \\omega_3 \\end{bmatrix} \\begin{bmatrix} v^1\\\\v^2\\\\v^2 \\end{bmatrix}\n",
    "$$"
   ]
  },
  {
   "cell_type": "markdown",
   "id": "4570dacf",
   "metadata": {},
   "source": [
    "Things get trickier with tensors of rank 2 and above. \n",
    "A tensor of rank (2,0) has components $g_{ij}$.It consumes two vectors to produce a scalar,\n",
    "which in coordinates is written as $g_{ij}u^iw^j$.\n",
    "\n",
    "A tensor of rank (0,2) has components  $g^{ij}$ and consumes 2 one-forms to produce a scalar.\n",
    "\n",
    "Finally, a tensfor of rank (1,1), $g^i_j$, consumes a vector and form to produce a scalar."
   ]
  },
  {
   "cell_type": "markdown",
   "id": "50598178",
   "metadata": {},
   "source": [
    "Only the last, mixed type can be properly represented as a square matrix. \n",
    "\n",
    "For example, consider the mixed tensor $G$ acting on the form $\\omega$ and vector $v$, $G(\\omega, v)$. \n",
    "In coordinates we have:\n",
    "\n",
    "$g^i_j \\partial_i dx^j(\\omega_k dx^k, v^l \\partial_l) = g^i_j \\omega_k  v^l dx^j(\\partial_l) dx^k(\\partial_i)\n",
    "=  g^i_j \\omega_k  v^l \\delta_l^j \\delta_i^k\n",
    "= \\omega_i g^i_j  v^j\n",
    "$"
   ]
  },
  {
   "cell_type": "markdown",
   "id": "b97ec67d",
   "metadata": {},
   "source": [
    "In 2D, for example, this sum works out to \n",
    "\n",
    "$\\omega_1 g^1_1 v^1 + \\omega_1 g^1_2 v^2 + \\omega_2 g^2_1 v^1  \\omega_2 g^2_2 v^2$\n",
    "\n",
    "and we can obtain the same result from regular matrix multiplication\n",
    "\n",
    "$$\n",
    "\\begin{bmatrix} \\omega_1 && \\omega_2  \\end{bmatrix}\n",
    "\\begin{bmatrix} g_1^1 && g_2^1 \\\\  g_1^2 && g_2^2 \\end{bmatrix}\n",
    "\\begin{bmatrix} v^1\\\\v^2 \\end{bmatrix}\n",
    "$$"
   ]
  },
  {
   "cell_type": "markdown",
   "id": "1857e469",
   "metadata": {},
   "source": [
    "But for a tensor of type (2,0) which acts on two vectors, it does not make sense to write \n",
    "\n",
    "$$\n",
    "\\begin{bmatrix} g_{11} && g_{12} \\\\  g_{21} && g_{22} \\end{bmatrix}\n",
    "\\begin{bmatrix} v^1\\\\v^2 \\end{bmatrix}\n",
    "\\begin{bmatrix} w^1 \\\\ w^2 \\end{bmatrix}\n",
    "$$\n",
    "\n",
    "because the dimensions do not match up."
   ]
  },
  {
   "cell_type": "markdown",
   "id": "91b623ca",
   "metadata": {},
   "source": [
    "Instead, we should consider such a tensor as a form of forms and write:\n",
    "\n",
    "$$\n",
    "\\begin{bmatrix} \n",
    "\\begin{bmatrix} g_{11} && g_{12} \\end{bmatrix} \n",
    "\\begin{bmatrix} g_{21} && g_{22} \\end{bmatrix} \n",
    "\\end{bmatrix}\n",
    "\\begin{bmatrix} v^1\\\\v^2 \\end{bmatrix}\n",
    "\\begin{bmatrix} w^1 \\\\ w^2 \\end{bmatrix}\n",
    "$$\n",
    "\n"
   ]
  },
  {
   "cell_type": "markdown",
   "id": "ac151229",
   "metadata": {},
   "source": [
    "Now we can perform the first vector multiplication on each sub-element of the form to get\n",
    "\n",
    "$$\n",
    "\\begin{bmatrix} \n",
    "g_{11}v^1 + g_{12} v^2 && g_{21}v^1 + g_{22} v^2 \n",
    "\\end{bmatrix}\n",
    "\\begin{bmatrix} w^1 \\\\ w^2 \\end{bmatrix}\n",
    "$$\n",
    "\n"
   ]
  },
  {
   "cell_type": "markdown",
   "id": "840bc5e9",
   "metadata": {},
   "source": [
    "and then the second vector to get:\n",
    "\n",
    "$\n",
    "g_{11}v^1 w^1 + g_{12} v^2 w^1 + g_{21}v^1 w^2 + g_{22} v^2 w^2 \n",
    "$"
   ]
  },
  {
   "cell_type": "markdown",
   "id": "4804f194",
   "metadata": {},
   "source": [
    "Similarily, a tensor of type T(0,2) should appear as a vector of vectors:\n",
    "\n",
    "$$\n",
    "\\begin{bmatrix} \n",
    "\\begin{bmatrix} g_{11} \\\\ g_{12} \\end{bmatrix} \n",
    "\\\\\n",
    "\\begin{bmatrix} g_{21} \\\\ g_{22} \\end{bmatrix} \n",
    "\\end{bmatrix}\n",
    "$$\n",
    "\n",
    "so that it can be multiplied with two 1 forms from the left"
   ]
  },
  {
   "cell_type": "code",
   "execution_count": null,
   "id": "6596b949",
   "metadata": {},
   "outputs": [],
   "source": []
  }
 ],
 "metadata": {
  "kernelspec": {
   "display_name": "computational-physics",
   "language": "python",
   "name": "computational-physics"
  },
  "language_info": {
   "codemirror_mode": {
    "name": "ipython",
    "version": 3
   },
   "file_extension": ".py",
   "mimetype": "text/x-python",
   "name": "python",
   "nbconvert_exporter": "python",
   "pygments_lexer": "ipython3",
   "version": "3.10.6"
  }
 },
 "nbformat": 4,
 "nbformat_minor": 5
}
