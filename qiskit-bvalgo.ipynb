{
 "cells": [
  {
   "cell_type": "code",
   "execution_count": 1,
   "id": "857e909d",
   "metadata": {},
   "outputs": [],
   "source": [
    "import numpy as np\n",
    "from qiskit import QuantumCircuit, assemble, transpile\n",
    "from qiskit import Aer # Simulator\n",
    "from qiskit.visualization import plot_histogram"
   ]
  },
  {
   "cell_type": "markdown",
   "id": "bdda77ed",
   "metadata": {},
   "source": [
    "# The Bernstein-Vazirani Algorithm"
   ]
  },
  {
   "cell_type": "code",
   "execution_count": 2,
   "id": "693b8da7",
   "metadata": {},
   "outputs": [],
   "source": [
    "def hadamard(circuit: QuantumCircuit, qubits: int):\n",
    "    \"\"\"\n",
    "    Put all qubits in a superposition\n",
    "    \"\"\"\n",
    "    for qubit in range(qubits):\n",
    "        circuit.h(qubit)\n",
    "\n",
    "def measure(circuit, qubits: int):\n",
    "    \"\"\"\n",
    "    Measure all bits\n",
    "    \"\"\"\n",
    "    for i in range(qubits):\n",
    "        circuit.measure(i, i)\n",
    "\n",
    "def simulate(circuit: QuantumCircuit):\n",
    "    \"\"\"\n",
    "    Simulate the circuit and return the histogram\n",
    "    \"\"\"\n",
    "    aer_sim = Aer.get_backend('aer_simulator')\n",
    "    transpiled_dj_circuit = transpile(circuit, aer_sim)\n",
    "    job = assemble(transpiled_dj_circuit)\n",
    "    result = aer_sim.run(job).result()\n",
    "    return result.get_counts()"
   ]
  },
  {
   "cell_type": "markdown",
   "id": "5e6d9b86",
   "metadata": {},
   "source": [
    "Step 1: Put the initial state in a superposition\n",
    "$$\n",
    "H^{\\otimes n} |x>_n = \\frac{1}{\\sqrt{2^n}}\\sum_{x \\in \\{0,1\\}^n} |x>_n\n",
    "$$\n",
    "Step 2: Call the subroutine that pefrorms the inner product with the unknown string\n",
    "$$\n",
    "U_f \\frac{1}{\\sqrt{2^n}}\\sum_{x \\in \\{0,1\\}^n} |x>_n = \\frac{1}{\\sqrt{2^n}} \\sum_{x \\in \\{0,1\\}^n} (-1)^{a\\cdot x}|x>_n\n",
    "$$\n",
    "Step 3: Recover the unknown via interference\n",
    "$$\n",
    "H^{\\otimes n} \\frac{1}{\\sqrt{2^n}} \\sum_{x \\in \\{0,1\\}^n} (-1)^{a\\cdot x}|x>_n = |a>_n\n",
    "$$"
   ]
  },
  {
   "cell_type": "code",
   "execution_count": 5,
   "id": "ad657ddb",
   "metadata": {},
   "outputs": [],
   "source": [
    "def string_to_circuit(s: str):\n",
    "    s = s[::-1] # reverse s to fit qiskit's qubit ordering\n",
    "    n = len(s)\n",
    "    oracle = QuantumCircuit(n+1)\n",
    "    for q in range(n):\n",
    "        if s[q] == '0':\n",
    "            oracle.i(q)\n",
    "        else:\n",
    "            oracle.cx(q, n)\n",
    "    return oracle\n",
    "\n",
    "def bv_oracle(s: str):\n",
    "    oracle = string_to_circuit(s)\n",
    "    oracle_gate = oracle.to_gate()\n",
    "    oracle_gate.name = \"Inner Product\"\n",
    "    return oracle_gate"
   ]
  },
  {
   "cell_type": "code",
   "execution_count": 7,
   "id": "485ea69e",
   "metadata": {},
   "outputs": [
    {
     "data": {
      "text/html": [
       "<pre style=\"word-wrap: normal;white-space: pre;background: #fff0;line-height: 1.1;font-family: &quot;Courier New&quot;,Courier,monospace\">                         \n",
       "q_0: ──■─────────────────\n",
       "       │                 \n",
       "q_1: ──┼─────────■───────\n",
       "       │  ┌───┐  │       \n",
       "q_2: ──┼──┤ I ├──┼───────\n",
       "       │  └───┘  │       \n",
       "q_3: ──┼─────────┼────■──\n",
       "     ┌─┴─┐     ┌─┴─┐┌─┴─┐\n",
       "q_4: ┤ X ├─────┤ X ├┤ X ├\n",
       "     └───┘     └───┘└───┘</pre>"
      ],
      "text/plain": [
       "                         \n",
       "q_0: ──■─────────────────\n",
       "       │                 \n",
       "q_1: ──┼─────────■───────\n",
       "       │  ┌───┐  │       \n",
       "q_2: ──┼──┤ I ├──┼───────\n",
       "       │  └───┘  │       \n",
       "q_3: ──┼─────────┼────■──\n",
       "     ┌─┴─┐     ┌─┴─┐┌─┴─┐\n",
       "q_4: ┤ X ├─────┤ X ├┤ X ├\n",
       "     └───┘     └───┘└───┘"
      ]
     },
     "execution_count": 7,
     "metadata": {},
     "output_type": "execute_result"
    }
   ],
   "source": [
    "a = '1011'   # the hidden binary string\n",
    "oracle = string_to_circuit(a)\n",
    "oracle.draw()"
   ]
  },
  {
   "cell_type": "code",
   "execution_count": 25,
   "id": "7d9592e0",
   "metadata": {},
   "outputs": [],
   "source": [
    "def build_circuit(oracle, n):\n",
    "    bv_circuit = QuantumCircuit(n+1, n)\n",
    "\n",
    "    # put auxiliary in state |->\n",
    "    bv_circuit.h(n)\n",
    "    bv_circuit.z(n)\n",
    "\n",
    "    # Apply Hadamard gates before querying the oracle\n",
    "    hadamard(bv_circuit, n)\n",
    "\n",
    "    # Apply barrier\n",
    "    bv_circuit.barrier()\n",
    "\n",
    "    #introduce the oracle gate as a subroutine\n",
    "    bv_circuit.append(oracle, range(n+1))\n",
    "\n",
    "    # Apply barrier\n",
    "    bv_circuit.barrier()\n",
    "\n",
    "    #Apply Hadamard gates after querying the oracle\n",
    "    hadamard(bv_circuit, n)\n",
    "\n",
    "    # Measurement\n",
    "    measure(bv_circuit, n)\n",
    "    return bv_circuit"
   ]
  },
  {
   "cell_type": "code",
   "execution_count": 26,
   "id": "a2252b7b",
   "metadata": {},
   "outputs": [
    {
     "data": {
      "text/html": [
       "<pre style=\"word-wrap: normal;white-space: pre;background: #fff0;line-height: 1.1;font-family: &quot;Courier New&quot;,Courier,monospace\">     ┌───┐      ░ ┌────────────────┐ ░ ┌───┐┌─┐      \n",
       "q_0: ┤ H ├──────░─┤0               ├─░─┤ H ├┤M├──────\n",
       "     ├───┤      ░ │                │ ░ ├───┤└╥┘┌─┐   \n",
       "q_1: ┤ H ├──────░─┤1               ├─░─┤ H ├─╫─┤M├───\n",
       "     ├───┤      ░ │  Inner Product │ ░ ├───┤ ║ └╥┘┌─┐\n",
       "q_2: ┤ H ├──────░─┤2               ├─░─┤ H ├─╫──╫─┤M├\n",
       "     ├───┤┌───┐ ░ │                │ ░ └───┘ ║  ║ └╥┘\n",
       "q_3: ┤ H ├┤ Z ├─░─┤3               ├─░───────╫──╫──╫─\n",
       "     └───┘└───┘ ░ └────────────────┘ ░       ║  ║  ║ \n",
       "c: 3/════════════════════════════════════════╩══╩══╩═\n",
       "                                             0  1  2 </pre>"
      ],
      "text/plain": [
       "     ┌───┐      ░ ┌────────────────┐ ░ ┌───┐┌─┐      \n",
       "q_0: ┤ H ├──────░─┤0               ├─░─┤ H ├┤M├──────\n",
       "     ├───┤      ░ │                │ ░ ├───┤└╥┘┌─┐   \n",
       "q_1: ┤ H ├──────░─┤1               ├─░─┤ H ├─╫─┤M├───\n",
       "     ├───┤      ░ │  Inner Product │ ░ ├───┤ ║ └╥┘┌─┐\n",
       "q_2: ┤ H ├──────░─┤2               ├─░─┤ H ├─╫──╫─┤M├\n",
       "     ├───┤┌───┐ ░ │                │ ░ └───┘ ║  ║ └╥┘\n",
       "q_3: ┤ H ├┤ Z ├─░─┤3               ├─░───────╫──╫──╫─\n",
       "     └───┘└───┘ ░ └────────────────┘ ░       ║  ║  ║ \n",
       "c: 3/════════════════════════════════════════╩══╩══╩═\n",
       "                                             0  1  2 "
      ]
     },
     "execution_count": 26,
     "metadata": {},
     "output_type": "execute_result"
    }
   ],
   "source": [
    "a = '101'   # the hidden binary string\n",
    "n = len(a)\n",
    "oracle = bv_oracle(a)\n",
    "circuit = build_circuit(oracle, n)\n",
    "circuit.draw()"
   ]
  },
  {
   "cell_type": "code",
   "execution_count": 16,
   "id": "c143bb7a",
   "metadata": {},
   "outputs": [],
   "source": [
    "aer_sim = Aer.get_backend('aer_simulator')\n",
    "transpiled_dj_circuit = transpile(circuit, aer_sim)\n",
    "job = assemble(transpiled_dj_circuit)\n",
    "result = aer_sim.run(job).result()\n",
    "answer = result.get_counts()"
   ]
  },
  {
   "cell_type": "code",
   "execution_count": 18,
   "id": "d00538a2",
   "metadata": {},
   "outputs": [
    {
     "data": {
      "image/png": "[encoded data removed]",
      "text/plain": [
       "<Figure size 504x360 with 1 Axes>"
      ]
     },
     "execution_count": 18,
     "metadata": {},
     "output_type": "execute_result"
    }
   ],
   "source": [
    "plot_histogram(answer)"
   ]
  },
  {
   "cell_type": "code",
   "execution_count": 27,
   "id": "134d7a64",
   "metadata": {},
   "outputs": [
    {
     "data": {
      "text/html": [
       "<pre style=\"word-wrap: normal;white-space: pre;background: #fff0;line-height: 1.1;font-family: &quot;Courier New&quot;,Courier,monospace\">     ┌───┐      ░ ┌────────────────┐ ░ ┌───┐┌─┐            \n",
       "q_0: ┤ H ├──────░─┤0               ├─░─┤ H ├┤M├────────────\n",
       "     ├───┤      ░ │                │ ░ ├───┤└╥┘┌─┐         \n",
       "q_1: ┤ H ├──────░─┤1               ├─░─┤ H ├─╫─┤M├─────────\n",
       "     ├───┤      ░ │                │ ░ ├───┤ ║ └╥┘┌─┐      \n",
       "q_2: ┤ H ├──────░─┤2               ├─░─┤ H ├─╫──╫─┤M├──────\n",
       "     ├───┤      ░ │  Inner Product │ ░ ├───┤ ║  ║ └╥┘┌─┐   \n",
       "q_3: ┤ H ├──────░─┤3               ├─░─┤ H ├─╫──╫──╫─┤M├───\n",
       "     ├───┤      ░ │                │ ░ ├───┤ ║  ║  ║ └╥┘┌─┐\n",
       "q_4: ┤ H ├──────░─┤4               ├─░─┤ H ├─╫──╫──╫──╫─┤M├\n",
       "     ├───┤┌───┐ ░ │                │ ░ └───┘ ║  ║  ║  ║ └╥┘\n",
       "q_5: ┤ H ├┤ Z ├─░─┤5               ├─░───────╫──╫──╫──╫──╫─\n",
       "     └───┘└───┘ ░ └────────────────┘ ░       ║  ║  ║  ║  ║ \n",
       "c: 5/════════════════════════════════════════╩══╩══╩══╩══╩═\n",
       "                                             0  1  2  3  4 </pre>"
      ],
      "text/plain": [
       "     ┌───┐      ░ ┌────────────────┐ ░ ┌───┐┌─┐            \n",
       "q_0: ┤ H ├──────░─┤0               ├─░─┤ H ├┤M├────────────\n",
       "     ├───┤      ░ │                │ ░ ├───┤└╥┘┌─┐         \n",
       "q_1: ┤ H ├──────░─┤1               ├─░─┤ H ├─╫─┤M├─────────\n",
       "     ├───┤      ░ │                │ ░ ├───┤ ║ └╥┘┌─┐      \n",
       "q_2: ┤ H ├──────░─┤2               ├─░─┤ H ├─╫──╫─┤M├──────\n",
       "     ├───┤      ░ │  Inner Product │ ░ ├───┤ ║  ║ └╥┘┌─┐   \n",
       "q_3: ┤ H ├──────░─┤3               ├─░─┤ H ├─╫──╫──╫─┤M├───\n",
       "     ├───┤      ░ │                │ ░ ├───┤ ║  ║  ║ └╥┘┌─┐\n",
       "q_4: ┤ H ├──────░─┤4               ├─░─┤ H ├─╫──╫──╫──╫─┤M├\n",
       "     ├───┤┌───┐ ░ │                │ ░ └───┘ ║  ║  ║  ║ └╥┘\n",
       "q_5: ┤ H ├┤ Z ├─░─┤5               ├─░───────╫──╫──╫──╫──╫─\n",
       "     └───┘└───┘ ░ └────────────────┘ ░       ║  ║  ║  ║  ║ \n",
       "c: 5/════════════════════════════════════════╩══╩══╩══╩══╩═\n",
       "                                             0  1  2  3  4 "
      ]
     },
     "execution_count": 27,
     "metadata": {},
     "output_type": "execute_result"
    }
   ],
   "source": [
    "a = '10100'   # the hidden binary string\n",
    "n = len(a)\n",
    "oracle = bv_oracle(a)\n",
    "circuit = build_circuit(oracle, n)\n",
    "circuit.draw()"
   ]
  },
  {
   "cell_type": "code",
   "execution_count": 20,
   "id": "bf6b7d73",
   "metadata": {},
   "outputs": [
    {
     "data": {
      "image/png": "[encoded data removed]",
      "text/plain": [
       "<Figure size 504x360 with 1 Axes>"
      ]
     },
     "execution_count": 20,
     "metadata": {},
     "output_type": "execute_result"
    }
   ],
   "source": [
    "aer_sim = Aer.get_backend('aer_simulator')\n",
    "transpiled_dj_circuit = transpile(circuit, aer_sim)\n",
    "job = assemble(transpiled_dj_circuit)\n",
    "result = aer_sim.run(job).result()\n",
    "answer = result.get_counts()\n",
    "plot_histogram(answer)"
   ]
  },
  {
   "cell_type": "code",
   "execution_count": null,
   "id": "2ddb733f",
   "metadata": {},
   "outputs": [],
   "source": []
  }
 ],
 "metadata": {
  "kernelspec": {
   "display_name": "computational-physics",
   "language": "python",
   "name": "computational-physics"
  },
  "language_info": {
   "codemirror_mode": {
    "name": "ipython",
    "version": 3
   },
   "file_extension": ".py",
   "mimetype": "text/x-python",
   "name": "python",
   "nbconvert_exporter": "python",
   "pygments_lexer": "ipython3",
   "version": "3.8.8"
  }
 },
 "nbformat": 4,
 "nbformat_minor": 5
}
