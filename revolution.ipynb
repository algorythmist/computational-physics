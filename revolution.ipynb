{
 "cells": [
  {
   "cell_type": "markdown",
   "id": "eb9f7fbf",
   "metadata": {},
   "source": [
    "# Creating Surfaces of Revolution"
   ]
  },
  {
   "cell_type": "code",
   "execution_count": 1,
   "id": "7f90631c",
   "metadata": {},
   "outputs": [],
   "source": [
    "import numpy as np\n",
    "import matplotlib.pyplot as plt\n",
    "import mpl_toolkits.mplot3d.axes3d as axes3d\n",
    "import plotly.express as px\n",
    "import plotly.graph_objects as go\n",
    "import ipywidgets as widgets\n",
    "from IPython.display import display\n"
   ]
  },
  {
   "cell_type": "code",
   "execution_count": 2,
   "id": "2f082b7c",
   "metadata": {},
   "outputs": [],
   "source": [
    "# Text widget for a function\n",
    "expression = widgets.Text(\n",
    "    placeholder='Example: X**2-1',\n",
    "    description='Enter a function of X:',\n",
    "    style= {'description_width': 'initial'}\n",
    ")"
   ]
  },
  {
   "cell_type": "code",
   "execution_count": 44,
   "id": "cfe4bb82",
   "metadata": {},
   "outputs": [
    {
     "data": {
      "application/vnd.jupyter.widget-view+json": {
       "model_id": "8a04ffddf16246549537277c58c4f429",
       "version_major": 2,
       "version_minor": 0
      },
      "text/plain": [
       "Text(value='exp(-X)', description='Enter a function of X:', placeholder='Example: X**2-1', style=DescriptionSt…"
      ]
     },
     "metadata": {},
     "output_type": "display_data"
    }
   ],
   "source": [
    "# Enter a function of X\n",
    "display(expression)"
   ]
  },
  {
   "cell_type": "code",
   "execution_count": 45,
   "id": "a49d4ee3",
   "metadata": {},
   "outputs": [
    {
     "name": "stdout",
     "output_type": "stream",
     "text": [
      "exp(-X)\n"
     ]
    }
   ],
   "source": [
    "print(expression.value)"
   ]
  },
  {
   "cell_type": "code",
   "execution_count": 46,
   "id": "bf9ccedb",
   "metadata": {},
   "outputs": [
    {
     "data": {
      "text/latex": [
       "$\\displaystyle e^{- X}$"
      ],
      "text/plain": [
       "exp(-X)"
      ]
     },
     "execution_count": 46,
     "metadata": {},
     "output_type": "execute_result"
    }
   ],
   "source": [
    "from sympy.parsing.sympy_parser import parse_expr\n",
    "f = parse_expr(expression.value)\n",
    "f"
   ]
  },
  {
   "cell_type": "code",
   "execution_count": 38,
   "id": "b80a8c5f",
   "metadata": {},
   "outputs": [
    {
     "data": {
      "application/vnd.jupyter.widget-view+json": {
       "model_id": "f7e6ab3b87ac4bf6b105c71156ece06f",
       "version_major": 2,
       "version_minor": 0
      },
      "text/plain": [
       "FloatText(value=-1.0, description='Start of Range:', style=DescriptionStyle(description_width='initial'))"
      ]
     },
     "metadata": {},
     "output_type": "display_data"
    },
    {
     "data": {
      "application/vnd.jupyter.widget-view+json": {
       "model_id": "2255817e8a6e4b3295510de2867b4a3f",
       "version_major": 2,
       "version_minor": 0
      },
      "text/plain": [
       "FloatText(value=1.0, description='End of Range:', style=DescriptionStyle(description_width='initial'))"
      ]
     },
     "metadata": {},
     "output_type": "display_data"
    },
    {
     "data": {
      "application/vnd.jupyter.widget-view+json": {
       "model_id": "4c9d69336a0a46faa2ae3870af04d8d4",
       "version_major": 2,
       "version_minor": 0
      },
      "text/plain": [
       "FloatText(value=0.1, description='Step:', style=DescriptionStyle(description_width='initial'))"
      ]
     },
     "metadata": {},
     "output_type": "display_data"
    }
   ],
   "source": [
    "# Capture desired range\n",
    "start = widgets.FloatText(description='Start of Range:', style= {'description_width': 'initial'},value=-1)\n",
    "end = widgets.FloatText(description='End of Range:', style= {'description_width': 'initial'}, value=1)\n",
    "step = widgets.FloatText(description='Step:', style= {'description_width': 'initial'},value=0.1)\n",
    "display(start,end,step)"
   ]
  },
  {
   "cell_type": "code",
   "execution_count": 47,
   "id": "5b33e6c4",
   "metadata": {},
   "outputs": [
    {
     "name": "stdout",
     "output_type": "stream",
     "text": [
      "$0.0 to $2.0, step = $0.1\n"
     ]
    }
   ],
   "source": [
    "print(f'${start.value} to ${end.value}, step = ${step.value}')"
   ]
  },
  {
   "cell_type": "code",
   "execution_count": 48,
   "id": "56b3031e",
   "metadata": {},
   "outputs": [],
   "source": [
    "from sympy import symbols, lambdify\n",
    "\n",
    "X = symbols('X')\n",
    "F = lambdify(X, f, 'numpy')"
   ]
  },
  {
   "cell_type": "code",
   "execution_count": 49,
   "id": "6a312c82",
   "metadata": {},
   "outputs": [],
   "source": [
    "x = np.arange(start.value, end.value, step.value)\n",
    "fx = np.vectorize(F)(x)"
   ]
  },
  {
   "cell_type": "code",
   "execution_count": 53,
   "id": "20fe159a",
   "metadata": {},
   "outputs": [
    {
     "data": {
      "application/vnd.plotly.v1+json": {
       "config": {
        "plotlyServerURL": "https://plot.ly"
       },
       "data": [
        {
         "hovertemplate": "x=%{x}<br>y=%{y}<extra></extra>",
         "legendgroup": "",
         "line": {
          "color": "#636efa",
          "dash": "solid"
         },
         "marker": {
          "symbol": "circle"
         },
         "mode": "lines",
         "name": "",
         "orientation": "v",
         "showlegend": false,
         "type": "scatter",
         "x": [
          0,
          0.1,
          0.2,
          0.30000000000000004,
          0.4,
          0.5,
          0.6000000000000001,
          0.7000000000000001,
          0.8,
          0.9,
          1,
          1.1,
          1.2000000000000002,
          1.3,
          1.4000000000000001,
          1.5,
          1.6,
          1.7000000000000002,
          1.8,
          1.9000000000000001
         ],
         "xaxis": "x",
         "y": [
          1,
          0.9048374180359595,
          0.8187307530779818,
          0.7408182206817179,
          0.6703200460356393,
          0.6065306597126334,
          0.5488116360940264,
          0.49658530379140947,
          0.44932896411722156,
          0.4065696597405991,
          0.36787944117144233,
          0.33287108369807955,
          0.301194211912202,
          0.2725317930340126,
          0.24659696394160643,
          0.22313016014842982,
          0.20189651799465538,
          0.1826835240527346,
          0.16529888822158653,
          0.14956861922263504
         ],
         "yaxis": "y"
        }
       ],
       "layout": {
        "legend": {
         "tracegroupgap": 0
        },
        "template": {
         "data": {
          "bar": [
           {
            "error_x": {
             "color": "#2a3f5f"
            },
            "error_y": {
             "color": "#2a3f5f"
            },
            "marker": {
             "line": {
              "color": "#E5ECF6",
              "width": 0.5
             },
             "pattern": {
              "fillmode": "overlay",
              "size": 10,
              "solidity": 0.2
             }
            },
            "type": "bar"
           }
          ],
          "barpolar": [
           {
            "marker": {
             "line": {
              "color": "#E5ECF6",
              "width": 0.5
             },
             "pattern": {
              "fillmode": "overlay",
              "size": 10,
              "solidity": 0.2
             }
            },
            "type": "barpolar"
           }
          ],
          "carpet": [
           {
            "aaxis": {
             "endlinecolor": "#2a3f5f",
             "gridcolor": "white",
             "linecolor": "white",
             "minorgridcolor": "white",
             "startlinecolor": "#2a3f5f"
            },
            "baxis": {
             "endlinecolor": "#2a3f5f",
             "gridcolor": "white",
             "linecolor": "white",
             "minorgridcolor": "white",
             "startlinecolor": "#2a3f5f"
            },
            "type": "carpet"
           }
          ],
          "choropleth": [
           {
            "colorbar": {
             "outlinewidth": 0,
             "ticks": ""
            },
            "type": "choropleth"
           }
          ],
          "contour": [
           {
            "colorbar": {
             "outlinewidth": 0,
             "ticks": ""
            },
            "colorscale": [
             [
              0,
              "#0d0887"
             ],
             [
              0.1111111111111111,
              "#46039f"
             ],
             [
              0.2222222222222222,
              "#7201a8"
             ],
             [
              0.3333333333333333,
              "#9c179e"
             ],
             [
              0.4444444444444444,
              "#bd3786"
             ],
             [
              0.5555555555555556,
              "#d8576b"
             ],
             [
              0.6666666666666666,
              "#ed7953"
             ],
             [
              0.7777777777777778,
              "#fb9f3a"
             ],
             [
              0.8888888888888888,
              "#fdca26"
             ],
             [
              1,
              "#f0f921"
             ]
            ],
            "type": "contour"
           }
          ],
          "contourcarpet": [
           {
            "colorbar": {
             "outlinewidth": 0,
             "ticks": ""
            },
            "type": "contourcarpet"
           }
          ],
          "heatmap": [
           {
            "colorbar": {
             "outlinewidth": 0,
             "ticks": ""
            },
            "colorscale": [
             [
              0,
              "#0d0887"
             ],
             [
              0.1111111111111111,
              "#46039f"
             ],
             [
              0.2222222222222222,
              "#7201a8"
             ],
             [
              0.3333333333333333,
              "#9c179e"
             ],
             [
              0.4444444444444444,
              "#bd3786"
             ],
             [
              0.5555555555555556,
              "#d8576b"
             ],
             [
              0.6666666666666666,
              "#ed7953"
             ],
             [
              0.7777777777777778,
              "#fb9f3a"
             ],
             [
              0.8888888888888888,
              "#fdca26"
             ],
             [
              1,
              "#f0f921"
             ]
            ],
            "type": "heatmap"
           }
          ],
          "heatmapgl": [
           {
            "colorbar": {
             "outlinewidth": 0,
             "ticks": ""
            },
            "colorscale": [
             [
              0,
              "#0d0887"
             ],
             [
              0.1111111111111111,
              "#46039f"
             ],
             [
              0.2222222222222222,
              "#7201a8"
             ],
             [
              0.3333333333333333,
              "#9c179e"
             ],
             [
              0.4444444444444444,
              "#bd3786"
             ],
             [
              0.5555555555555556,
              "#d8576b"
             ],
             [
              0.6666666666666666,
              "#ed7953"
             ],
             [
              0.7777777777777778,
              "#fb9f3a"
             ],
             [
              0.8888888888888888,
              "#fdca26"
             ],
             [
              1,
              "#f0f921"
             ]
            ],
            "type": "heatmapgl"
           }
          ],
          "histogram": [
           {
            "marker": {
             "pattern": {
              "fillmode": "overlay",
              "size": 10,
              "solidity": 0.2
             }
            },
            "type": "histogram"
           }
          ],
          "histogram2d": [
           {
            "colorbar": {
             "outlinewidth": 0,
             "ticks": ""
            },
            "colorscale": [
             [
              0,
              "#0d0887"
             ],
             [
              0.1111111111111111,
              "#46039f"
             ],
             [
              0.2222222222222222,
              "#7201a8"
             ],
             [
              0.3333333333333333,
              "#9c179e"
             ],
             [
              0.4444444444444444,
              "#bd3786"
             ],
             [
              0.5555555555555556,
              "#d8576b"
             ],
             [
              0.6666666666666666,
              "#ed7953"
             ],
             [
              0.7777777777777778,
              "#fb9f3a"
             ],
             [
              0.8888888888888888,
              "#fdca26"
             ],
             [
              1,
              "#f0f921"
             ]
            ],
            "type": "histogram2d"
           }
          ],
          "histogram2dcontour": [
           {
            "colorbar": {
             "outlinewidth": 0,
             "ticks": ""
            },
            "colorscale": [
             [
              0,
              "#0d0887"
             ],
             [
              0.1111111111111111,
              "#46039f"
             ],
             [
              0.2222222222222222,
              "#7201a8"
             ],
             [
              0.3333333333333333,
              "#9c179e"
             ],
             [
              0.4444444444444444,
              "#bd3786"
             ],
             [
              0.5555555555555556,
              "#d8576b"
             ],
             [
              0.6666666666666666,
              "#ed7953"
             ],
             [
              0.7777777777777778,
              "#fb9f3a"
             ],
             [
              0.8888888888888888,
              "#fdca26"
             ],
             [
              1,
              "#f0f921"
             ]
            ],
            "type": "histogram2dcontour"
           }
          ],
          "mesh3d": [
           {
            "colorbar": {
             "outlinewidth": 0,
             "ticks": ""
            },
            "type": "mesh3d"
           }
          ],
          "parcoords": [
           {
            "line": {
             "colorbar": {
              "outlinewidth": 0,
              "ticks": ""
             }
            },
            "type": "parcoords"
           }
          ],
          "pie": [
           {
            "automargin": true,
            "type": "pie"
           }
          ],
          "scatter": [
           {
            "marker": {
             "colorbar": {
              "outlinewidth": 0,
              "ticks": ""
             }
            },
            "type": "scatter"
           }
          ],
          "scatter3d": [
           {
            "line": {
             "colorbar": {
              "outlinewidth": 0,
              "ticks": ""
             }
            },
            "marker": {
             "colorbar": {
              "outlinewidth": 0,
              "ticks": ""
             }
            },
            "type": "scatter3d"
           }
          ],
          "scattercarpet": [
           {
            "marker": {
             "colorbar": {
              "outlinewidth": 0,
              "ticks": ""
             }
            },
            "type": "scattercarpet"
           }
          ],
          "scattergeo": [
           {
            "marker": {
             "colorbar": {
              "outlinewidth": 0,
              "ticks": ""
             }
            },
            "type": "scattergeo"
           }
          ],
          "scattergl": [
           {
            "marker": {
             "colorbar": {
              "outlinewidth": 0,
              "ticks": ""
             }
            },
            "type": "scattergl"
           }
          ],
          "scattermapbox": [
           {
            "marker": {
             "colorbar": {
              "outlinewidth": 0,
              "ticks": ""
             }
            },
            "type": "scattermapbox"
           }
          ],
          "scatterpolar": [
           {
            "marker": {
             "colorbar": {
              "outlinewidth": 0,
              "ticks": ""
             }
            },
            "type": "scatterpolar"
           }
          ],
          "scatterpolargl": [
           {
            "marker": {
             "colorbar": {
              "outlinewidth": 0,
              "ticks": ""
             }
            },
            "type": "scatterpolargl"
           }
          ],
          "scatterternary": [
           {
            "marker": {
             "colorbar": {
              "outlinewidth": 0,
              "ticks": ""
             }
            },
            "type": "scatterternary"
           }
          ],
          "surface": [
           {
            "colorbar": {
             "outlinewidth": 0,
             "ticks": ""
            },
            "colorscale": [
             [
              0,
              "#0d0887"
             ],
             [
              0.1111111111111111,
              "#46039f"
             ],
             [
              0.2222222222222222,
              "#7201a8"
             ],
             [
              0.3333333333333333,
              "#9c179e"
             ],
             [
              0.4444444444444444,
              "#bd3786"
             ],
             [
              0.5555555555555556,
              "#d8576b"
             ],
             [
              0.6666666666666666,
              "#ed7953"
             ],
             [
              0.7777777777777778,
              "#fb9f3a"
             ],
             [
              0.8888888888888888,
              "#fdca26"
             ],
             [
              1,
              "#f0f921"
             ]
            ],
            "type": "surface"
           }
          ],
          "table": [
           {
            "cells": {
             "fill": {
              "color": "#EBF0F8"
             },
             "line": {
              "color": "white"
             }
            },
            "header": {
             "fill": {
              "color": "#C8D4E3"
             },
             "line": {
              "color": "white"
             }
            },
            "type": "table"
           }
          ]
         },
         "layout": {
          "annotationdefaults": {
           "arrowcolor": "#2a3f5f",
           "arrowhead": 0,
           "arrowwidth": 1
          },
          "autotypenumbers": "strict",
          "coloraxis": {
           "colorbar": {
            "outlinewidth": 0,
            "ticks": ""
           }
          },
          "colorscale": {
           "diverging": [
            [
             0,
             "#8e0152"
            ],
            [
             0.1,
             "#c51b7d"
            ],
            [
             0.2,
             "#de77ae"
            ],
            [
             0.3,
             "#f1b6da"
            ],
            [
             0.4,
             "#fde0ef"
            ],
            [
             0.5,
             "#f7f7f7"
            ],
            [
             0.6,
             "#e6f5d0"
            ],
            [
             0.7,
             "#b8e186"
            ],
            [
             0.8,
             "#7fbc41"
            ],
            [
             0.9,
             "#4d9221"
            ],
            [
             1,
             "#276419"
            ]
           ],
           "sequential": [
            [
             0,
             "#0d0887"
            ],
            [
             0.1111111111111111,
             "#46039f"
            ],
            [
             0.2222222222222222,
             "#7201a8"
            ],
            [
             0.3333333333333333,
             "#9c179e"
            ],
            [
             0.4444444444444444,
             "#bd3786"
            ],
            [
             0.5555555555555556,
             "#d8576b"
            ],
            [
             0.6666666666666666,
             "#ed7953"
            ],
            [
             0.7777777777777778,
             "#fb9f3a"
            ],
            [
             0.8888888888888888,
             "#fdca26"
            ],
            [
             1,
             "#f0f921"
            ]
           ],
           "sequentialminus": [
            [
             0,
             "#0d0887"
            ],
            [
             0.1111111111111111,
             "#46039f"
            ],
            [
             0.2222222222222222,
             "#7201a8"
            ],
            [
             0.3333333333333333,
             "#9c179e"
            ],
            [
             0.4444444444444444,
             "#bd3786"
            ],
            [
             0.5555555555555556,
             "#d8576b"
            ],
            [
             0.6666666666666666,
             "#ed7953"
            ],
            [
             0.7777777777777778,
             "#fb9f3a"
            ],
            [
             0.8888888888888888,
             "#fdca26"
            ],
            [
             1,
             "#f0f921"
            ]
           ]
          },
          "colorway": [
           "#636efa",
           "#EF553B",
           "#00cc96",
           "#ab63fa",
           "#FFA15A",
           "#19d3f3",
           "#FF6692",
           "#B6E880",
           "#FF97FF",
           "#FECB52"
          ],
          "font": {
           "color": "#2a3f5f"
          },
          "geo": {
           "bgcolor": "white",
           "lakecolor": "white",
           "landcolor": "#E5ECF6",
           "showlakes": true,
           "showland": true,
           "subunitcolor": "white"
          },
          "hoverlabel": {
           "align": "left"
          },
          "hovermode": "closest",
          "mapbox": {
           "style": "light"
          },
          "paper_bgcolor": "white",
          "plot_bgcolor": "#E5ECF6",
          "polar": {
           "angularaxis": {
            "gridcolor": "white",
            "linecolor": "white",
            "ticks": ""
           },
           "bgcolor": "#E5ECF6",
           "radialaxis": {
            "gridcolor": "white",
            "linecolor": "white",
            "ticks": ""
           }
          },
          "scene": {
           "xaxis": {
            "backgroundcolor": "#E5ECF6",
            "gridcolor": "white",
            "gridwidth": 2,
            "linecolor": "white",
            "showbackground": true,
            "ticks": "",
            "zerolinecolor": "white"
           },
           "yaxis": {
            "backgroundcolor": "#E5ECF6",
            "gridcolor": "white",
            "gridwidth": 2,
            "linecolor": "white",
            "showbackground": true,
            "ticks": "",
            "zerolinecolor": "white"
           },
           "zaxis": {
            "backgroundcolor": "#E5ECF6",
            "gridcolor": "white",
            "gridwidth": 2,
            "linecolor": "white",
            "showbackground": true,
            "ticks": "",
            "zerolinecolor": "white"
           }
          },
          "shapedefaults": {
           "line": {
            "color": "#2a3f5f"
           }
          },
          "ternary": {
           "aaxis": {
            "gridcolor": "white",
            "linecolor": "white",
            "ticks": ""
           },
           "baxis": {
            "gridcolor": "white",
            "linecolor": "white",
            "ticks": ""
           },
           "bgcolor": "#E5ECF6",
           "caxis": {
            "gridcolor": "white",
            "linecolor": "white",
            "ticks": ""
           }
          },
          "title": {
           "x": 0.05
          },
          "xaxis": {
           "automargin": true,
           "gridcolor": "white",
           "linecolor": "white",
           "ticks": "",
           "title": {
            "standoff": 15
           },
           "zerolinecolor": "white",
           "zerolinewidth": 2
          },
          "yaxis": {
           "automargin": true,
           "gridcolor": "white",
           "linecolor": "white",
           "ticks": "",
           "title": {
            "standoff": 15
           },
           "zerolinecolor": "white",
           "zerolinewidth": 2
          }
         }
        },
        "title": {
         "text": "exp(-X)"
        },
        "xaxis": {
         "anchor": "y",
         "domain": [
          0,
          1
         ],
         "title": {
          "text": "x"
         }
        },
        "yaxis": {
         "anchor": "x",
         "domain": [
          0,
          1
         ],
         "title": {
          "text": "y"
         }
        }
       }
      },
      "text/html": [
       "<div>                            <div id=\"09dea055-bc3d-474f-aab2-83536fc88616\" class=\"plotly-graph-div\" style=\"height:525px; width:100%;\"></div>            <script type=\"text/javascript\">                require([\"plotly\"], function(Plotly) {                    window.PLOTLYENV=window.PLOTLYENV || {};                                    if (document.getElementById(\"09dea055-bc3d-474f-aab2-83536fc88616\")) {                    Plotly.newPlot(                        \"09dea055-bc3d-474f-aab2-83536fc88616\",                        [{\"hovertemplate\":\"x=%{x}<br>y=%{y}<extra></extra>\",\"legendgroup\":\"\",\"line\":{\"color\":\"#636efa\",\"dash\":\"solid\"},\"marker\":{\"symbol\":\"circle\"},\"mode\":\"lines\",\"name\":\"\",\"orientation\":\"v\",\"showlegend\":false,\"x\":[0.0,0.1,0.2,0.30000000000000004,0.4,0.5,0.6000000000000001,0.7000000000000001,0.8,0.9,1.0,1.1,1.2000000000000002,1.3,1.4000000000000001,1.5,1.6,1.7000000000000002,1.8,1.9000000000000001],\"xaxis\":\"x\",\"y\":[1.0,0.9048374180359595,0.8187307530779818,0.7408182206817179,0.6703200460356393,0.6065306597126334,0.5488116360940264,0.49658530379140947,0.44932896411722156,0.4065696597405991,0.36787944117144233,0.33287108369807955,0.301194211912202,0.2725317930340126,0.24659696394160643,0.22313016014842982,0.20189651799465538,0.1826835240527346,0.16529888822158653,0.14956861922263504],\"yaxis\":\"y\",\"type\":\"scatter\"}],                        {\"template\":{\"data\":{\"bar\":[{\"error_x\":{\"color\":\"#2a3f5f\"},\"error_y\":{\"color\":\"#2a3f5f\"},\"marker\":{\"line\":{\"color\":\"#E5ECF6\",\"width\":0.5},\"pattern\":{\"fillmode\":\"overlay\",\"size\":10,\"solidity\":0.2}},\"type\":\"bar\"}],\"barpolar\":[{\"marker\":{\"line\":{\"color\":\"#E5ECF6\",\"width\":0.5},\"pattern\":{\"fillmode\":\"overlay\",\"size\":10,\"solidity\":0.2}},\"type\":\"barpolar\"}],\"carpet\":[{\"aaxis\":{\"endlinecolor\":\"#2a3f5f\",\"gridcolor\":\"white\",\"linecolor\":\"white\",\"minorgridcolor\":\"white\",\"startlinecolor\":\"#2a3f5f\"},\"baxis\":{\"endlinecolor\":\"#2a3f5f\",\"gridcolor\":\"white\",\"linecolor\":\"white\",\"minorgridcolor\":\"white\",\"startlinecolor\":\"#2a3f5f\"},\"type\":\"carpet\"}],\"choropleth\":[{\"colorbar\":{\"outlinewidth\":0,\"ticks\":\"\"},\"type\":\"choropleth\"}],\"contour\":[{\"colorbar\":{\"outlinewidth\":0,\"ticks\":\"\"},\"colorscale\":[[0.0,\"#0d0887\"],[0.1111111111111111,\"#46039f\"],[0.2222222222222222,\"#7201a8\"],[0.3333333333333333,\"#9c179e\"],[0.4444444444444444,\"#bd3786\"],[0.5555555555555556,\"#d8576b\"],[0.6666666666666666,\"#ed7953\"],[0.7777777777777778,\"#fb9f3a\"],[0.8888888888888888,\"#fdca26\"],[1.0,\"#f0f921\"]],\"type\":\"contour\"}],\"contourcarpet\":[{\"colorbar\":{\"outlinewidth\":0,\"ticks\":\"\"},\"type\":\"contourcarpet\"}],\"heatmap\":[{\"colorbar\":{\"outlinewidth\":0,\"ticks\":\"\"},\"colorscale\":[[0.0,\"#0d0887\"],[0.1111111111111111,\"#46039f\"],[0.2222222222222222,\"#7201a8\"],[0.3333333333333333,\"#9c179e\"],[0.4444444444444444,\"#bd3786\"],[0.5555555555555556,\"#d8576b\"],[0.6666666666666666,\"#ed7953\"],[0.7777777777777778,\"#fb9f3a\"],[0.8888888888888888,\"#fdca26\"],[1.0,\"#f0f921\"]],\"type\":\"heatmap\"}],\"heatmapgl\":[{\"colorbar\":{\"outlinewidth\":0,\"ticks\":\"\"},\"colorscale\":[[0.0,\"#0d0887\"],[0.1111111111111111,\"#46039f\"],[0.2222222222222222,\"#7201a8\"],[0.3333333333333333,\"#9c179e\"],[0.4444444444444444,\"#bd3786\"],[0.5555555555555556,\"#d8576b\"],[0.6666666666666666,\"#ed7953\"],[0.7777777777777778,\"#fb9f3a\"],[0.8888888888888888,\"#fdca26\"],[1.0,\"#f0f921\"]],\"type\":\"heatmapgl\"}],\"histogram\":[{\"marker\":{\"pattern\":{\"fillmode\":\"overlay\",\"size\":10,\"solidity\":0.2}},\"type\":\"histogram\"}],\"histogram2d\":[{\"colorbar\":{\"outlinewidth\":0,\"ticks\":\"\"},\"colorscale\":[[0.0,\"#0d0887\"],[0.1111111111111111,\"#46039f\"],[0.2222222222222222,\"#7201a8\"],[0.3333333333333333,\"#9c179e\"],[0.4444444444444444,\"#bd3786\"],[0.5555555555555556,\"#d8576b\"],[0.6666666666666666,\"#ed7953\"],[0.7777777777777778,\"#fb9f3a\"],[0.8888888888888888,\"#fdca26\"],[1.0,\"#f0f921\"]],\"type\":\"histogram2d\"}],\"histogram2dcontour\":[{\"colorbar\":{\"outlinewidth\":0,\"ticks\":\"\"},\"colorscale\":[[0.0,\"#0d0887\"],[0.1111111111111111,\"#46039f\"],[0.2222222222222222,\"#7201a8\"],[0.3333333333333333,\"#9c179e\"],[0.4444444444444444,\"#bd3786\"],[0.5555555555555556,\"#d8576b\"],[0.6666666666666666,\"#ed7953\"],[0.7777777777777778,\"#fb9f3a\"],[0.8888888888888888,\"#fdca26\"],[1.0,\"#f0f921\"]],\"type\":\"histogram2dcontour\"}],\"mesh3d\":[{\"colorbar\":{\"outlinewidth\":0,\"ticks\":\"\"},\"type\":\"mesh3d\"}],\"parcoords\":[{\"line\":{\"colorbar\":{\"outlinewidth\":0,\"ticks\":\"\"}},\"type\":\"parcoords\"}],\"pie\":[{\"automargin\":true,\"type\":\"pie\"}],\"scatter\":[{\"marker\":{\"colorbar\":{\"outlinewidth\":0,\"ticks\":\"\"}},\"type\":\"scatter\"}],\"scatter3d\":[{\"line\":{\"colorbar\":{\"outlinewidth\":0,\"ticks\":\"\"}},\"marker\":{\"colorbar\":{\"outlinewidth\":0,\"ticks\":\"\"}},\"type\":\"scatter3d\"}],\"scattercarpet\":[{\"marker\":{\"colorbar\":{\"outlinewidth\":0,\"ticks\":\"\"}},\"type\":\"scattercarpet\"}],\"scattergeo\":[{\"marker\":{\"colorbar\":{\"outlinewidth\":0,\"ticks\":\"\"}},\"type\":\"scattergeo\"}],\"scattergl\":[{\"marker\":{\"colorbar\":{\"outlinewidth\":0,\"ticks\":\"\"}},\"type\":\"scattergl\"}],\"scattermapbox\":[{\"marker\":{\"colorbar\":{\"outlinewidth\":0,\"ticks\":\"\"}},\"type\":\"scattermapbox\"}],\"scatterpolar\":[{\"marker\":{\"colorbar\":{\"outlinewidth\":0,\"ticks\":\"\"}},\"type\":\"scatterpolar\"}],\"scatterpolargl\":[{\"marker\":{\"colorbar\":{\"outlinewidth\":0,\"ticks\":\"\"}},\"type\":\"scatterpolargl\"}],\"scatterternary\":[{\"marker\":{\"colorbar\":{\"outlinewidth\":0,\"ticks\":\"\"}},\"type\":\"scatterternary\"}],\"surface\":[{\"colorbar\":{\"outlinewidth\":0,\"ticks\":\"\"},\"colorscale\":[[0.0,\"#0d0887\"],[0.1111111111111111,\"#46039f\"],[0.2222222222222222,\"#7201a8\"],[0.3333333333333333,\"#9c179e\"],[0.4444444444444444,\"#bd3786\"],[0.5555555555555556,\"#d8576b\"],[0.6666666666666666,\"#ed7953\"],[0.7777777777777778,\"#fb9f3a\"],[0.8888888888888888,\"#fdca26\"],[1.0,\"#f0f921\"]],\"type\":\"surface\"}],\"table\":[{\"cells\":{\"fill\":{\"color\":\"#EBF0F8\"},\"line\":{\"color\":\"white\"}},\"header\":{\"fill\":{\"color\":\"#C8D4E3\"},\"line\":{\"color\":\"white\"}},\"type\":\"table\"}]},\"layout\":{\"annotationdefaults\":{\"arrowcolor\":\"#2a3f5f\",\"arrowhead\":0,\"arrowwidth\":1},\"autotypenumbers\":\"strict\",\"coloraxis\":{\"colorbar\":{\"outlinewidth\":0,\"ticks\":\"\"}},\"colorscale\":{\"diverging\":[[0,\"#8e0152\"],[0.1,\"#c51b7d\"],[0.2,\"#de77ae\"],[0.3,\"#f1b6da\"],[0.4,\"#fde0ef\"],[0.5,\"#f7f7f7\"],[0.6,\"#e6f5d0\"],[0.7,\"#b8e186\"],[0.8,\"#7fbc41\"],[0.9,\"#4d9221\"],[1,\"#276419\"]],\"sequential\":[[0.0,\"#0d0887\"],[0.1111111111111111,\"#46039f\"],[0.2222222222222222,\"#7201a8\"],[0.3333333333333333,\"#9c179e\"],[0.4444444444444444,\"#bd3786\"],[0.5555555555555556,\"#d8576b\"],[0.6666666666666666,\"#ed7953\"],[0.7777777777777778,\"#fb9f3a\"],[0.8888888888888888,\"#fdca26\"],[1.0,\"#f0f921\"]],\"sequentialminus\":[[0.0,\"#0d0887\"],[0.1111111111111111,\"#46039f\"],[0.2222222222222222,\"#7201a8\"],[0.3333333333333333,\"#9c179e\"],[0.4444444444444444,\"#bd3786\"],[0.5555555555555556,\"#d8576b\"],[0.6666666666666666,\"#ed7953\"],[0.7777777777777778,\"#fb9f3a\"],[0.8888888888888888,\"#fdca26\"],[1.0,\"#f0f921\"]]},\"colorway\":[\"#636efa\",\"#EF553B\",\"#00cc96\",\"#ab63fa\",\"#FFA15A\",\"#19d3f3\",\"#FF6692\",\"#B6E880\",\"#FF97FF\",\"#FECB52\"],\"font\":{\"color\":\"#2a3f5f\"},\"geo\":{\"bgcolor\":\"white\",\"lakecolor\":\"white\",\"landcolor\":\"#E5ECF6\",\"showlakes\":true,\"showland\":true,\"subunitcolor\":\"white\"},\"hoverlabel\":{\"align\":\"left\"},\"hovermode\":\"closest\",\"mapbox\":{\"style\":\"light\"},\"paper_bgcolor\":\"white\",\"plot_bgcolor\":\"#E5ECF6\",\"polar\":{\"angularaxis\":{\"gridcolor\":\"white\",\"linecolor\":\"white\",\"ticks\":\"\"},\"bgcolor\":\"#E5ECF6\",\"radialaxis\":{\"gridcolor\":\"white\",\"linecolor\":\"white\",\"ticks\":\"\"}},\"scene\":{\"xaxis\":{\"backgroundcolor\":\"#E5ECF6\",\"gridcolor\":\"white\",\"gridwidth\":2,\"linecolor\":\"white\",\"showbackground\":true,\"ticks\":\"\",\"zerolinecolor\":\"white\"},\"yaxis\":{\"backgroundcolor\":\"#E5ECF6\",\"gridcolor\":\"white\",\"gridwidth\":2,\"linecolor\":\"white\",\"showbackground\":true,\"ticks\":\"\",\"zerolinecolor\":\"white\"},\"zaxis\":{\"backgroundcolor\":\"#E5ECF6\",\"gridcolor\":\"white\",\"gridwidth\":2,\"linecolor\":\"white\",\"showbackground\":true,\"ticks\":\"\",\"zerolinecolor\":\"white\"}},\"shapedefaults\":{\"line\":{\"color\":\"#2a3f5f\"}},\"ternary\":{\"aaxis\":{\"gridcolor\":\"white\",\"linecolor\":\"white\",\"ticks\":\"\"},\"baxis\":{\"gridcolor\":\"white\",\"linecolor\":\"white\",\"ticks\":\"\"},\"bgcolor\":\"#E5ECF6\",\"caxis\":{\"gridcolor\":\"white\",\"linecolor\":\"white\",\"ticks\":\"\"}},\"title\":{\"x\":0.05},\"xaxis\":{\"automargin\":true,\"gridcolor\":\"white\",\"linecolor\":\"white\",\"ticks\":\"\",\"title\":{\"standoff\":15},\"zerolinecolor\":\"white\",\"zerolinewidth\":2},\"yaxis\":{\"automargin\":true,\"gridcolor\":\"white\",\"linecolor\":\"white\",\"ticks\":\"\",\"title\":{\"standoff\":15},\"zerolinecolor\":\"white\",\"zerolinewidth\":2}}},\"xaxis\":{\"anchor\":\"y\",\"domain\":[0.0,1.0],\"title\":{\"text\":\"x\"}},\"yaxis\":{\"anchor\":\"x\",\"domain\":[0.0,1.0],\"title\":{\"text\":\"y\"}},\"legend\":{\"tracegroupgap\":0},\"title\":{\"text\":\"exp(-X)\"}},                        {\"responsive\": true}                    ).then(function(){\n",
       "                            \n",
       "var gd = document.getElementById('09dea055-bc3d-474f-aab2-83536fc88616');\n",
       "var x = new MutationObserver(function (mutations, observer) {{\n",
       "        var display = window.getComputedStyle(gd).display;\n",
       "        if (!display || display === 'none') {{\n",
       "            console.log([gd, 'removed!']);\n",
       "            Plotly.purge(gd);\n",
       "            observer.disconnect();\n",
       "        }}\n",
       "}});\n",
       "\n",
       "// Listen for the removal of the full notebook cells\n",
       "var notebookContainer = gd.closest('#notebook-container');\n",
       "if (notebookContainer) {{\n",
       "    x.observe(notebookContainer, {childList: true});\n",
       "}}\n",
       "\n",
       "// Listen for the clearing of the current output cell\n",
       "var outputEl = gd.closest('.output');\n",
       "if (outputEl) {{\n",
       "    x.observe(outputEl, {childList: true});\n",
       "}}\n",
       "\n",
       "                        })                };                });            </script>        </div>"
      ]
     },
     "metadata": {},
     "output_type": "display_data"
    }
   ],
   "source": [
    "fig = px.line(x = x, y=fx, title=expression.value)\n",
    "fig.show()"
   ]
  },
  {
   "cell_type": "code",
   "execution_count": 54,
   "id": "c9b0dbeb",
   "metadata": {},
   "outputs": [
    {
     "data": {
      "image/png": "[encoded data removed]",
      "text/plain": [
       "<Figure size 1008x576 with 1 Axes>"
      ]
     },
     "metadata": {
      "needs_background": "light"
     },
     "output_type": "display_data"
    }
   ],
   "source": [
    "v = np.linspace(0, 2*np.pi, 60)\n",
    "X, V = np.meshgrid(x, v)\n",
    "fig = plt.figure(figsize=(14, 8))\n",
    "ax = fig.add_subplot(1, 1, 1, projection='3d')\n",
    "graph = F(X)\n",
    "Y = graph*np.cos(V)\n",
    "Z = graph*np.sin(V)\n",
    "ax.plot_surface(X, Y, Z, alpha=1, color='blue', rstride=6, cstride=12)\n",
    "plt.show()"
   ]
  },
  {
   "cell_type": "code",
   "execution_count": 55,
   "id": "b318e684",
   "metadata": {},
   "outputs": [
    {
     "data": {
      "application/vnd.plotly.v1+json": {
       "config": {
        "plotlyServerURL": "https://plot.ly"
       },
       "data": [
        {
         "type": "surface",
         "x": [
          [
           0,
           0.1,
           0.2,
           0.30000000000000004,
           0.4,
           0.5,
           0.6000000000000001,
           0.7000000000000001,
           0.8,
           0.9,
           1,
           1.1,
           1.2000000000000002,
           1.3,
           1.4000000000000001,
           1.5,
           1.6,
           1.7000000000000002,
           1.8,
           1.9000000000000001
          ],
          [
           0,
           0.1,
           0.2,
           0.30000000000000004,
           0.4,
           0.5,
           0.6000000000000001,
           0.7000000000000001,
           0.8,
           0.9,
           1,
           1.1,
           1.2000000000000002,
           1.3,
           1.4000000000000001,
           1.5,
           1.6,
           1.7000000000000002,
           1.8,
           1.9000000000000001
          ],
          [
           0,
           0.1,
           0.2,
           0.30000000000000004,
           0.4,
           0.5,
           0.6000000000000001,
           0.7000000000000001,
           0.8,
           0.9,
           1,
           1.1,
           1.2000000000000002,
           1.3,
           1.4000000000000001,
           1.5,
           1.6,
           1.7000000000000002,
           1.8,
           1.9000000000000001
          ],
          [
           0,
           0.1,
           0.2,
           0.30000000000000004,
           0.4,
           0.5,
           0.6000000000000001,
           0.7000000000000001,
           0.8,
           0.9,
           1,
           1.1,
           1.2000000000000002,
           1.3,
           1.4000000000000001,
           1.5,
           1.6,
           1.7000000000000002,
           1.8,
           1.9000000000000001
          ],
          [
           0,
           0.1,
           0.2,
           0.30000000000000004,
           0.4,
           0.5,
           0.6000000000000001,
           0.7000000000000001,
           0.8,
           0.9,
           1,
           1.1,
           1.2000000000000002,
           1.3,
           1.4000000000000001,
           1.5,
           1.6,
           1.7000000000000002,
           1.8,
           1.9000000000000001
          ],
          [
           0,
           0.1,
           0.2,
           0.30000000000000004,
           0.4,
           0.5,
           0.6000000000000001,
           0.7000000000000001,
           0.8,
           0.9,
           1,
           1.1,
           1.2000000000000002,
           1.3,
           1.4000000000000001,
           1.5,
           1.6,
           1.7000000000000002,
           1.8,
           1.9000000000000001
          ],
          [
           0,
           0.1,
           0.2,
           0.30000000000000004,
           0.4,
           0.5,
           0.6000000000000001,
           0.7000000000000001,
           0.8,
           0.9,
           1,
           1.1,
           1.2000000000000002,
           1.3,
           1.4000000000000001,
           1.5,
           1.6,
           1.7000000000000002,
           1.8,
           1.9000000000000001
          ],
          [
           0,
           0.1,
           0.2,
           0.30000000000000004,
           0.4,
           0.5,
           0.6000000000000001,
           0.7000000000000001,
           0.8,
           0.9,
           1,
           1.1,
           1.2000000000000002,
           1.3,
           1.4000000000000001,
           1.5,
           1.6,
           1.7000000000000002,
           1.8,
           1.9000000000000001
          ],
          [
           0,
           0.1,
           0.2,
           0.30000000000000004,
           0.4,
           0.5,
           0.6000000000000001,
           0.7000000000000001,
           0.8,
           0.9,
           1,
           1.1,
           1.2000000000000002,
           1.3,
           1.4000000000000001,
           1.5,
           1.6,
           1.7000000000000002,
           1.8,
           1.9000000000000001
          ],
          [
           0,
           0.1,
           0.2,
           0.30000000000000004,
           0.4,
           0.5,
           0.6000000000000001,
           0.7000000000000001,
           0.8,
           0.9,
           1,
           1.1,
           1.2000000000000002,
           1.3,
           1.4000000000000001,
           1.5,
           1.6,
           1.7000000000000002,
           1.8,
           1.9000000000000001
          ],
          [
           0,
           0.1,
           0.2,
           0.30000000000000004,
           0.4,
           0.5,
           0.6000000000000001,
           0.7000000000000001,
           0.8,
           0.9,
           1,
           1.1,
           1.2000000000000002,
           1.3,
           1.4000000000000001,
           1.5,
           1.6,
           1.7000000000000002,
           1.8,
           1.9000000000000001
          ],
          [
           0,
           0.1,
           0.2,
           0.30000000000000004,
           0.4,
           0.5,
           0.6000000000000001,
           0.7000000000000001,
           0.8,
           0.9,
           1,
           1.1,
           1.2000000000000002,
           1.3,
           1.4000000000000001,
           1.5,
           1.6,
           1.7000000000000002,
           1.8,
           1.9000000000000001
          ],
          [
           0,
           0.1,
           0.2,
           0.30000000000000004,
           0.4,
           0.5,
           0.6000000000000001,
           0.7000000000000001,
           0.8,
           0.9,
           1,
           1.1,
           1.2000000000000002,
           1.3,
           1.4000000000000001,
           1.5,
           1.6,
           1.7000000000000002,
           1.8,
           1.9000000000000001
          ],
          [
           0,
           0.1,
           0.2,
           0.30000000000000004,
           0.4,
           0.5,
           0.6000000000000001,
           0.7000000000000001,
           0.8,
           0.9,
           1,
           1.1,
           1.2000000000000002,
           1.3,
           1.4000000000000001,
           1.5,
           1.6,
           1.7000000000000002,
           1.8,
           1.9000000000000001
          ],
          [
           0,
           0.1,
           0.2,
           0.30000000000000004,
           0.4,
           0.5,
           0.6000000000000001,
           0.7000000000000001,
           0.8,
           0.9,
           1,
           1.1,
           1.2000000000000002,
           1.3,
           1.4000000000000001,
           1.5,
           1.6,
           1.7000000000000002,
           1.8,
           1.9000000000000001
          ],
          [
           0,
           0.1,
           0.2,
           0.30000000000000004,
           0.4,
           0.5,
           0.6000000000000001,
           0.7000000000000001,
           0.8,
           0.9,
           1,
           1.1,
           1.2000000000000002,
           1.3,
           1.4000000000000001,
           1.5,
           1.6,
           1.7000000000000002,
           1.8,
           1.9000000000000001
          ],
          [
           0,
           0.1,
           0.2,
           0.30000000000000004,
           0.4,
           0.5,
           0.6000000000000001,
           0.7000000000000001,
           0.8,
           0.9,
           1,
           1.1,
           1.2000000000000002,
           1.3,
           1.4000000000000001,
           1.5,
           1.6,
           1.7000000000000002,
           1.8,
           1.9000000000000001
          ],
          [
           0,
           0.1,
           0.2,
           0.30000000000000004,
           0.4,
           0.5,
           0.6000000000000001,
           0.7000000000000001,
           0.8,
           0.9,
           1,
           1.1,
           1.2000000000000002,
           1.3,
           1.4000000000000001,
           1.5,
           1.6,
           1.7000000000000002,
           1.8,
           1.9000000000000001
          ],
          [
           0,
           0.1,
           0.2,
           0.30000000000000004,
           0.4,
           0.5,
           0.6000000000000001,
           0.7000000000000001,
           0.8,
           0.9,
           1,
           1.1,
           1.2000000000000002,
           1.3,
           1.4000000000000001,
           1.5,
           1.6,
           1.7000000000000002,
           1.8,
           1.9000000000000001
          ],
          [
           0,
           0.1,
           0.2,
           0.30000000000000004,
           0.4,
           0.5,
           0.6000000000000001,
           0.7000000000000001,
           0.8,
           0.9,
           1,
           1.1,
           1.2000000000000002,
           1.3,
           1.4000000000000001,
           1.5,
           1.6,
           1.7000000000000002,
           1.8,
           1.9000000000000001
          ],
          [
           0,
           0.1,
           0.2,
           0.30000000000000004,
           0.4,
           0.5,
           0.6000000000000001,
           0.7000000000000001,
           0.8,
           0.9,
           1,
           1.1,
           1.2000000000000002,
           1.3,
           1.4000000000000001,
           1.5,
           1.6,
           1.7000000000000002,
           1.8,
           1.9000000000000001
          ],
          [
           0,
           0.1,
           0.2,
           0.30000000000000004,
           0.4,
           0.5,
           0.6000000000000001,
           0.7000000000000001,
           0.8,
           0.9,
           1,
           1.1,
           1.2000000000000002,
           1.3,
           1.4000000000000001,
           1.5,
           1.6,
           1.7000000000000002,
           1.8,
           1.9000000000000001
          ],
          [
           0,
           0.1,
           0.2,
           0.30000000000000004,
           0.4,
           0.5,
           0.6000000000000001,
           0.7000000000000001,
           0.8,
           0.9,
           1,
           1.1,
           1.2000000000000002,
           1.3,
           1.4000000000000001,
           1.5,
           1.6,
           1.7000000000000002,
           1.8,
           1.9000000000000001
          ],
          [
           0,
           0.1,
           0.2,
           0.30000000000000004,
           0.4,
           0.5,
           0.6000000000000001,
           0.7000000000000001,
           0.8,
           0.9,
           1,
           1.1,
           1.2000000000000002,
           1.3,
           1.4000000000000001,
           1.5,
           1.6,
           1.7000000000000002,
           1.8,
           1.9000000000000001
          ],
          [
           0,
           0.1,
           0.2,
           0.30000000000000004,
           0.4,
           0.5,
           0.6000000000000001,
           0.7000000000000001,
           0.8,
           0.9,
           1,
           1.1,
           1.2000000000000002,
           1.3,
           1.4000000000000001,
           1.5,
           1.6,
           1.7000000000000002,
           1.8,
           1.9000000000000001
          ],
          [
           0,
           0.1,
           0.2,
           0.30000000000000004,
           0.4,
           0.5,
           0.6000000000000001,
           0.7000000000000001,
           0.8,
           0.9,
           1,
           1.1,
           1.2000000000000002,
           1.3,
           1.4000000000000001,
           1.5,
           1.6,
           1.7000000000000002,
           1.8,
           1.9000000000000001
          ],
          [
           0,
           0.1,
           0.2,
           0.30000000000000004,
           0.4,
           0.5,
           0.6000000000000001,
           0.7000000000000001,
           0.8,
           0.9,
           1,
           1.1,
           1.2000000000000002,
           1.3,
           1.4000000000000001,
           1.5,
           1.6,
           1.7000000000000002,
           1.8,
           1.9000000000000001
          ],
          [
           0,
           0.1,
           0.2,
           0.30000000000000004,
           0.4,
           0.5,
           0.6000000000000001,
           0.7000000000000001,
           0.8,
           0.9,
           1,
           1.1,
           1.2000000000000002,
           1.3,
           1.4000000000000001,
           1.5,
           1.6,
           1.7000000000000002,
           1.8,
           1.9000000000000001
          ],
          [
           0,
           0.1,
           0.2,
           0.30000000000000004,
           0.4,
           0.5,
           0.6000000000000001,
           0.7000000000000001,
           0.8,
           0.9,
           1,
           1.1,
           1.2000000000000002,
           1.3,
           1.4000000000000001,
           1.5,
           1.6,
           1.7000000000000002,
           1.8,
           1.9000000000000001
          ],
          [
           0,
           0.1,
           0.2,
           0.30000000000000004,
           0.4,
           0.5,
           0.6000000000000001,
           0.7000000000000001,
           0.8,
           0.9,
           1,
           1.1,
           1.2000000000000002,
           1.3,
           1.4000000000000001,
           1.5,
           1.6,
           1.7000000000000002,
           1.8,
           1.9000000000000001
          ],
          [
           0,
           0.1,
           0.2,
           0.30000000000000004,
           0.4,
           0.5,
           0.6000000000000001,
           0.7000000000000001,
           0.8,
           0.9,
           1,
           1.1,
           1.2000000000000002,
           1.3,
           1.4000000000000001,
           1.5,
           1.6,
           1.7000000000000002,
           1.8,
           1.9000000000000001
          ],
          [
           0,
           0.1,
           0.2,
           0.30000000000000004,
           0.4,
           0.5,
           0.6000000000000001,
           0.7000000000000001,
           0.8,
           0.9,
           1,
           1.1,
           1.2000000000000002,
           1.3,
           1.4000000000000001,
           1.5,
           1.6,
           1.7000000000000002,
           1.8,
           1.9000000000000001
          ],
          [
           0,
           0.1,
           0.2,
           0.30000000000000004,
           0.4,
           0.5,
           0.6000000000000001,
           0.7000000000000001,
           0.8,
           0.9,
           1,
           1.1,
           1.2000000000000002,
           1.3,
           1.4000000000000001,
           1.5,
           1.6,
           1.7000000000000002,
           1.8,
           1.9000000000000001
          ],
          [
           0,
           0.1,
           0.2,
           0.30000000000000004,
           0.4,
           0.5,
           0.6000000000000001,
           0.7000000000000001,
           0.8,
           0.9,
           1,
           1.1,
           1.2000000000000002,
           1.3,
           1.4000000000000001,
           1.5,
           1.6,
           1.7000000000000002,
           1.8,
           1.9000000000000001
          ],
          [
           0,
           0.1,
           0.2,
           0.30000000000000004,
           0.4,
           0.5,
           0.6000000000000001,
           0.7000000000000001,
           0.8,
           0.9,
           1,
           1.1,
           1.2000000000000002,
           1.3,
           1.4000000000000001,
           1.5,
           1.6,
           1.7000000000000002,
           1.8,
           1.9000000000000001
          ],
          [
           0,
           0.1,
           0.2,
           0.30000000000000004,
           0.4,
           0.5,
           0.6000000000000001,
           0.7000000000000001,
           0.8,
           0.9,
           1,
           1.1,
           1.2000000000000002,
           1.3,
           1.4000000000000001,
           1.5,
           1.6,
           1.7000000000000002,
           1.8,
           1.9000000000000001
          ],
          [
           0,
           0.1,
           0.2,
           0.30000000000000004,
           0.4,
           0.5,
           0.6000000000000001,
           0.7000000000000001,
           0.8,
           0.9,
           1,
           1.1,
           1.2000000000000002,
           1.3,
           1.4000000000000001,
           1.5,
           1.6,
           1.7000000000000002,
           1.8,
           1.9000000000000001
          ],
          [
           0,
           0.1,
           0.2,
           0.30000000000000004,
           0.4,
           0.5,
           0.6000000000000001,
           0.7000000000000001,
           0.8,
           0.9,
           1,
           1.1,
           1.2000000000000002,
           1.3,
           1.4000000000000001,
           1.5,
           1.6,
           1.7000000000000002,
           1.8,
           1.9000000000000001
          ],
          [
           0,
           0.1,
           0.2,
           0.30000000000000004,
           0.4,
           0.5,
           0.6000000000000001,
           0.7000000000000001,
           0.8,
           0.9,
           1,
           1.1,
           1.2000000000000002,
           1.3,
           1.4000000000000001,
           1.5,
           1.6,
           1.7000000000000002,
           1.8,
           1.9000000000000001
          ],
          [
           0,
           0.1,
           0.2,
           0.30000000000000004,
           0.4,
           0.5,
           0.6000000000000001,
           0.7000000000000001,
           0.8,
           0.9,
           1,
           1.1,
           1.2000000000000002,
           1.3,
           1.4000000000000001,
           1.5,
           1.6,
           1.7000000000000002,
           1.8,
           1.9000000000000001
          ],
          [
           0,
           0.1,
           0.2,
           0.30000000000000004,
           0.4,
           0.5,
           0.6000000000000001,
           0.7000000000000001,
           0.8,
           0.9,
           1,
           1.1,
           1.2000000000000002,
           1.3,
           1.4000000000000001,
           1.5,
           1.6,
           1.7000000000000002,
           1.8,
           1.9000000000000001
          ],
          [
           0,
           0.1,
           0.2,
           0.30000000000000004,
           0.4,
           0.5,
           0.6000000000000001,
           0.7000000000000001,
           0.8,
           0.9,
           1,
           1.1,
           1.2000000000000002,
           1.3,
           1.4000000000000001,
           1.5,
           1.6,
           1.7000000000000002,
           1.8,
           1.9000000000000001
          ],
          [
           0,
           0.1,
           0.2,
           0.30000000000000004,
           0.4,
           0.5,
           0.6000000000000001,
           0.7000000000000001,
           0.8,
           0.9,
           1,
           1.1,
           1.2000000000000002,
           1.3,
           1.4000000000000001,
           1.5,
           1.6,
           1.7000000000000002,
           1.8,
           1.9000000000000001
          ],
          [
           0,
           0.1,
           0.2,
           0.30000000000000004,
           0.4,
           0.5,
           0.6000000000000001,
           0.7000000000000001,
           0.8,
           0.9,
           1,
           1.1,
           1.2000000000000002,
           1.3,
           1.4000000000000001,
           1.5,
           1.6,
           1.7000000000000002,
           1.8,
           1.9000000000000001
          ],
          [
           0,
           0.1,
           0.2,
           0.30000000000000004,
           0.4,
           0.5,
           0.6000000000000001,
           0.7000000000000001,
           0.8,
           0.9,
           1,
           1.1,
           1.2000000000000002,
           1.3,
           1.4000000000000001,
           1.5,
           1.6,
           1.7000000000000002,
           1.8,
           1.9000000000000001
          ],
          [
           0,
           0.1,
           0.2,
           0.30000000000000004,
           0.4,
           0.5,
           0.6000000000000001,
           0.7000000000000001,
           0.8,
           0.9,
           1,
           1.1,
           1.2000000000000002,
           1.3,
           1.4000000000000001,
           1.5,
           1.6,
           1.7000000000000002,
           1.8,
           1.9000000000000001
          ],
          [
           0,
           0.1,
           0.2,
           0.30000000000000004,
           0.4,
           0.5,
           0.6000000000000001,
           0.7000000000000001,
           0.8,
           0.9,
           1,
           1.1,
           1.2000000000000002,
           1.3,
           1.4000000000000001,
           1.5,
           1.6,
           1.7000000000000002,
           1.8,
           1.9000000000000001
          ],
          [
           0,
           0.1,
           0.2,
           0.30000000000000004,
           0.4,
           0.5,
           0.6000000000000001,
           0.7000000000000001,
           0.8,
           0.9,
           1,
           1.1,
           1.2000000000000002,
           1.3,
           1.4000000000000001,
           1.5,
           1.6,
           1.7000000000000002,
           1.8,
           1.9000000000000001
          ],
          [
           0,
           0.1,
           0.2,
           0.30000000000000004,
           0.4,
           0.5,
           0.6000000000000001,
           0.7000000000000001,
           0.8,
           0.9,
           1,
           1.1,
           1.2000000000000002,
           1.3,
           1.4000000000000001,
           1.5,
           1.6,
           1.7000000000000002,
           1.8,
           1.9000000000000001
          ],
          [
           0,
           0.1,
           0.2,
           0.30000000000000004,
           0.4,
           0.5,
           0.6000000000000001,
           0.7000000000000001,
           0.8,
           0.9,
           1,
           1.1,
           1.2000000000000002,
           1.3,
           1.4000000000000001,
           1.5,
           1.6,
           1.7000000000000002,
           1.8,
           1.9000000000000001
          ],
          [
           0,
           0.1,
           0.2,
           0.30000000000000004,
           0.4,
           0.5,
           0.6000000000000001,
           0.7000000000000001,
           0.8,
           0.9,
           1,
           1.1,
           1.2000000000000002,
           1.3,
           1.4000000000000001,
           1.5,
           1.6,
           1.7000000000000002,
           1.8,
           1.9000000000000001
          ],
          [
           0,
           0.1,
           0.2,
           0.30000000000000004,
           0.4,
           0.5,
           0.6000000000000001,
           0.7000000000000001,
           0.8,
           0.9,
           1,
           1.1,
           1.2000000000000002,
           1.3,
           1.4000000000000001,
           1.5,
           1.6,
           1.7000000000000002,
           1.8,
           1.9000000000000001
          ],
          [
           0,
           0.1,
           0.2,
           0.30000000000000004,
           0.4,
           0.5,
           0.6000000000000001,
           0.7000000000000001,
           0.8,
           0.9,
           1,
           1.1,
           1.2000000000000002,
           1.3,
           1.4000000000000001,
           1.5,
           1.6,
           1.7000000000000002,
           1.8,
           1.9000000000000001
          ],
          [
           0,
           0.1,
           0.2,
           0.30000000000000004,
           0.4,
           0.5,
           0.6000000000000001,
           0.7000000000000001,
           0.8,
           0.9,
           1,
           1.1,
           1.2000000000000002,
           1.3,
           1.4000000000000001,
           1.5,
           1.6,
           1.7000000000000002,
           1.8,
           1.9000000000000001
          ],
          [
           0,
           0.1,
           0.2,
           0.30000000000000004,
           0.4,
           0.5,
           0.6000000000000001,
           0.7000000000000001,
           0.8,
           0.9,
           1,
           1.1,
           1.2000000000000002,
           1.3,
           1.4000000000000001,
           1.5,
           1.6,
           1.7000000000000002,
           1.8,
           1.9000000000000001
          ],
          [
           0,
           0.1,
           0.2,
           0.30000000000000004,
           0.4,
           0.5,
           0.6000000000000001,
           0.7000000000000001,
           0.8,
           0.9,
           1,
           1.1,
           1.2000000000000002,
           1.3,
           1.4000000000000001,
           1.5,
           1.6,
           1.7000000000000002,
           1.8,
           1.9000000000000001
          ],
          [
           0,
           0.1,
           0.2,
           0.30000000000000004,
           0.4,
           0.5,
           0.6000000000000001,
           0.7000000000000001,
           0.8,
           0.9,
           1,
           1.1,
           1.2000000000000002,
           1.3,
           1.4000000000000001,
           1.5,
           1.6,
           1.7000000000000002,
           1.8,
           1.9000000000000001
          ],
          [
           0,
           0.1,
           0.2,
           0.30000000000000004,
           0.4,
           0.5,
           0.6000000000000001,
           0.7000000000000001,
           0.8,
           0.9,
           1,
           1.1,
           1.2000000000000002,
           1.3,
           1.4000000000000001,
           1.5,
           1.6,
           1.7000000000000002,
           1.8,
           1.9000000000000001
          ],
          [
           0,
           0.1,
           0.2,
           0.30000000000000004,
           0.4,
           0.5,
           0.6000000000000001,
           0.7000000000000001,
           0.8,
           0.9,
           1,
           1.1,
           1.2000000000000002,
           1.3,
           1.4000000000000001,
           1.5,
           1.6,
           1.7000000000000002,
           1.8,
           1.9000000000000001
          ],
          [
           0,
           0.1,
           0.2,
           0.30000000000000004,
           0.4,
           0.5,
           0.6000000000000001,
           0.7000000000000001,
           0.8,
           0.9,
           1,
           1.1,
           1.2000000000000002,
           1.3,
           1.4000000000000001,
           1.5,
           1.6,
           1.7000000000000002,
           1.8,
           1.9000000000000001
          ]
         ],
         "y": [
          [
           1,
           0.9048374180359595,
           0.8187307530779818,
           0.7408182206817179,
           0.6703200460356393,
           0.6065306597126334,
           0.5488116360940264,
           0.49658530379140947,
           0.44932896411722156,
           0.4065696597405991,
           0.36787944117144233,
           0.33287108369807955,
           0.301194211912202,
           0.2725317930340126,
           0.24659696394160643,
           0.22313016014842982,
           0.20189651799465538,
           0.1826835240527346,
           0.16529888822158653,
           0.14956861922263504
          ],
          [
           0.9943348002101371,
           0.8997113332854421,
           0.8140924797876902,
           0.7366213374535852,
           0.6665225490516973,
           0.603094542346684,
           0.5457025085285522,
           0.49377204883272136,
           0.4467834257641254,
           0.40426636138967204,
           0.365795330638623,
           0.33098530250466174,
           0.2994878865261691,
           0.27098784597738534,
           0.24519994287330363,
           0.22186608321204485,
           0.200752733883338,
           0.18164858539065964,
           0.16436243699476902,
           0.14872128311244487
          ],
          [
           0.9774033898178667,
           0.8843911596223929,
           0.8002302134065542,
           0.7240782401331515,
           0.6551730852581024,
           0.5928251228315949,
           0.5364103534897908,
           0.48536415925945875,
           0.4391756526715229,
           0.3973825636275582,
           0.3595666128452702,
           0.32534932557884977,
           0.2943882437165071,
           0.2663734983445852,
           0.24102470847532037,
           0.21808817489967877,
           0.1973343410804001,
           0.1785554956730166,
           0.16156369368090331,
           0.14618887543858122
          ],
          [
           0.9493976084683813,
           0.859050480736045,
           0.7773010189517527,
           0.7033310470250245,
           0.6364002486146513,
           0.5758387577939238,
           0.5210404548072882,
           0.47145689982010874,
           0.4265918439484653,
           0.3859962626335283,
           0.3492638616528519,
           0.31602701079123513,
           0.28595306447396346,
           0.2587410325380914,
           0.2341185678217248,
           0.21183924042208618,
           0.19168007134221932,
           0.17343930084224224,
           0.15693436916005654,
           0.14200008939188766
          ],
          [
           0.9106347728549132,
           0.8239764166438022,
           0.7455646933585001,
           0.6746148321172771,
           0.6104167428617594,
           0.5523279095369547,
           0.49976695957461703,
           0.45220784532117825,
           0.4091745791760195,
           0.37023646974757984,
           0.3350038113491488,
           0.30312398369336946,
           0.2742779227498827,
           0.24817692744527028,
           0.224559770245676,
           0.2031900827038458,
           0.1838539898042609,
           0.16635796943009706,
           0.15052691552883415,
           0.13620238559202727
          ],
          [
           0.8615540813938061,
           0.7795663705067144,
           0.7053808218769597,
           0.6382549615992313,
           0.577516971502089,
           0.5225589653658971,
           0.47283090499322067,
           0.4278350952416719,
           0.38712120292364327,
           0.35028174972040416,
           0.31694803400212873,
           0.28678644073805964,
           0.25949510256514857,
           0.2348008785980256,
           0.21245662074321225,
           0.1922387001579333,
           0.17394476909749335,
           0.15739173575103704,
           0.1424139317971664,
           0.12886145433969728
          ],
          [
           0.8027116379309637,
           0.7263235258928692,
           0.6572047038276781,
           0.5946634073325239,
           0.5380737020912271,
           0.4868692193132759,
           0.4405374873246079,
           0.39861480257884746,
           0.36068158875635814,
           0.3263581975034109,
           0.29530110878385607,
           0.2671994928151403,
           0.24177209917936945,
           0.21876444197459463,
           0.1979462528343697,
           0.17910917632454434,
           0.1620646846520481,
           0.1466421908153712,
           0.132687341312517,
           0.12006047131927398
          ],
          [
           0.7347741508630673,
           0.6648511455065024,
           0.6015821938783538,
           0.5443340790452976,
           0.4925338426323291,
           0.4456630504627662,
           0.4032526038947589,
           0.3648780449244112,
           0.3301553080674131,
           0.2987368765025849,
           0.2703083040067263,
           0.2445850678711254,
           0.221309721302659,
           0.2002493168097558,
           0.18119307478560429,
           0.16395027395500275,
           0.1483483425717329,
           0.13423113126252081,
           0.12145735023162532,
           0.10989915518507311
          ],
          [
           0.6585113790650386,
           0.5958457359805086,
           0.5391435172923394,
           0.4878372281376262,
           0.44141337792986907,
           0.3994073411725939,
           0.3613987073312175,
           0.32700707322311223,
           0.29588823581469686,
           0.2677307473217854,
           0.24225279813548226,
           0.21919939637689628,
           0.19833981585271165,
           0.17946528686989532,
           0.16238690679843887,
           0.14693374947034546,
           0.13295115449308992,
           0.12029917935642742,
           0.10885119884071462,
           0.09849263770915105
          ],
          [
           0.5747874102144069,
           0.5200891561779799,
           0.47059612922458427,
           0.4258129865052896,
           0.38529152327562716,
           0.3486261871118603,
           0.315450019006017,
           0.2854309807167988,
           0.25826863161925995,
           0.23369112179405158,
           0.2114524712620566,
           0.19133010813408224,
           0.17312264103658387,
           0.15664784351910885,
           0.14174083027073145,
           0.12825240689244186,
           0.11604757670945437,
           0.10500418967911264,
           0.09501171987220645,
           0.08597015929232316
          ],
          [
           0.4845508703326502,
           0.4384397584188722,
           0.3967166989720422,
           0.3589641135896117,
           0.3248041617079912,
           0.29389495904719304,
           0.2659271559180462,
           0.24062084114653096,
           0.21772274062866787,
           0.19700368247815675,
           0.17825630339711138,
           0.1612929733144769,
           0.14594391752121416,
           0.1320555175079485,
           0.11948877349929456,
           0.10811791329738529,
           0.09782913351144185,
           0.0885194605751882,
           0.08009572015278922,
           0.07247360461878057
          ],
          [
           0.3888241754733207,
           0.35182266300524034,
           0.3183423100001972,
           0.28804803383218147,
           0.26063663920304586,
           0.23583378366205396,
           0.21339123189442394,
           0.19308437129886327,
           0.17470996398915997,
           0.158084112721107,
           0.14304042038707207,
           0.1294283246578165,
           0.11711159110409858,
           0.10596694971671564,
           0.09588286117881932,
           0.08675840054294323,
           0.07850224714020634,
           0.07103177061236508,
           0.06427220391941499,
           0.05815589504592413
          ],
          [
           0.28869194733962117,
           0.261219276238556,
           0.23636097545291712,
           0.21386825475327836,
           0.1935159994308132,
           0.17510051727362524,
           0.158437499946628,
           0.14336017837177936,
           0.12971765364709545,
           0.11737338679972073,
           0.10620383225799529,
           0.09609720136584861,
           0.08695234356435613,
           0.0786777340429477,
           0.07119055772834071,
           0.06441588044345174,
           0.05828589894096593,
           0.052739262305648474,
           0.047720457933764185,
           0.043179255944280806
          ],
          [
           0.18528872408711453,
           0.167656170694162,
           0.15170157660870168,
           0.13726526289060195,
           0.12420274605995948,
           0.11238329205786969,
           0.10168860781602396,
           0.09201165733992242,
           0.08325559045666485,
           0.07533277350586791,
           0.06816391227253726,
           0.06167725838391227,
           0.0558078912276359,
           0.05049706820444576,
           0.045691636812496446,
           0.04134350267925609,
           0.03740914821686085,
           0.033849197083468896,
           0.030628020091596334,
           0.027713378619233515
          ],
          [
           0.0797861055530831,
           0.07219345374379625,
           0.06532333828463507,
           0.05910700075095875,
           0.05348222594734704,
           0.0483927192370133,
           0.04378754312615822,
           0.039620607464411234,
           0.03585020815911413,
           0.032438609786744524,
           0.029351667924113926,
           0.026558487419504135,
           0.02403111318360463,
           0.021744250405582727,
           0.019675011394114837,
           0.017802686509678957,
           0.016108536895521518,
           0.014575606932880679,
           0.013188554543454788,
           0.011933497640726053
          ],
          [
           -0.026620521437774693,
           -0.024087243884526963,
           -0.021795039564077835,
           -0.019720967325151773,
           -0.017844269155661854,
           -0.016146162429547785,
           -0.014609651923941232,
           -0.013219359725263074,
           -0.011961371321895592,
           -0.010823096343073381,
           -0.009793142550220955,
           -0.00886120181960002,
           -0.008017946975142428,
           -0.007254938438937108,
           -0.006564539765097687,
           -0.005939841211645376,
           -0.005374590585488788,
           -0.00486313066837405,
           -0.004400342597543067,
           -0.003981594634434516
          ],
          [
           -0.13272552728372186,
           -0.1200950234148642,
           -0.10866647090567383,
           -0.09832548896136963,
           -0.08896858155892894,
           -0.08050210162410294,
           -0.07284131378002173,
           -0.06590954628706203,
           -0.05963742368630677,
           -0.0539621724666344,
           -0.04882699280632062,
           -0.04418049010133152,
           -0.03997616059085207,
           -0.03617192593201748,
           -0.032729712065714664,
           -0.02961506815860165,
           -0.026796821807588075,
           -0.024246767055947686,
           -0.021939382098623072,
           -0.01985157385142245
          ],
          [
           -0.23732669987111465,
           -0.21474207834237447,
           -0.19430666771098987,
           -0.17581594351878324,
           -0.15908484438309192,
           -0.14394591984024932,
           -0.1302476544450624,
           -0.11785295135331013,
           -0.10663776021044669,
           -0.09648983561395837,
           -0.08730761372364827,
           -0.07899919577658682,
           -0.07148142833340408,
           -0.06467907105071984,
           -0.058524043650497716,
           -0.052954744549740154,
           -0.04791543433114068,
           -0.0433556778842609,
           -0.039229839633993395,
           -0.03549662680438734
          ],
          [
           -0.33923886611803006,
           -0.30695601971568487,
           -0.2777452923301354,
           -0.25131433318364255,
           -0.227398612353316,
           -0.2057587732667345,
           -0.18617823714091844,
           -0.16846103538907525,
           -0.15242984830111525,
           -0.13792423036839413,
           -0.12479900449113464,
           -0.11292280899721639,
           -0.10217678293040908,
           -0.09245337644997208,
           -0.08365527443569931,
           -0.07569442252548779,
           -0.06849114583768534,
           -0.06197335155809556,
           -0.05607580741086201,
           -0.0507394887919261
          ],
          [
           -0.43730732045885534,
           -0.3956920267322146,
           -0.358036951805793,
           -0.323965231033419,
           -0.293135863181702,
           -0.2652402975750735,
           -0.2399993460169191,
           -0.21716038858026793,
           -0.19649484530265532,
           -0.17779588848102995,
           -0.16087637267058455,
           -0.14556696167024252,
           -0.1317144337490417,
           -0.11918014815155138,
           -0.10783865753459287,
           -0.0975764524480651,
           -0.08829082529421582,
           -0.07988884239548222,
           -0.07228641388300985,
           -0.06540745209698137
          ],
          [
           -0.5304209081197424,
           -0.47994468497535664,
           -0.4342719095531837,
           -0.39294547336564856,
           -0.35555176754909135,
           -0.3217165433272415,
           -0.29110116640367506,
           -0.2633992277959576,
           -0.2383334771915598,
           -0.21565304813354325,
           -0.19513094726473978,
           -0.17656178250193813,
           -0.15975970740288034,
           -0.14455656115260265,
           -0.13080018555347825,
           -0.1183529021748337,
           -0.10709013442093902,
           -0.09689916072656629,
           -0.08767798640167772,
           -0.07933432283428604
          ],
          [
           -0.6175246149461918,
           -0.5587593781615623,
           -0.5055863930390864,
           -0.4574734864716008,
           -0.41393912831887175,
           -0.37454761209210363,
           -0.3389046942569532,
           -0.3066536485117278,
           -0.2774716955506585,
           -0.25106677258011767,
           -0.22717461025601515,
           -0.20555608778737816,
           -0.18599483973510425,
           -0.16829509055392386,
           -0.15227969520494047,
           -0.13778836622854124,
           -0.12467606953362645,
           -0.11281157284767832,
           -0.10207613230006883,
           -0.09236230399349128
          ],
          [
           -0.6976315211349846,
           -0.6312431043242784,
           -0.5711723806697839,
           -0.5168181421786996,
           -0.46763639336311597,
           -0.42313490675033016,
           -0.38286829650485527,
           -0.34643356085727944,
           -0.3134660487271042,
           -0.28363581017216727,
           -0.2566442941387214,
           -0.232221360462142,
           -0.2101225762133624,
           -0.190126769331963,
           -0.17203381506185184,
           -0.1556626330354418,
           -0.14084937496046823,
           -0.1274457847712088,
           -0.11531771483194721,
           -0.10434378334234617
          ],
          [
           -0.769833983429906,
           -0.6965745938830539,
           -0.6302867569985896,
           -0.5703070418248621,
           -0.5160351512125342,
           -0.46692791383894544,
           -0.42249384796694833,
           -0.38228824253049076,
           -0.345908706316794,
           -0.3129911406998469,
           -0.28320609561897925,
           -0.25625547233192225,
           -0.23186953994240175,
           -0.20980423584266863,
           -0.1898387230528878,
           -0.1717731800104186,
           -0.15542680068845327,
           -0.14063598502852973,
           -0.12725270157615873,
           -0.11514300593227195
          ],
          [
           -0.8333139190825148,
           -0.7540136149560492,
           -0.6822597325207918,
           -0.6173341348040177,
           -0.5585870246015304,
           -0.5054304410888377,
           -0.4573323753116001,
           -0.41381144566120065,
           -0.3744320800458086,
           -0.3388001565384832,
           -0.3065590588724601,
           -0.27738610730569047,
           -0.25098932913352656,
           -0.22710453652775786,
           -0.20549268245602964,
           -0.18593746821879722,
           -0.16824317865923977,
           -0.15223272338018914,
           -0.1377458643639128,
           -0.12463761225617437
          ],
          [
           -0.8873520750565714,
           -0.8029093604830391,
           -0.7265024326563766,
           -0.6573665853616394,
           -0.594809883801741,
           -0.5382062394814365,
           -0.48698914410322625,
           -0.4406459997619051,
           -0.39871298869243627,
           -0.36077043122586483,
           -0.32643858549413124,
           -0.2953738468458206,
           -0.2672653089353212,
           -0.24183165206761914,
           -0.218818327656235,
           -0.1979950106154143,
           -0.17915329418925388,
           -0.16210460414684114,
           -0.14667831146796906,
           -0.1327200246305514
          ],
          [
           -0.9313361774523383,
           -0.842707822129454,
           -0.7625135699343218,
           -0.6899508098367539,
           -0.6242933093445078,
           -0.564883946124409,
           -0.5111281313011743,
           -0.46248785861209946,
           -0.418476319859552,
           -0.37865303277090745,
           -0.34261943250391347,
           -0.31001488267578675,
           -0.2805130659930798,
           -0.2538187183585291,
           -0.22966467376872785,
           -0.2078091904269667,
           -0.18803353131007958,
           -0.17013977497479615,
           -0.15394883469341375,
           -0.13929866609363326
          ],
          [
           -0.9647678688145159,
           -0.8729580674221818,
           -0.7898851237799482,
           -0.7147176159460628,
           -0.646703242237452,
           -0.5851612919416197,
           -0.5294758325350415,
           -0.47908954522344704,
           -0.43349814710800594,
           -0.3922453441525807,
           -0.3549182644396475,
           -0.32114332600937456,
           -0.2905824979258028,
           -0.26292991714962305,
           -0.23790882735807367,
           -0.21526880907464227,
           -0.19478327338677523,
           -0.17624719416788212,
           -0.15947505610694893,
           -0.14429899800895143
          ],
          [
           -0.9872683547213446,
           -0.8933173489946712,
           -0.8083069635510666,
           -0.7313863858800336,
           -0.6617857689863416,
           -0.5988085265025433,
           -0.5418243610184788,
           -0.4902629558529439,
           -0.4436082671326554,
           -0.40139335905171813,
           -0.3631957306211375,
           -0.32863308713691397,
           -0.2973595140461517,
           -0.2690620149179476,
           -0.2434573788699085,
           -0.22028934609845044,
           -0.19932604314455177,
           -0.18035766222624047,
           -0.16319436141179317,
           -0.14766436461787416
          ],
          [
           -0.9985826956767619,
           -0.9035549880515495,
           -0.8175703624420765,
           -0.7397682558148122,
           -0.6693699985364399,
           -0.6056710211864463,
           -0.548033802989547,
           -0.4958814912934894,
           -0.44869212823382215,
           -0.40599342680415135,
           -0.36735804404903966,
           -0.3323993040720733,
           -0.3007673280535246,
           -0.27214553254552565,
           -0.2462474609985146,
           -0.22281391680780666,
           -0.20161036918685485,
           -0.1824246059043103,
           -0.16506460939268364,
           -0.14935663497199006
          ],
          [
           -0.9985826956767619,
           -0.9035549880515495,
           -0.8175703624420765,
           -0.7397682558148122,
           -0.6693699985364399,
           -0.6056710211864463,
           -0.548033802989547,
           -0.4958814912934894,
           -0.44869212823382215,
           -0.40599342680415135,
           -0.36735804404903966,
           -0.3323993040720733,
           -0.3007673280535246,
           -0.27214553254552565,
           -0.2462474609985146,
           -0.22281391680780666,
           -0.20161036918685485,
           -0.1824246059043103,
           -0.16506460939268364,
           -0.14935663497199006
          ],
          [
           -0.9872683547213446,
           -0.8933173489946712,
           -0.8083069635510666,
           -0.7313863858800336,
           -0.6617857689863416,
           -0.5988085265025433,
           -0.5418243610184788,
           -0.4902629558529439,
           -0.4436082671326554,
           -0.40139335905171813,
           -0.3631957306211375,
           -0.32863308713691397,
           -0.2973595140461517,
           -0.2690620149179476,
           -0.2434573788699085,
           -0.22028934609845044,
           -0.19932604314455177,
           -0.18035766222624047,
           -0.16319436141179317,
           -0.14766436461787416
          ],
          [
           -0.964767868814516,
           -0.872958067422182,
           -0.7898851237799482,
           -0.7147176159460628,
           -0.646703242237452,
           -0.5851612919416198,
           -0.5294758325350416,
           -0.4790895452234471,
           -0.433498147108006,
           -0.3922453441525807,
           -0.3549182644396475,
           -0.3211433260093746,
           -0.2905824979258029,
           -0.2629299171496231,
           -0.2379088273580737,
           -0.2152688090746423,
           -0.19478327338677526,
           -0.17624719416788215,
           -0.15947505610694895,
           -0.14429899800895146
          ],
          [
           -0.9313361774523385,
           -0.8427078221294543,
           -0.7625135699343221,
           -0.689950809836754,
           -0.6242933093445079,
           -0.5648839461244092,
           -0.5111281313011744,
           -0.46248785861209957,
           -0.41847631985955214,
           -0.3786530327709075,
           -0.3426194325039136,
           -0.31001488267578686,
           -0.28051306599307985,
           -0.25381871835852915,
           -0.2296646737687279,
           -0.20780919042696674,
           -0.18803353131007963,
           -0.17013977497479618,
           -0.15394883469341378,
           -0.13929866609363328
          ],
          [
           -0.8873520750565718,
           -0.8029093604830394,
           -0.7265024326563768,
           -0.6573665853616397,
           -0.5948098838017413,
           -0.5382062394814366,
           -0.48698914410322647,
           -0.44064599976190527,
           -0.39871298869243643,
           -0.36077043122586494,
           -0.32643858549413135,
           -0.2953738468458207,
           -0.2672653089353213,
           -0.24183165206761922,
           -0.21881832765623507,
           -0.19799501061541439,
           -0.17915329418925394,
           -0.1621046041468412,
           -0.1466783114679691,
           -0.13272002463055144
          ],
          [
           -0.8333139190825152,
           -0.7540136149560496,
           -0.6822597325207921,
           -0.6173341348040179,
           -0.5585870246015306,
           -0.505430441088838,
           -0.45733237531160026,
           -0.4138114456612008,
           -0.37443208004580875,
           -0.33880015653848333,
           -0.3065590588724602,
           -0.2773861073056906,
           -0.2509893291335267,
           -0.22710453652775794,
           -0.20549268245602972,
           -0.1859374682187973,
           -0.16824317865923982,
           -0.1522327233801892,
           -0.13774586436391287,
           -0.12463761225617441
          ],
          [
           -0.7698339834299065,
           -0.6965745938830542,
           -0.6302867569985899,
           -0.5703070418248625,
           -0.5160351512125345,
           -0.4669279138389457,
           -0.4224938479669486,
           -0.382288242530491,
           -0.3459087063167942,
           -0.3129911406998471,
           -0.2832060956189794,
           -0.2562554723319224,
           -0.2318695399424019,
           -0.20980423584266875,
           -0.1898387230528879,
           -0.1717731800104187,
           -0.15542680068845335,
           -0.1406359850285298,
           -0.1272527015761588,
           -0.11514300593227202
          ],
          [
           -0.697631521134985,
           -0.6312431043242788,
           -0.5711723806697843,
           -0.5168181421786999,
           -0.4676363933631163,
           -0.42313490675033044,
           -0.3828682965048555,
           -0.34643356085727967,
           -0.3134660487271044,
           -0.28363581017216744,
           -0.2566442941387216,
           -0.23222136046214217,
           -0.21012257621336253,
           -0.19012676933196312,
           -0.17203381506185195,
           -0.15566263303544192,
           -0.14084937496046832,
           -0.12744578477120888,
           -0.11531771483194728,
           -0.10434378334234624
          ],
          [
           -0.617524614946192,
           -0.5587593781615625,
           -0.5055863930390866,
           -0.45747348647160097,
           -0.4139391283188719,
           -0.3745476120921038,
           -0.3389046942569533,
           -0.30665364851172794,
           -0.2774716955506586,
           -0.2510667725801178,
           -0.22717461025601524,
           -0.20555608778737824,
           -0.18599483973510433,
           -0.16829509055392392,
           -0.15227969520494053,
           -0.1377883662285413,
           -0.1246760695336265,
           -0.11281157284767836,
           -0.10207613230006886,
           -0.09236230399349132
          ],
          [
           -0.5304209081197426,
           -0.47994468497535686,
           -0.4342719095531839,
           -0.3929454733656487,
           -0.3555517675490915,
           -0.3217165433272416,
           -0.2911011664036752,
           -0.2633992277959577,
           -0.23833347719155992,
           -0.21565304813354336,
           -0.19513094726473987,
           -0.1765617825019382,
           -0.1597597074028804,
           -0.1445565611526027,
           -0.1308001855534783,
           -0.11835290217483375,
           -0.10709013442093906,
           -0.09689916072656633,
           -0.08767798640167776,
           -0.07933432283428607
          ],
          [
           -0.43730732045885556,
           -0.3956920267322148,
           -0.35803695180579315,
           -0.3239652310334192,
           -0.29313586318170215,
           -0.26524029757507367,
           -0.23999934601691922,
           -0.21716038858026804,
           -0.19649484530265543,
           -0.17779588848103003,
           -0.16087637267058463,
           -0.1455669616702426,
           -0.1317144337490418,
           -0.11918014815155145,
           -0.10783865753459293,
           -0.09757645244806516,
           -0.08829082529421586,
           -0.07988884239548226,
           -0.07228641388300988,
           -0.0654074520969814
          ],
          [
           -0.3392388661180305,
           -0.30695601971568526,
           -0.2777452923301358,
           -0.2513143331836429,
           -0.2273986123533163,
           -0.20575877326673478,
           -0.1861782371409187,
           -0.16846103538907548,
           -0.15242984830111544,
           -0.13792423036839432,
           -0.1247990044911348,
           -0.11292280899721653,
           -0.10217678293040922,
           -0.0924533764499722,
           -0.08365527443569942,
           -0.07569442252548789,
           -0.06849114583768544,
           -0.06197335155809564,
           -0.056075807410862086,
           -0.05073948879192617
          ],
          [
           -0.2373266998711151,
           -0.21474207834237488,
           -0.19430666771099023,
           -0.17581594351878357,
           -0.15908484438309223,
           -0.1439459198402496,
           -0.13024765444506264,
           -0.11785295135331035,
           -0.1066377602104469,
           -0.09648983561395855,
           -0.08730761372364844,
           -0.07899919577658696,
           -0.0714814283334042,
           -0.06467907105071996,
           -0.05852404365049782,
           -0.05295474454974025,
           -0.04791543433114077,
           -0.043355677884260986,
           -0.03922983963399347,
           -0.0354966268043874
          ],
          [
           -0.1327255272837223,
           -0.1200950234148646,
           -0.10866647090567419,
           -0.09832548896136996,
           -0.08896858155892924,
           -0.08050210162410322,
           -0.07284131378002198,
           -0.06590954628706225,
           -0.05963742368630697,
           -0.05396217246663458,
           -0.04882699280632079,
           -0.04418049010133167,
           -0.03997616059085221,
           -0.036171925932017596,
           -0.03272971206571477,
           -0.029615068158601748,
           -0.026796821807588165,
           -0.024246767055947766,
           -0.021939382098623148,
           -0.01985157385142252
          ],
          [
           -0.02662052143777516,
           -0.024087243884527387,
           -0.021795039564078217,
           -0.01972096732515212,
           -0.01784426915566217,
           -0.01614616242954807,
           -0.01460965192394149,
           -0.013219359725263306,
           -0.011961371321895804,
           -0.010823096343073572,
           -0.009793142550221127,
           -0.008861201819600177,
           -0.008017946975142569,
           -0.007254938438937235,
           -0.006564539765097802,
           -0.005939841211645481,
           -0.0053745905854888825,
           -0.004863130668374136,
           -0.004400342597543144,
           -0.003981594634434586
          ],
          [
           0.07978610555308265,
           0.07219345374379584,
           0.0653233382846347,
           0.05910700075095841,
           0.05348222594734674,
           0.04839271923701302,
           0.04378754312615797,
           0.039620607464411005,
           0.035850208159113925,
           0.03243860978674434,
           0.029351667924113756,
           0.026558487419503982,
           0.024031113183604493,
           0.021744250405582602,
           0.019675011394114726,
           0.017802686509678856,
           0.016108536895521424,
           0.014575606932880595,
           0.013188554543454713,
           0.011933497640725986
          ],
          [
           0.18528872408711383,
           0.1676561706941614,
           0.1517015766087011,
           0.13726526289060142,
           0.12420274605995901,
           0.11238329205786926,
           0.10168860781602358,
           0.09201165733992207,
           0.08325559045666454,
           0.07533277350586762,
           0.068163912272537,
           0.06167725838391204,
           0.05580789122763569,
           0.05049706820444557,
           0.04569163681249627,
           0.041343502679255933,
           0.03740914821686071,
           0.033849197083468764,
           0.030628020091596216,
           0.027713378619233415
          ],
          [
           0.2886919473396205,
           0.2612192762385554,
           0.23636097545291657,
           0.21386825475327786,
           0.19351599943081277,
           0.17510051727362486,
           0.15843749994662765,
           0.14336017837177903,
           0.12971765364709517,
           0.11737338679972047,
           0.10620383225799505,
           0.09609720136584839,
           0.08695234356435592,
           0.07867773404294752,
           0.07119055772834054,
           0.06441588044345159,
           0.058285898940965794,
           0.052739262305648356,
           0.047720457933764074,
           0.0431792559442807
          ],
          [
           0.3888241754733201,
           0.35182266300523984,
           0.3183423100001967,
           0.288048033832181,
           0.2606366392030454,
           0.23583378366205357,
           0.2133912318944236,
           0.19308437129886297,
           0.1747099639891597,
           0.15808411272110676,
           0.14304042038707182,
           0.1294283246578163,
           0.1171115911040984,
           0.10596694971671547,
           0.09588286117881917,
           0.08675840054294309,
           0.07850224714020622,
           0.07103177061236497,
           0.06427220391941489,
           0.05815589504592404
          ],
          [
           0.4845508703326496,
           0.4384397584188717,
           0.3967166989720417,
           0.3589641135896113,
           0.32480416170799076,
           0.29389495904719265,
           0.26592715591804583,
           0.24062084114653065,
           0.2177227406286676,
           0.1970036824781565,
           0.17825630339711115,
           0.1612929733144767,
           0.145943917521214,
           0.13205551750794833,
           0.1194887734992944,
           0.10811791329738515,
           0.09782913351144172,
           0.08851946057518809,
           0.08009572015278911,
           0.07247360461878047
          ],
          [
           0.5747874102144063,
           0.5200891561779792,
           0.4705961292245837,
           0.42581298650528915,
           0.3852915232756267,
           0.3486261871118599,
           0.3154500190060166,
           0.28543098071679845,
           0.25826863161925967,
           0.23369112179405133,
           0.21145247126205635,
           0.19133010813408202,
           0.17312264103658367,
           0.15664784351910865,
           0.14174083027073128,
           0.1282524068924417,
           0.11604757670945424,
           0.10500418967911253,
           0.09501171987220634,
           0.08597015929232306
          ],
          [
           0.6585113790650381,
           0.595845735980508,
           0.539143517292339,
           0.48783722813762576,
           0.4414133779298687,
           0.3994073411725936,
           0.36139870733121715,
           0.32700707322311195,
           0.2958882358146966,
           0.2677307473217852,
           0.24225279813548203,
           0.2191993963768961,
           0.1983398158527115,
           0.17946528686989519,
           0.16238690679843873,
           0.14693374947034532,
           0.1329511544930898,
           0.12029917935642732,
           0.10885119884071454,
           0.09849263770915097
          ],
          [
           0.7347741508630667,
           0.6648511455065019,
           0.6015821938783532,
           0.5443340790452973,
           0.4925338426323287,
           0.4456630504627659,
           0.40325260389475864,
           0.36487804492441095,
           0.33015530806741283,
           0.2987368765025847,
           0.27030830400672606,
           0.24458506787112522,
           0.22130972130265883,
           0.20024931680975566,
           0.18119307478560415,
           0.1639502739550026,
           0.1483483425717328,
           0.1342311312625207,
           0.12145735023162522,
           0.10989915518507302
          ],
          [
           0.8027116379309632,
           0.7263235258928687,
           0.6572047038276778,
           0.5946634073325235,
           0.5380737020912267,
           0.48686921931327565,
           0.4405374873246077,
           0.39861480257884724,
           0.3606815887563579,
           0.3263581975034107,
           0.2953011087838559,
           0.2671994928151402,
           0.24177209917936932,
           0.21876444197459452,
           0.1979462528343696,
           0.17910917632454423,
           0.162064684652048,
           0.1466421908153711,
           0.13268734131251694,
           0.12006047131927391
          ],
          [
           0.8615540813938061,
           0.7795663705067144,
           0.7053808218769597,
           0.6382549615992313,
           0.577516971502089,
           0.5225589653658971,
           0.47283090499322067,
           0.4278350952416719,
           0.38712120292364327,
           0.35028174972040416,
           0.31694803400212873,
           0.28678644073805964,
           0.25949510256514857,
           0.2348008785980256,
           0.21245662074321225,
           0.1922387001579333,
           0.17394476909749335,
           0.15739173575103704,
           0.1424139317971664,
           0.12886145433969728
          ],
          [
           0.9106347728549131,
           0.8239764166438021,
           0.7455646933585,
           0.674614832117277,
           0.6104167428617593,
           0.5523279095369545,
           0.499766959574617,
           0.4522078453211782,
           0.40917457917601946,
           0.3702364697475798,
           0.33500381134914875,
           0.30312398369336946,
           0.27427792274988266,
           0.24817692744527026,
           0.22455977024567597,
           0.20319008270384578,
           0.18385398980426088,
           0.16635796943009704,
           0.15052691552883413,
           0.13620238559202724
          ],
          [
           0.9493976084683813,
           0.859050480736045,
           0.7773010189517527,
           0.7033310470250245,
           0.6364002486146513,
           0.5758387577939238,
           0.5210404548072882,
           0.47145689982010874,
           0.4265918439484653,
           0.3859962626335283,
           0.3492638616528519,
           0.31602701079123513,
           0.28595306447396346,
           0.2587410325380914,
           0.2341185678217248,
           0.21183924042208618,
           0.19168007134221932,
           0.17343930084224224,
           0.15693436916005654,
           0.14200008939188766
          ],
          [
           0.9774033898178666,
           0.8843911596223928,
           0.8002302134065541,
           0.7240782401331514,
           0.6551730852581023,
           0.5928251228315948,
           0.5364103534897908,
           0.4853641592594587,
           0.43917565267152286,
           0.39738256362755814,
           0.35956661284527014,
           0.3253493255788497,
           0.2943882437165071,
           0.2663734983445851,
           0.24102470847532034,
           0.21808817489967874,
           0.19733434108040007,
           0.17855549567301657,
           0.1615636936809033,
           0.1461888754385812
          ],
          [
           0.9943348002101371,
           0.8997113332854421,
           0.8140924797876902,
           0.7366213374535852,
           0.6665225490516973,
           0.603094542346684,
           0.5457025085285522,
           0.49377204883272136,
           0.4467834257641254,
           0.40426636138967204,
           0.365795330638623,
           0.33098530250466174,
           0.2994878865261691,
           0.27098784597738534,
           0.24519994287330363,
           0.22186608321204485,
           0.200752733883338,
           0.18164858539065964,
           0.16436243699476902,
           0.14872128311244487
          ],
          [
           1,
           0.9048374180359595,
           0.8187307530779818,
           0.7408182206817179,
           0.6703200460356393,
           0.6065306597126334,
           0.5488116360940264,
           0.49658530379140947,
           0.44932896411722156,
           0.4065696597405991,
           0.36787944117144233,
           0.33287108369807955,
           0.301194211912202,
           0.2725317930340126,
           0.24659696394160643,
           0.22313016014842982,
           0.20189651799465538,
           0.1826835240527346,
           0.16529888822158653,
           0.14956861922263504
          ]
         ],
         "z": [
          [
           0,
           0,
           0,
           0,
           0,
           0,
           0,
           0,
           0,
           0,
           0,
           0,
           0,
           0,
           0,
           0,
           0,
           0,
           0,
           0
          ],
          [
           0.1062934856473654,
           0.09617832310720444,
           0.08702574555135113,
           0.07874415090733895,
           0.07125065419243054,
           0.06447025797285187,
           0.05833510176426752,
           0.05278378286124477,
           0.04776074179833945,
           0.04321570629229161,
           0.03910318810011751,
           0.03538202775748479,
           0.03201498264095918,
           0.028968354231311576,
           0.026211650847411026,
           0.023717282475231468,
           0.021460284637717954,
           0.01941806854190948,
           0.017570195002706665,
           0.015898169880637417
          ],
          [
           0.21138262362962432,
           0.19126690738269628,
           0.17306545463188192,
           0.15659609912033154,
           0.141694010002544,
           0.12821004216186332,
           0.11600924351602192,
           0.10496950437134216,
           0.09498033530787961,
           0.08594176136417149,
           0.07776332145421952,
           0.07036316300253632,
           0.06366722273605831,
           0.05760848543401535,
           0.052126313217076635,
           0.04716583866307334,
           0.04267741567539591,
           0.03861612260817262,
           0.03494131267533897,
           0.03161620714394085
          ],
          [
           0.31407671202194876,
           0.2841883611711637,
           0.25714426295798654,
           0.23267375095766438,
           0.21053191606127492,
           0.19049715534304737,
           0.17236895418379805,
           0.15596587945322646,
           0.14112376366616514,
           0.12769406193920985,
           0.11554236530359853,
           0.10454705549507573,
           0.09459808775742648,
           0.08559588947756891,
           0.07745036362937481,
           0.0700799870523497,
           0.06341099454044158,
           0.057376640575065474,
           0.05191653131351953,
           0.046976020147108055
          ],
          [
           0.41321218576837815,
           0.37388984727165453,
           0.33830952403514314,
           0.30611511622493337,
           0.2769844113867464,
           0.25062585963539363,
           0.22677565572553238,
           0.2051950988001024,
           0.18566820339191828,
           0.16799953776851873,
           0.15201226798570117,
           0.1375463880739722,
           0.12445711864502508,
           0.1126134578909596,
           0.10189687047415713,
           0.09220010118578095,
           0.08342610149959624,
           0.07548705827770055,
           0.0683035149071246,
           0.061803576071343284
          ],
          [
           0.5076658003388399,
           0.45935501200375484,
           0.41564160302335473,
           0.37608807490797963,
           0.34029856265385083,
           0.3079148727930586,
           0.27861289847294207,
           0.25209937568577184,
           0.22810894818399116,
           0.20640151170570106,
           0.18675981093050545,
           0.1689872651152425,
           0.1529060006478342,
           0.13835507082839107,
           0.12518884506054367,
           0.11327555133148615,
           0.10249595739338171,
           0.09274217744695122,
           0.08391659238413217,
           0.07593087278323421
          ],
          [
           0.5963673585385013,
           0.5396155009009028,
           0.488264296567354,
           0.44179980542514863,
           0.39975699522968083,
           0.3617150874054378,
           0.3272933457525877,
           0.2961472659111221,
           0.26796512744542844,
           0.24246487404139835,
           0.21939129059203305,
           0.1985134489188721,
           0.17962239656516552,
           0.16252906552945562,
           0.1470623800094699,
           0.13306754421799186,
           0.12040449313459363,
           0.1089464906878341,
           0.09857886133805854,
           0.08919784236605377
          ],
          [
           0.6783118362696161,
           0.61376193055343,
           0.5553547605307315,
           0.5025057676126058,
           0.4546860213147681,
           0.41141692554349807,
           0.37226542864507134,
           0.3368396892792561,
           0.304785154739477,
           0.2757810124701588,
           0.24953697926684126,
           0.22579039602430143,
           0.20430359895594563,
           0.18486154097475205,
           0.16726963942974338,
           0.15135182865741495,
           0.13694879785739628,
           0.12391639665641499,
           0.11212419240291038,
           0.10145416475321657
          ],
          [
           0.7525707698561385,
           0.6809541922859627,
           0.6161528331487928,
           0.5575181386618951,
           0.5044632730950432,
           0.4564572455212881,
           0.41301959548128836,
           0.3737155843735454,
           0.33815184444435864,
           0.3059724418311309,
           0.27685531425663834,
           0.25050904772151084,
           0.2266699599349788,
           0.20509946129388065,
           0.18558166699772116,
           0.1679212364010273,
           0.15194141797851152,
           0.13748228033639887,
           0.12439911156528316,
           0.11256097091469808
          ],
          [
           0.818302775908169,
           0.740430970924406,
           0.6699696479650982,
           0.6062136064272002,
           0.5485247544178553,
           0.496325722516261,
           0.4490940852664457,
           0.4063571325677118,
           0.36768713863306446,
           0.332697081165772,
           0.3010367679101372,
           0.272389331809699,
           0.24646805969522823,
           0.2230135227629631,
           0.2017909801239432,
           0.18258802943829444,
           0.1652124811212201,
           0.1494904348450395,
           0.1352645390862584,
           0.12239241629863418
          ],
          [
           0.8747630845319613,
           0.7915183708010717,
           0.7161954389636709,
           0.6480404318010187,
           0.5863712310937421,
           0.5305706307534286,
           0.4800801596166428,
           0.4343944920778144,
           0.39305639062073167,
           0.35565212963179643,
           0.3218073546950251,
           0.2911833359272287,
           0.263473577855491,
           0.23840075190745894,
           0.21571392081377647,
           0.19518602714355096,
           0.17661162083726736,
           0.15980480299353886,
           0.14459736533041892,
           0.13083710670037862
          ],
          [
           0.921311977870413,
           0.8336375512618676,
           0.7543064494616082,
           0.6825247001387136,
           0.6175738874192811,
           0.5588039617388927,
           0.5056267339280848,
           0.45750998841744334,
           0.41397215664530124,
           0.3745774973577122,
           0.3389317355635238,
           0.30667811649774546,
           0.2774938350999511,
           0.2510868052727362,
           0.22719273658588032,
           0.20557248916889187,
           0.18600968031880538,
           0.16830851886936207,
           0.1522918456472102,
           0.13779936040335256
          ],
          [
           0.9574220383620055,
           0.8663112851622023,
           0.7838708664815811,
           0.7092756909008043,
           0.6417791848303551,
           0.5807058205511214,
           0.5254443553059299,
           0.47544171377658695,
           0.43019745272019866,
           0.3892587523649914,
           0.3522158844378378,
           0.31869811146598503,
           0.28836997631181827,
           0.26092794480507653,
           0.23609736787085478,
           0.2136297327493504,
           0.19330017579663428,
           0.17490523197372362,
           0.15826079850008468,
           0.14320029229112588
          ],
          [
           0.9826841245925209,
           0.8891693660412238,
           0.8045537133654119,
           0.7279903046728029,
           0.6587128676353505,
           0.5960280503782334,
           0.5393084821812475,
           0.48798649454177223,
           0.4415484397575961,
           0.3995295501680697,
           0.3615092866031446,
           0.32710712948601106,
           0.2959787704652765,
           0.26781266646125873,
           0.24232692163813094,
           0.21926646609564873,
           0.19840050304385606,
           0.17952019891123824,
           0.16243659326814672,
           0.1469787076473072
          ],
          [
           0.9968120070307501,
           0.9019528027089466,
           0.8161206451934606,
           0.7384564974026924,
           0.6681830704417304,
           0.6045970442338351,
           0.5470620284567161,
           0.49500219333428963,
           0.44789650653873553,
           0.40527351852383575,
           0.3667066440994562,
           0.3318098930235835,
           0.30023400688224716,
           0.2716629635939231,
           0.24581081455432222,
           0.22241882276664904,
           0.2012528733147724,
           0.1821011302624567,
           0.1647719165281113,
           0.14909179551613286
          ],
          [
           0.9996456111234526,
           0.9045167537199237,
           0.8184406040062038,
           0.7405556829447647,
           0.6700824920675976,
           0.6063157119935463,
           0.5486171433548749,
           0.4964093194834889,
           0.4491697269304279,
           0.4064255759756454,
           0.3677490687895807,
           0.33275311788869266,
           0.3010874720338199,
           0.2724352107980558,
           0.24650957272059518,
           0.223051085301651,
           0.20182496811446443,
           0.18261878304388185,
           0.16524030813429516,
           0.14951561376770198
          ],
          [
           0.9911528310040072,
           0.8968321684846976,
           0.8114873037432845,
           0.7342640766880361,
           0.6643896113069604,
           0.6011645804649047,
           0.5439562068025352,
           0.4921919296878404,
           0.4453536748368821,
           0.40297266925223074,
           0.3646247495852472,
           0.32992611696672336,
           0.2985294958187999,
           0.27012065820425973,
           0.2444152789277163,
           0.22115608991349373,
           0.20011030538025418,
           0.18106729204265654,
           0.16383646102264043,
           0.14824536037187508
          ],
          [
           0.97142989326471,
           0.8789861164245879,
           0.7953395280750795,
           0.7196529650453936,
           0.6511689307735966,
           0.5892020140264176,
           0.5331320290732509,
           0.48239780865891246,
           0.4364915876531352,
           0.39495392116647965,
           0.35736908627145536,
           0.32336092130773375,
           0.29258906112981886,
           0.2647455306182709,
           0.23955166236119627,
           0.2167553076571268,
           0.19612831292606467,
           0.17746423627176905,
           0.16057628134187102,
           0.1452954278071944
          ],
          [
           0.9407002666710333,
           0.8511808004403564,
           0.7701802377522334,
           0.6968878977500524,
           0.6305702460606653,
           0.5705635533358321,
           0.5162672524258167,
           0.467137927701495,
           0.4226838763680895,
           0.38246018733833287,
           0.34606428841276654,
           0.3131319172018593,
           0.2833334754655802,
           0.2563707303834305,
           0.23197382974013636,
           0.20989860115397832,
           0.1899241083175254,
           0.1718504397928116,
           0.1554967082304718,
           0.14069923998835102
          ],
          [
           0.8993121301712192,
           0.8137312658725447,
           0.7362944975872463,
           0.666226812110928,
           0.6028269484967805,
           0.5454603796003232,
           0.4935529615184709,
           0.44658518736437447,
           0.4040869878678859,
           0.365633026764306,
           0.3308384438860875,
           0.29935500335292214,
           0.270867608310004,
           0.2450911473327997,
           0.22176764093608142,
           0.20066365962852972,
           0.18156798767192542,
           0.16428950916304993,
           0.14865529528148924,
           0.1345088735598759
          ],
          [
           0.847734427889671,
           0.7670618309118812,
           0.6940662465562424,
           0.6280171104798602,
           0.5682533807290007,
           0.5141769218090341,
           0.4652465183433638,
           0.420972458408029,
           0.38091163233017133,
           0.344663097897495,
           0.31186406759384455,
           0.28218627769980625,
           0.2553327029190709,
           0.23103458364943488,
           0.20904873614636757,
           0.18915511865835982,
           0.17115462917511584,
           0.15486711274771392,
           0.14012955843732533,
           0.12679446784694856
          ],
          [
           0.7865515558026426,
           0.7117012789046301,
           0.6439739476169558,
           0.5826917240441506,
           0.5272412750950312,
           0.477067634038975,
           0.4316686462123502,
           0.390589943285861,
           0.35342039579359036,
           0.31978799841111927,
           0.2893561468012047,
           0.26182026876443615,
           0.23690477597829332,
           0.21436030581658638,
           0.19396122564447868,
           0.17550337461124027,
           0.15880202033983243,
           0.14369001006318788,
           0.130016097703136,
           0.11764343014881662
          ],
          [
           0.7164567402983153,
           0.6482768670259876,
           0.5865851665322357,
           0.5307642075432216,
           0.4802553151393108,
           0.4345529793487001,
           0.3931997958337114,
           0.3557818880344419,
           0.32192476495304323,
           0.2912895731219448,
           0.26356970524445744,
           0.23848773156589376,
           0.21579262326333626,
           0.19525724006480377,
           0.17667605695306454,
           0.15986310720218508,
           0.14465012116003095,
           0.13088484214903112,
           0.11842950263017347,
           0.10715944537916904
          ],
          [
           0.6382441836448203,
           0.577507219205648,
           0.5225501411231654,
           0.47282292048821134,
           0.427827870562775,
           0.387114665763844,
           0.35027583465361006,
           0.3169426818283632,
           0.2867815978909688,
           0.259490720575891,
           0.2347969136101799,
           0.2124530330738474,
           0.19223545390044838,
           0.17394183176225247,
           0.1573890779402018,
           0.1424115269104726,
           0.1288592783082306,
           0.11659669667439648,
           0.1055010539703829,
           0.09546130127463368
          ],
          [
           0.5528000653611936,
           0.5001941838315321,
           0.45259441381472765,
           0.4095243608136168,
           0.37055296526141973,
           0.3352901883327117,
           0.3033831083037614,
           0.27451238839329933,
           0.24838908073267751,
           0.22475173447848146,
           0.2033637791246127,
           0.18401115682514974,
           0.16650018003147848,
           0.15065559300220546,
           0.13631881778479193,
           0.12334636711410561,
           0.1116084083436429,
           0.10098746403676488,
           0.09137723621302568,
           0.08268154248225613
          ],
          [
           0.4610925014493262,
           0.4172137484871502,
           0.37751061095021726,
           0.34158572649337227,
           0.30907954679820043,
           0.2796667390926082,
           0.2530529301110919,
           0.22897175990815455,
           0.20718221603844422,
           0.18746622142319425,
           0.16962645176152058,
           0.15348436064249552,
           0.13887839259265566,
           0.12566236617452292,
           0.1137040109536446,
           0.10288364369162825,
           0.09309297051606455,
           0.08423400307905354,
           0.07621807785688389,
           0.06896496877568656
          ],
          [
           0.3641605752528225,
           0.32950611466225366,
           0.2981494620180545,
           0.2697767894012268,
           0.2441041335678369,
           0.22087455394942654,
           0.19985556110544334,
           0.1808367898907773,
           0.16362789405068226,
           0.1480566411714809,
           0.13396718892067933,
           0.12121852532452308,
           0.10968305747276802,
           0.09924533452594919,
           0.08980089224457494,
           0.08125520747590662,
           0.07352275213447554,
           0.06652613720825667,
           0.06019533822342496,
           0.054466994415885144
          ],
          [
           0.26310256422752126,
           0.23806504489427055,
           0.21541016054674655,
           0.1949111734878297,
           0.1763629229650868,
           0.15957977185300398,
           0.1443937487342396,
           0.13065286678522248,
           0.11821960264093688,
           0.10696952001486244,
           0.09679002429879403,
           0.08757923567815858,
           0.07924496948458779,
           0.07170381358077282,
           0.06488029354375825,
           0.05870611729154936,
           0.05311949159300172,
           0.048064503620394536,
           0.04349056135505783,
           0.03935188724544501
          ],
          [
           0.1590634960190721,
           0.14392660304167032,
           0.13023017588291147,
           0.11783713609626251,
           0.10662344997409415,
           0.09647688717664564,
           0.08729589749306262,
           0.07898859449275457,
           0.07147183589511347,
           0.06467039145362428,
           0.05851619002627219,
           0.05294763829667369,
           0.04790900432746411,
           0.04334985977633624,
           0.039224575192240985,
           0.035491863340504685,
           0.03211436598630739,
           0.029058280000912214,
           0.026293019048591375,
           0.02379090746829772
          ],
          [
           0.053222174842178754,
           0.04815741526645542,
           0.04357463128898503,
           0.03942795686739416,
           0.03567589069032611,
           0.0322808808183678,
           0.02920894885161845,
           0.026429349862442848,
           0.02391426468990183,
           0.021638521516239292,
           0.019579343938869516,
           0.017716123016484706,
           0.016030211007843454,
           0.014504734738908693,
           0.013124426730450627,
           0.011875472395983078,
           0.010745371780738639,
           0.009722814457920009,
           0.008797566330147041,
           0.00796036720317034
          ],
          [
           -0.053222174842178505,
           -0.0481574152664552,
           -0.043574631288984825,
           -0.03942795686739397,
           -0.03567589069032594,
           -0.03228088081836765,
           -0.029208948851618316,
           -0.026429349862442723,
           -0.023914264689901717,
           -0.021638521516239188,
           -0.019579343938869426,
           -0.017716123016484626,
           -0.01603021100784338,
           -0.014504734738908624,
           -0.013124426730450566,
           -0.011875472395983022,
           -0.010745371780738587,
           -0.009722814457919964,
           -0.008797566330147,
           -0.007960367203170303
          ],
          [
           -0.15906349601907185,
           -0.1439266030416701,
           -0.13023017588291128,
           -0.11783713609626233,
           -0.10662344997409398,
           -0.09647688717664549,
           -0.08729589749306248,
           -0.07898859449275444,
           -0.07147183589511336,
           -0.06467039145362419,
           -0.0585161900262721,
           -0.05294763829667361,
           -0.04790900432746403,
           -0.04334985977633617,
           -0.03922457519224092,
           -0.03549186334050463,
           -0.03211436598630733,
           -0.02905828000091217,
           -0.026293019048591333,
           -0.023790907468297682
          ],
          [
           -0.26310256422752104,
           -0.23806504489427036,
           -0.2154101605467464,
           -0.19491117348782952,
           -0.17636292296508665,
           -0.15957977185300384,
           -0.1443937487342395,
           -0.13065286678522237,
           -0.11821960264093678,
           -0.10696952001486235,
           -0.09679002429879395,
           -0.0875792356781585,
           -0.07924496948458772,
           -0.07170381358077277,
           -0.0648802935437582,
           -0.058706117291549315,
           -0.05311949159300167,
           -0.048064503620394494,
           -0.04349056135505779,
           -0.03935188724544497
          ],
          [
           -0.3641605752528219,
           -0.3295061146622531,
           -0.298149462018054,
           -0.26977678940122635,
           -0.24410413356783647,
           -0.22087455394942618,
           -0.199855561105443,
           -0.180836789890777,
           -0.16362789405068198,
           -0.14805664117148065,
           -0.1339671889206791,
           -0.12121852532452287,
           -0.10968305747276784,
           -0.09924533452594902,
           -0.08980089224457478,
           -0.08125520747590648,
           -0.07352275213447541,
           -0.06652613720825656,
           -0.06019533822342486,
           -0.05446699441588505
          ],
          [
           -0.46109250144932556,
           -0.41721374848714965,
           -0.37751061095021676,
           -0.34158572649337177,
           -0.3090795467982,
           -0.2796667390926078,
           -0.2530529301110916,
           -0.22897175990815424,
           -0.20718221603844394,
           -0.187466221423194,
           -0.16962645176152036,
           -0.15348436064249532,
           -0.1388783925926555,
           -0.12566236617452275,
           -0.11370401095364445,
           -0.10288364369162813,
           -0.09309297051606442,
           -0.08423400307905343,
           -0.0762180778568838,
           -0.06896496877568647
          ],
          [
           -0.5528000653611931,
           -0.5001941838315316,
           -0.4525944138147272,
           -0.40952436081361643,
           -0.3705529652614194,
           -0.3352901883327113,
           -0.3033831083037611,
           -0.27451238839329906,
           -0.24838908073267726,
           -0.2247517344784812,
           -0.2033637791246125,
           -0.18401115682514954,
           -0.16650018003147832,
           -0.1506555930022053,
           -0.13631881778479182,
           -0.12334636711410549,
           -0.11160840834364279,
           -0.10098746403676478,
           -0.09137723621302558,
           -0.08268154248225605
          ],
          [
           -0.6382441836448197,
           -0.5775072192056474,
           -0.522550141123165,
           -0.47282292048821095,
           -0.4278278705627746,
           -0.3871146657638437,
           -0.35027583465360973,
           -0.31694268182836294,
           -0.2867815978909686,
           -0.2594907205758908,
           -0.23479691361017968,
           -0.21245303307384725,
           -0.19223545390044822,
           -0.17394183176225234,
           -0.15738907794020165,
           -0.14241152691047249,
           -0.1288592783082305,
           -0.11659669667439639,
           -0.1055010539703828,
           -0.09546130127463359
          ],
          [
           -0.7164567402983149,
           -0.6482768670259872,
           -0.5865851665322354,
           -0.5307642075432213,
           -0.4802553151393105,
           -0.4345529793486998,
           -0.3931997958337111,
           -0.35578188803444166,
           -0.32192476495304306,
           -0.29128957312194464,
           -0.2635697052444573,
           -0.23848773156589362,
           -0.21579262326333615,
           -0.19525724006480366,
           -0.17667605695306443,
           -0.159863107202185,
           -0.14465012116003087,
           -0.13088484214903104,
           -0.11842950263017339,
           -0.10715944537916897
          ],
          [
           -0.7865515558026425,
           -0.71170127890463,
           -0.6439739476169557,
           -0.5826917240441505,
           -0.527241275095031,
           -0.47706763403897495,
           -0.4316686462123501,
           -0.39058994328586094,
           -0.3534203957935903,
           -0.3197879984111192,
           -0.28935614680120464,
           -0.2618202687644361,
           -0.2369047759782933,
           -0.21436030581658636,
           -0.19396122564447865,
           -0.17550337461124024,
           -0.1588020203398324,
           -0.14369001006318785,
           -0.130016097703136,
           -0.1176434301488166
          ],
          [
           -0.8477344278896709,
           -0.7670618309118812,
           -0.6940662465562424,
           -0.6280171104798601,
           -0.5682533807290006,
           -0.514176921809034,
           -0.4652465183433637,
           -0.42097245840802894,
           -0.3809116323301713,
           -0.34466309789749494,
           -0.3118640675938445,
           -0.28218627769980625,
           -0.2553327029190709,
           -0.23103458364943485,
           -0.20904873614636754,
           -0.1891551186583598,
           -0.17115462917511584,
           -0.15486711274771392,
           -0.14012955843732533,
           -0.12679446784694853
          ],
          [
           -0.8993121301712191,
           -0.8137312658725446,
           -0.7362944975872463,
           -0.666226812110928,
           -0.6028269484967805,
           -0.5454603796003232,
           -0.49355296151847083,
           -0.4465851873643744,
           -0.4040869878678858,
           -0.3656330267643059,
           -0.3308384438860875,
           -0.2993550033529221,
           -0.270867608310004,
           -0.24509114733279969,
           -0.2217676409360814,
           -0.2006636596285297,
           -0.18156798767192542,
           -0.1642895091630499,
           -0.14865529528148924,
           -0.13450887355987587
          ],
          [
           -0.9407002666710332,
           -0.8511808004403563,
           -0.7701802377522333,
           -0.6968878977500523,
           -0.6305702460606651,
           -0.570563553335832,
           -0.5162672524258167,
           -0.4671379277014949,
           -0.42268387636808946,
           -0.3824601873383328,
           -0.3460642884127665,
           -0.31313191720185923,
           -0.28333347546558013,
           -0.2563707303834305,
           -0.23197382974013633,
           -0.2098986011539783,
           -0.18992410831752538,
           -0.17185043979281156,
           -0.15549670823047176,
           -0.14069923998835102
          ],
          [
           -0.9714298932647099,
           -0.8789861164245878,
           -0.7953395280750793,
           -0.7196529650453934,
           -0.6511689307735965,
           -0.5892020140264176,
           -0.5331320290732509,
           -0.4823978086589124,
           -0.43649158765313517,
           -0.3949539211664796,
           -0.35736908627145536,
           -0.3233609213077337,
           -0.2925890611298188,
           -0.26474553061827083,
           -0.23955166236119624,
           -0.2167553076571268,
           -0.19612831292606464,
           -0.17746423627176905,
           -0.16057628134187102,
           -0.14529542780719437
          ],
          [
           -0.9911528310040071,
           -0.8968321684846975,
           -0.8114873037432844,
           -0.734264076688036,
           -0.6643896113069603,
           -0.6011645804649047,
           -0.5439562068025352,
           -0.49219192968784037,
           -0.44535367483688204,
           -0.4029726692522307,
           -0.36462474958524715,
           -0.32992611696672336,
           -0.2985294958187999,
           -0.27012065820425973,
           -0.24441527892771628,
           -0.2211560899134937,
           -0.20011030538025415,
           -0.18106729204265654,
           -0.1638364610226404,
           -0.14824536037187508
          ],
          [
           -0.9996456111234525,
           -0.9045167537199236,
           -0.8184406040062037,
           -0.7405556829447646,
           -0.6700824920675975,
           -0.6063157119935463,
           -0.5486171433548749,
           -0.4964093194834888,
           -0.44916972693042784,
           -0.4064255759756453,
           -0.3677490687895807,
           -0.33275311788869266,
           -0.30108747203381986,
           -0.27243521079805577,
           -0.24650957272059515,
           -0.22305108530165096,
           -0.2018249681144644,
           -0.18261878304388182,
           -0.16524030813429513,
           -0.14951561376770198
          ],
          [
           -0.9968120070307502,
           -0.9019528027089467,
           -0.8161206451934606,
           -0.7384564974026925,
           -0.6681830704417305,
           -0.6045970442338351,
           -0.5470620284567161,
           -0.4950021933342897,
           -0.4478965065387356,
           -0.4052735185238358,
           -0.36670664409945625,
           -0.33180989302358355,
           -0.3002340068822472,
           -0.2716629635939231,
           -0.24581081455432224,
           -0.22241882276664904,
           -0.2012528733147724,
           -0.18210113026245672,
           -0.16477191652811132,
           -0.14909179551613289
          ],
          [
           -0.9826841245925211,
           -0.8891693660412239,
           -0.8045537133654121,
           -0.727990304672803,
           -0.6587128676353506,
           -0.5960280503782335,
           -0.5393084821812476,
           -0.48798649454177234,
           -0.44154843975759617,
           -0.3995295501680698,
           -0.3615092866031447,
           -0.3271071294860111,
           -0.29597877046527654,
           -0.2678126664612588,
           -0.242326921638131,
           -0.2192664660956488,
           -0.1984005030438561,
           -0.17952019891123827,
           -0.16243659326814675,
           -0.14697870764730722
          ],
          [
           -0.9574220383620057,
           -0.8663112851622026,
           -0.7838708664815813,
           -0.7092756909008044,
           -0.6417791848303553,
           -0.5807058205511215,
           -0.52544435530593,
           -0.47544171377658706,
           -0.43019745272019877,
           -0.38925875236499147,
           -0.35221588443783786,
           -0.31869811146598515,
           -0.2883699763118184,
           -0.2609279448050766,
           -0.23609736787085484,
           -0.21362973274935043,
           -0.1933001757966343,
           -0.17490523197372365,
           -0.1582607985000847,
           -0.1432002922911259
          ],
          [
           -0.9213119778704132,
           -0.8336375512618678,
           -0.7543064494616083,
           -0.6825247001387137,
           -0.6175738874192813,
           -0.5588039617388928,
           -0.5056267339280849,
           -0.45750998841744345,
           -0.4139721566453013,
           -0.3745774973577123,
           -0.33893173556352385,
           -0.3066781164977455,
           -0.27749383509995124,
           -0.25108680527273625,
           -0.22719273658588038,
           -0.20557248916889193,
           -0.1860096803188054,
           -0.16830851886936213,
           -0.15229184564721024,
           -0.13779936040335258
          ],
          [
           -0.8747630845319616,
           -0.7915183708010719,
           -0.7161954389636712,
           -0.648040431801019,
           -0.5863712310937423,
           -0.5305706307534288,
           -0.48008015961664297,
           -0.43439449207781455,
           -0.39305639062073183,
           -0.35565212963179654,
           -0.3218073546950252,
           -0.29118333592722884,
           -0.26347357785549114,
           -0.23840075190745902,
           -0.21571392081377655,
           -0.19518602714355104,
           -0.17661162083726745,
           -0.1598048029935389,
           -0.14459736533041898,
           -0.13083710670037868
          ],
          [
           -0.8183027759081695,
           -0.7404309709244065,
           -0.6699696479650986,
           -0.6062136064272006,
           -0.5485247544178556,
           -0.4963257225162613,
           -0.44909408526644595,
           -0.406357132567712,
           -0.3676871386330647,
           -0.3326970811657722,
           -0.3010367679101374,
           -0.2723893318096991,
           -0.24646805969522836,
           -0.22301352276296324,
           -0.2017909801239433,
           -0.18258802943829452,
           -0.1652124811212202,
           -0.14949043484503957,
           -0.1352645390862585,
           -0.12239241629863425
          ],
          [
           -0.752570769856139,
           -0.6809541922859631,
           -0.6161528331487932,
           -0.5575181386618955,
           -0.5044632730950437,
           -0.4564572455212884,
           -0.41301959548128864,
           -0.3737155843735457,
           -0.3381518444443589,
           -0.30597244183113115,
           -0.27685531425663856,
           -0.250509047721511,
           -0.22666995993497896,
           -0.2050994612938808,
           -0.1855816669977213,
           -0.1679212364010274,
           -0.15194141797851163,
           -0.13748228033639898,
           -0.12439911156528324,
           -0.11256097091469816
          ],
          [
           -0.6783118362696167,
           -0.6137619305534304,
           -0.555354760530732,
           -0.5025057676126061,
           -0.4546860213147685,
           -0.4114169255434984,
           -0.37226542864507167,
           -0.3368396892792564,
           -0.30478515473947726,
           -0.275781012470159,
           -0.24953697926684146,
           -0.2257903960243016,
           -0.2043035989559458,
           -0.18486154097475221,
           -0.16726963942974352,
           -0.15135182865741506,
           -0.1369487978573964,
           -0.1239163966564151,
           -0.11212419240291047,
           -0.10145416475321666
          ],
          [
           -0.5963673585385021,
           -0.5396155009009036,
           -0.4882642965673546,
           -0.4417998054251492,
           -0.39975699522968133,
           -0.3617150874054383,
           -0.32729334575258817,
           -0.29614726591112245,
           -0.26796512744542883,
           -0.24246487404139866,
           -0.21939129059203333,
           -0.19851344891887235,
           -0.17962239656516577,
           -0.16252906552945584,
           -0.14706238000947008,
           -0.13306754421799202,
           -0.12040449313459378,
           -0.10894649068783425,
           -0.09857886133805868,
           -0.08919784236605388
          ],
          [
           -0.5076658003388399,
           -0.45935501200375484,
           -0.41564160302335473,
           -0.37608807490797963,
           -0.34029856265385083,
           -0.3079148727930586,
           -0.27861289847294207,
           -0.25209937568577184,
           -0.22810894818399116,
           -0.20640151170570106,
           -0.18675981093050545,
           -0.1689872651152425,
           -0.1529060006478342,
           -0.13835507082839107,
           -0.12518884506054367,
           -0.11327555133148615,
           -0.10249595739338171,
           -0.09274217744695122,
           -0.08391659238413217,
           -0.07593087278323421
          ],
          [
           -0.4132121857683782,
           -0.3738898472716546,
           -0.3383095240351432,
           -0.3061151162249334,
           -0.27698441138674645,
           -0.2506258596353937,
           -0.2267756557255324,
           -0.20519509880010242,
           -0.1856682033919183,
           -0.16799953776851875,
           -0.1520122679857012,
           -0.1375463880739722,
           -0.1244571186450251,
           -0.11261345789095961,
           -0.10189687047415714,
           -0.09220010118578097,
           -0.08342610149959626,
           -0.07548705827770057,
           -0.0683035149071246,
           -0.06180357607134329
          ],
          [
           -0.3140767120219489,
           -0.28418836117116386,
           -0.25714426295798665,
           -0.23267375095766452,
           -0.21053191606127503,
           -0.19049715534304745,
           -0.17236895418379816,
           -0.15596587945322654,
           -0.14112376366616522,
           -0.1276940619392099,
           -0.1155423653035986,
           -0.10454705549507579,
           -0.09459808775742654,
           -0.08559588947756896,
           -0.07745036362937485,
           -0.07007998705234973,
           -0.0634109945404416,
           -0.05737664057506551,
           -0.05191653131351956,
           -0.046976020147108076
          ],
          [
           -0.21138262362962446,
           -0.1912669073826964,
           -0.17306545463188203,
           -0.15659609912033165,
           -0.14169401000254409,
           -0.1282100421618634,
           -0.116009243516022,
           -0.10496950437134223,
           -0.09498033530787968,
           -0.08594176136417155,
           -0.07776332145421956,
           -0.07036316300253637,
           -0.06366722273605835,
           -0.057608485434015394,
           -0.05212631321707666,
           -0.04716583866307337,
           -0.04267741567539594,
           -0.03861612260817265,
           -0.03494131267533899,
           -0.03161620714394087
          ],
          [
           -0.1062934856473656,
           -0.0961783231072046,
           -0.08702574555135129,
           -0.0787441509073391,
           -0.07125065419243068,
           -0.06447025797285198,
           -0.05833510176426763,
           -0.05278378286124487,
           -0.04776074179833954,
           -0.043215706292291683,
           -0.039103188100117585,
           -0.03538202775748485,
           -0.03201498264095924,
           -0.028968354231311628,
           -0.026211650847411075,
           -0.023717282475231513,
           -0.021460284637717993,
           -0.019418068541909514,
           -0.0175701950027067,
           -0.01589816988063745
          ],
          [
           -2.4492935982947064e-16,
           -2.2162124954929868e-16,
           -2.005311992240905e-16,
           -1.8144813254158067e-16,
           -1.6418105975637044e-16,
           -1.485571662003618e-16,
           -1.344200826954743e-16,
           -1.2162832055835313e-16,
           -1.1005385553407026e-16,
           -9.958084648635064e-17,
           -9.010447602054478e-17,
           -8.152990143591277e-17,
           -7.377130550799757e-17,
           -6.675103760099849e-17,
           -6.039883651410871e-17,
           -5.465112728380218e-17,
           -4.945038490423014e-17,
           -4.474455859762799e-17,
           -4.0486550872636415e-17,
           -3.6633746156777854e-17
          ]
         ]
        }
       ],
       "layout": {
        "template": {
         "data": {
          "bar": [
           {
            "error_x": {
             "color": "#2a3f5f"
            },
            "error_y": {
             "color": "#2a3f5f"
            },
            "marker": {
             "line": {
              "color": "#E5ECF6",
              "width": 0.5
             },
             "pattern": {
              "fillmode": "overlay",
              "size": 10,
              "solidity": 0.2
             }
            },
            "type": "bar"
           }
          ],
          "barpolar": [
           {
            "marker": {
             "line": {
              "color": "#E5ECF6",
              "width": 0.5
             },
             "pattern": {
              "fillmode": "overlay",
              "size": 10,
              "solidity": 0.2
             }
            },
            "type": "barpolar"
           }
          ],
          "carpet": [
           {
            "aaxis": {
             "endlinecolor": "#2a3f5f",
             "gridcolor": "white",
             "linecolor": "white",
             "minorgridcolor": "white",
             "startlinecolor": "#2a3f5f"
            },
            "baxis": {
             "endlinecolor": "#2a3f5f",
             "gridcolor": "white",
             "linecolor": "white",
             "minorgridcolor": "white",
             "startlinecolor": "#2a3f5f"
            },
            "type": "carpet"
           }
          ],
          "choropleth": [
           {
            "colorbar": {
             "outlinewidth": 0,
             "ticks": ""
            },
            "type": "choropleth"
           }
          ],
          "contour": [
           {
            "colorbar": {
             "outlinewidth": 0,
             "ticks": ""
            },
            "colorscale": [
             [
              0,
              "#0d0887"
             ],
             [
              0.1111111111111111,
              "#46039f"
             ],
             [
              0.2222222222222222,
              "#7201a8"
             ],
             [
              0.3333333333333333,
              "#9c179e"
             ],
             [
              0.4444444444444444,
              "#bd3786"
             ],
             [
              0.5555555555555556,
              "#d8576b"
             ],
             [
              0.6666666666666666,
              "#ed7953"
             ],
             [
              0.7777777777777778,
              "#fb9f3a"
             ],
             [
              0.8888888888888888,
              "#fdca26"
             ],
             [
              1,
              "#f0f921"
             ]
            ],
            "type": "contour"
           }
          ],
          "contourcarpet": [
           {
            "colorbar": {
             "outlinewidth": 0,
             "ticks": ""
            },
            "type": "contourcarpet"
           }
          ],
          "heatmap": [
           {
            "colorbar": {
             "outlinewidth": 0,
             "ticks": ""
            },
            "colorscale": [
             [
              0,
              "#0d0887"
             ],
             [
              0.1111111111111111,
              "#46039f"
             ],
             [
              0.2222222222222222,
              "#7201a8"
             ],
             [
              0.3333333333333333,
              "#9c179e"
             ],
             [
              0.4444444444444444,
              "#bd3786"
             ],
             [
              0.5555555555555556,
              "#d8576b"
             ],
             [
              0.6666666666666666,
              "#ed7953"
             ],
             [
              0.7777777777777778,
              "#fb9f3a"
             ],
             [
              0.8888888888888888,
              "#fdca26"
             ],
             [
              1,
              "#f0f921"
             ]
            ],
            "type": "heatmap"
           }
          ],
          "heatmapgl": [
           {
            "colorbar": {
             "outlinewidth": 0,
             "ticks": ""
            },
            "colorscale": [
             [
              0,
              "#0d0887"
             ],
             [
              0.1111111111111111,
              "#46039f"
             ],
             [
              0.2222222222222222,
              "#7201a8"
             ],
             [
              0.3333333333333333,
              "#9c179e"
             ],
             [
              0.4444444444444444,
              "#bd3786"
             ],
             [
              0.5555555555555556,
              "#d8576b"
             ],
             [
              0.6666666666666666,
              "#ed7953"
             ],
             [
              0.7777777777777778,
              "#fb9f3a"
             ],
             [
              0.8888888888888888,
              "#fdca26"
             ],
             [
              1,
              "#f0f921"
             ]
            ],
            "type": "heatmapgl"
           }
          ],
          "histogram": [
           {
            "marker": {
             "pattern": {
              "fillmode": "overlay",
              "size": 10,
              "solidity": 0.2
             }
            },
            "type": "histogram"
           }
          ],
          "histogram2d": [
           {
            "colorbar": {
             "outlinewidth": 0,
             "ticks": ""
            },
            "colorscale": [
             [
              0,
              "#0d0887"
             ],
             [
              0.1111111111111111,
              "#46039f"
             ],
             [
              0.2222222222222222,
              "#7201a8"
             ],
             [
              0.3333333333333333,
              "#9c179e"
             ],
             [
              0.4444444444444444,
              "#bd3786"
             ],
             [
              0.5555555555555556,
              "#d8576b"
             ],
             [
              0.6666666666666666,
              "#ed7953"
             ],
             [
              0.7777777777777778,
              "#fb9f3a"
             ],
             [
              0.8888888888888888,
              "#fdca26"
             ],
             [
              1,
              "#f0f921"
             ]
            ],
            "type": "histogram2d"
           }
          ],
          "histogram2dcontour": [
           {
            "colorbar": {
             "outlinewidth": 0,
             "ticks": ""
            },
            "colorscale": [
             [
              0,
              "#0d0887"
             ],
             [
              0.1111111111111111,
              "#46039f"
             ],
             [
              0.2222222222222222,
              "#7201a8"
             ],
             [
              0.3333333333333333,
              "#9c179e"
             ],
             [
              0.4444444444444444,
              "#bd3786"
             ],
             [
              0.5555555555555556,
              "#d8576b"
             ],
             [
              0.6666666666666666,
              "#ed7953"
             ],
             [
              0.7777777777777778,
              "#fb9f3a"
             ],
             [
              0.8888888888888888,
              "#fdca26"
             ],
             [
              1,
              "#f0f921"
             ]
            ],
            "type": "histogram2dcontour"
           }
          ],
          "mesh3d": [
           {
            "colorbar": {
             "outlinewidth": 0,
             "ticks": ""
            },
            "type": "mesh3d"
           }
          ],
          "parcoords": [
           {
            "line": {
             "colorbar": {
              "outlinewidth": 0,
              "ticks": ""
             }
            },
            "type": "parcoords"
           }
          ],
          "pie": [
           {
            "automargin": true,
            "type": "pie"
           }
          ],
          "scatter": [
           {
            "marker": {
             "colorbar": {
              "outlinewidth": 0,
              "ticks": ""
             }
            },
            "type": "scatter"
           }
          ],
          "scatter3d": [
           {
            "line": {
             "colorbar": {
              "outlinewidth": 0,
              "ticks": ""
             }
            },
            "marker": {
             "colorbar": {
              "outlinewidth": 0,
              "ticks": ""
             }
            },
            "type": "scatter3d"
           }
          ],
          "scattercarpet": [
           {
            "marker": {
             "colorbar": {
              "outlinewidth": 0,
              "ticks": ""
             }
            },
            "type": "scattercarpet"
           }
          ],
          "scattergeo": [
           {
            "marker": {
             "colorbar": {
              "outlinewidth": 0,
              "ticks": ""
             }
            },
            "type": "scattergeo"
           }
          ],
          "scattergl": [
           {
            "marker": {
             "colorbar": {
              "outlinewidth": 0,
              "ticks": ""
             }
            },
            "type": "scattergl"
           }
          ],
          "scattermapbox": [
           {
            "marker": {
             "colorbar": {
              "outlinewidth": 0,
              "ticks": ""
             }
            },
            "type": "scattermapbox"
           }
          ],
          "scatterpolar": [
           {
            "marker": {
             "colorbar": {
              "outlinewidth": 0,
              "ticks": ""
             }
            },
            "type": "scatterpolar"
           }
          ],
          "scatterpolargl": [
           {
            "marker": {
             "colorbar": {
              "outlinewidth": 0,
              "ticks": ""
             }
            },
            "type": "scatterpolargl"
           }
          ],
          "scatterternary": [
           {
            "marker": {
             "colorbar": {
              "outlinewidth": 0,
              "ticks": ""
             }
            },
            "type": "scatterternary"
           }
          ],
          "surface": [
           {
            "colorbar": {
             "outlinewidth": 0,
             "ticks": ""
            },
            "colorscale": [
             [
              0,
              "#0d0887"
             ],
             [
              0.1111111111111111,
              "#46039f"
             ],
             [
              0.2222222222222222,
              "#7201a8"
             ],
             [
              0.3333333333333333,
              "#9c179e"
             ],
             [
              0.4444444444444444,
              "#bd3786"
             ],
             [
              0.5555555555555556,
              "#d8576b"
             ],
             [
              0.6666666666666666,
              "#ed7953"
             ],
             [
              0.7777777777777778,
              "#fb9f3a"
             ],
             [
              0.8888888888888888,
              "#fdca26"
             ],
             [
              1,
              "#f0f921"
             ]
            ],
            "type": "surface"
           }
          ],
          "table": [
           {
            "cells": {
             "fill": {
              "color": "#EBF0F8"
             },
             "line": {
              "color": "white"
             }
            },
            "header": {
             "fill": {
              "color": "#C8D4E3"
             },
             "line": {
              "color": "white"
             }
            },
            "type": "table"
           }
          ]
         },
         "layout": {
          "annotationdefaults": {
           "arrowcolor": "#2a3f5f",
           "arrowhead": 0,
           "arrowwidth": 1
          },
          "autotypenumbers": "strict",
          "coloraxis": {
           "colorbar": {
            "outlinewidth": 0,
            "ticks": ""
           }
          },
          "colorscale": {
           "diverging": [
            [
             0,
             "#8e0152"
            ],
            [
             0.1,
             "#c51b7d"
            ],
            [
             0.2,
             "#de77ae"
            ],
            [
             0.3,
             "#f1b6da"
            ],
            [
             0.4,
             "#fde0ef"
            ],
            [
             0.5,
             "#f7f7f7"
            ],
            [
             0.6,
             "#e6f5d0"
            ],
            [
             0.7,
             "#b8e186"
            ],
            [
             0.8,
             "#7fbc41"
            ],
            [
             0.9,
             "#4d9221"
            ],
            [
             1,
             "#276419"
            ]
           ],
           "sequential": [
            [
             0,
             "#0d0887"
            ],
            [
             0.1111111111111111,
             "#46039f"
            ],
            [
             0.2222222222222222,
             "#7201a8"
            ],
            [
             0.3333333333333333,
             "#9c179e"
            ],
            [
             0.4444444444444444,
             "#bd3786"
            ],
            [
             0.5555555555555556,
             "#d8576b"
            ],
            [
             0.6666666666666666,
             "#ed7953"
            ],
            [
             0.7777777777777778,
             "#fb9f3a"
            ],
            [
             0.8888888888888888,
             "#fdca26"
            ],
            [
             1,
             "#f0f921"
            ]
           ],
           "sequentialminus": [
            [
             0,
             "#0d0887"
            ],
            [
             0.1111111111111111,
             "#46039f"
            ],
            [
             0.2222222222222222,
             "#7201a8"
            ],
            [
             0.3333333333333333,
             "#9c179e"
            ],
            [
             0.4444444444444444,
             "#bd3786"
            ],
            [
             0.5555555555555556,
             "#d8576b"
            ],
            [
             0.6666666666666666,
             "#ed7953"
            ],
            [
             0.7777777777777778,
             "#fb9f3a"
            ],
            [
             0.8888888888888888,
             "#fdca26"
            ],
            [
             1,
             "#f0f921"
            ]
           ]
          },
          "colorway": [
           "#636efa",
           "#EF553B",
           "#00cc96",
           "#ab63fa",
           "#FFA15A",
           "#19d3f3",
           "#FF6692",
           "#B6E880",
           "#FF97FF",
           "#FECB52"
          ],
          "font": {
           "color": "#2a3f5f"
          },
          "geo": {
           "bgcolor": "white",
           "lakecolor": "white",
           "landcolor": "#E5ECF6",
           "showlakes": true,
           "showland": true,
           "subunitcolor": "white"
          },
          "hoverlabel": {
           "align": "left"
          },
          "hovermode": "closest",
          "mapbox": {
           "style": "light"
          },
          "paper_bgcolor": "white",
          "plot_bgcolor": "#E5ECF6",
          "polar": {
           "angularaxis": {
            "gridcolor": "white",
            "linecolor": "white",
            "ticks": ""
           },
           "bgcolor": "#E5ECF6",
           "radialaxis": {
            "gridcolor": "white",
            "linecolor": "white",
            "ticks": ""
           }
          },
          "scene": {
           "xaxis": {
            "backgroundcolor": "#E5ECF6",
            "gridcolor": "white",
            "gridwidth": 2,
            "linecolor": "white",
            "showbackground": true,
            "ticks": "",
            "zerolinecolor": "white"
           },
           "yaxis": {
            "backgroundcolor": "#E5ECF6",
            "gridcolor": "white",
            "gridwidth": 2,
            "linecolor": "white",
            "showbackground": true,
            "ticks": "",
            "zerolinecolor": "white"
           },
           "zaxis": {
            "backgroundcolor": "#E5ECF6",
            "gridcolor": "white",
            "gridwidth": 2,
            "linecolor": "white",
            "showbackground": true,
            "ticks": "",
            "zerolinecolor": "white"
           }
          },
          "shapedefaults": {
           "line": {
            "color": "#2a3f5f"
           }
          },
          "ternary": {
           "aaxis": {
            "gridcolor": "white",
            "linecolor": "white",
            "ticks": ""
           },
           "baxis": {
            "gridcolor": "white",
            "linecolor": "white",
            "ticks": ""
           },
           "bgcolor": "#E5ECF6",
           "caxis": {
            "gridcolor": "white",
            "linecolor": "white",
            "ticks": ""
           }
          },
          "title": {
           "x": 0.05
          },
          "xaxis": {
           "automargin": true,
           "gridcolor": "white",
           "linecolor": "white",
           "ticks": "",
           "title": {
            "standoff": 15
           },
           "zerolinecolor": "white",
           "zerolinewidth": 2
          },
          "yaxis": {
           "automargin": true,
           "gridcolor": "white",
           "linecolor": "white",
           "ticks": "",
           "title": {
            "standoff": 15
           },
           "zerolinecolor": "white",
           "zerolinewidth": 2
          }
         }
        }
       }
      },
      "text/html": [
       "<div>                            <div id=\"a17f3141-6254-49dc-8f4e-1cd2097c4cb1\" class=\"plotly-graph-div\" style=\"height:525px; width:100%;\"></div>            <script type=\"text/javascript\">                require([\"plotly\"], function(Plotly) {                    window.PLOTLYENV=window.PLOTLYENV || {};                                    if (document.getElementById(\"a17f3141-6254-49dc-8f4e-1cd2097c4cb1\")) {                    Plotly.newPlot(                        \"a17f3141-6254-49dc-8f4e-1cd2097c4cb1\",                        [{\"x\":[[0.0,0.1,0.2,0.30000000000000004,0.4,0.5,0.6000000000000001,0.7000000000000001,0.8,0.9,1.0,1.1,1.2000000000000002,1.3,1.4000000000000001,1.5,1.6,1.7000000000000002,1.8,1.9000000000000001],[0.0,0.1,0.2,0.30000000000000004,0.4,0.5,0.6000000000000001,0.7000000000000001,0.8,0.9,1.0,1.1,1.2000000000000002,1.3,1.4000000000000001,1.5,1.6,1.7000000000000002,1.8,1.9000000000000001],[0.0,0.1,0.2,0.30000000000000004,0.4,0.5,0.6000000000000001,0.7000000000000001,0.8,0.9,1.0,1.1,1.2000000000000002,1.3,1.4000000000000001,1.5,1.6,1.7000000000000002,1.8,1.9000000000000001],[0.0,0.1,0.2,0.30000000000000004,0.4,0.5,0.6000000000000001,0.7000000000000001,0.8,0.9,1.0,1.1,1.2000000000000002,1.3,1.4000000000000001,1.5,1.6,1.7000000000000002,1.8,1.9000000000000001],[0.0,0.1,0.2,0.30000000000000004,0.4,0.5,0.6000000000000001,0.7000000000000001,0.8,0.9,1.0,1.1,1.2000000000000002,1.3,1.4000000000000001,1.5,1.6,1.7000000000000002,1.8,1.9000000000000001],[0.0,0.1,0.2,0.30000000000000004,0.4,0.5,0.6000000000000001,0.7000000000000001,0.8,0.9,1.0,1.1,1.2000000000000002,1.3,1.4000000000000001,1.5,1.6,1.7000000000000002,1.8,1.9000000000000001],[0.0,0.1,0.2,0.30000000000000004,0.4,0.5,0.6000000000000001,0.7000000000000001,0.8,0.9,1.0,1.1,1.2000000000000002,1.3,1.4000000000000001,1.5,1.6,1.7000000000000002,1.8,1.9000000000000001],[0.0,0.1,0.2,0.30000000000000004,0.4,0.5,0.6000000000000001,0.7000000000000001,0.8,0.9,1.0,1.1,1.2000000000000002,1.3,1.4000000000000001,1.5,1.6,1.7000000000000002,1.8,1.9000000000000001],[0.0,0.1,0.2,0.30000000000000004,0.4,0.5,0.6000000000000001,0.7000000000000001,0.8,0.9,1.0,1.1,1.2000000000000002,1.3,1.4000000000000001,1.5,1.6,1.7000000000000002,1.8,1.9000000000000001],[0.0,0.1,0.2,0.30000000000000004,0.4,0.5,0.6000000000000001,0.7000000000000001,0.8,0.9,1.0,1.1,1.2000000000000002,1.3,1.4000000000000001,1.5,1.6,1.7000000000000002,1.8,1.9000000000000001],[0.0,0.1,0.2,0.30000000000000004,0.4,0.5,0.6000000000000001,0.7000000000000001,0.8,0.9,1.0,1.1,1.2000000000000002,1.3,1.4000000000000001,1.5,1.6,1.7000000000000002,1.8,1.9000000000000001],[0.0,0.1,0.2,0.30000000000000004,0.4,0.5,0.6000000000000001,0.7000000000000001,0.8,0.9,1.0,1.1,1.2000000000000002,1.3,1.4000000000000001,1.5,1.6,1.7000000000000002,1.8,1.9000000000000001],[0.0,0.1,0.2,0.30000000000000004,0.4,0.5,0.6000000000000001,0.7000000000000001,0.8,0.9,1.0,1.1,1.2000000000000002,1.3,1.4000000000000001,1.5,1.6,1.7000000000000002,1.8,1.9000000000000001],[0.0,0.1,0.2,0.30000000000000004,0.4,0.5,0.6000000000000001,0.7000000000000001,0.8,0.9,1.0,1.1,1.2000000000000002,1.3,1.4000000000000001,1.5,1.6,1.7000000000000002,1.8,1.9000000000000001],[0.0,0.1,0.2,0.30000000000000004,0.4,0.5,0.6000000000000001,0.7000000000000001,0.8,0.9,1.0,1.1,1.2000000000000002,1.3,1.4000000000000001,1.5,1.6,1.7000000000000002,1.8,1.9000000000000001],[0.0,0.1,0.2,0.30000000000000004,0.4,0.5,0.6000000000000001,0.7000000000000001,0.8,0.9,1.0,1.1,1.2000000000000002,1.3,1.4000000000000001,1.5,1.6,1.7000000000000002,1.8,1.9000000000000001],[0.0,0.1,0.2,0.30000000000000004,0.4,0.5,0.6000000000000001,0.7000000000000001,0.8,0.9,1.0,1.1,1.2000000000000002,1.3,1.4000000000000001,1.5,1.6,1.7000000000000002,1.8,1.9000000000000001],[0.0,0.1,0.2,0.30000000000000004,0.4,0.5,0.6000000000000001,0.7000000000000001,0.8,0.9,1.0,1.1,1.2000000000000002,1.3,1.4000000000000001,1.5,1.6,1.7000000000000002,1.8,1.9000000000000001],[0.0,0.1,0.2,0.30000000000000004,0.4,0.5,0.6000000000000001,0.7000000000000001,0.8,0.9,1.0,1.1,1.2000000000000002,1.3,1.4000000000000001,1.5,1.6,1.7000000000000002,1.8,1.9000000000000001],[0.0,0.1,0.2,0.30000000000000004,0.4,0.5,0.6000000000000001,0.7000000000000001,0.8,0.9,1.0,1.1,1.2000000000000002,1.3,1.4000000000000001,1.5,1.6,1.7000000000000002,1.8,1.9000000000000001],[0.0,0.1,0.2,0.30000000000000004,0.4,0.5,0.6000000000000001,0.7000000000000001,0.8,0.9,1.0,1.1,1.2000000000000002,1.3,1.4000000000000001,1.5,1.6,1.7000000000000002,1.8,1.9000000000000001],[0.0,0.1,0.2,0.30000000000000004,0.4,0.5,0.6000000000000001,0.7000000000000001,0.8,0.9,1.0,1.1,1.2000000000000002,1.3,1.4000000000000001,1.5,1.6,1.7000000000000002,1.8,1.9000000000000001],[0.0,0.1,0.2,0.30000000000000004,0.4,0.5,0.6000000000000001,0.7000000000000001,0.8,0.9,1.0,1.1,1.2000000000000002,1.3,1.4000000000000001,1.5,1.6,1.7000000000000002,1.8,1.9000000000000001],[0.0,0.1,0.2,0.30000000000000004,0.4,0.5,0.6000000000000001,0.7000000000000001,0.8,0.9,1.0,1.1,1.2000000000000002,1.3,1.4000000000000001,1.5,1.6,1.7000000000000002,1.8,1.9000000000000001],[0.0,0.1,0.2,0.30000000000000004,0.4,0.5,0.6000000000000001,0.7000000000000001,0.8,0.9,1.0,1.1,1.2000000000000002,1.3,1.4000000000000001,1.5,1.6,1.7000000000000002,1.8,1.9000000000000001],[0.0,0.1,0.2,0.30000000000000004,0.4,0.5,0.6000000000000001,0.7000000000000001,0.8,0.9,1.0,1.1,1.2000000000000002,1.3,1.4000000000000001,1.5,1.6,1.7000000000000002,1.8,1.9000000000000001],[0.0,0.1,0.2,0.30000000000000004,0.4,0.5,0.6000000000000001,0.7000000000000001,0.8,0.9,1.0,1.1,1.2000000000000002,1.3,1.4000000000000001,1.5,1.6,1.7000000000000002,1.8,1.9000000000000001],[0.0,0.1,0.2,0.30000000000000004,0.4,0.5,0.6000000000000001,0.7000000000000001,0.8,0.9,1.0,1.1,1.2000000000000002,1.3,1.4000000000000001,1.5,1.6,1.7000000000000002,1.8,1.9000000000000001],[0.0,0.1,0.2,0.30000000000000004,0.4,0.5,0.6000000000000001,0.7000000000000001,0.8,0.9,1.0,1.1,1.2000000000000002,1.3,1.4000000000000001,1.5,1.6,1.7000000000000002,1.8,1.9000000000000001],[0.0,0.1,0.2,0.30000000000000004,0.4,0.5,0.6000000000000001,0.7000000000000001,0.8,0.9,1.0,1.1,1.2000000000000002,1.3,1.4000000000000001,1.5,1.6,1.7000000000000002,1.8,1.9000000000000001],[0.0,0.1,0.2,0.30000000000000004,0.4,0.5,0.6000000000000001,0.7000000000000001,0.8,0.9,1.0,1.1,1.2000000000000002,1.3,1.4000000000000001,1.5,1.6,1.7000000000000002,1.8,1.9000000000000001],[0.0,0.1,0.2,0.30000000000000004,0.4,0.5,0.6000000000000001,0.7000000000000001,0.8,0.9,1.0,1.1,1.2000000000000002,1.3,1.4000000000000001,1.5,1.6,1.7000000000000002,1.8,1.9000000000000001],[0.0,0.1,0.2,0.30000000000000004,0.4,0.5,0.6000000000000001,0.7000000000000001,0.8,0.9,1.0,1.1,1.2000000000000002,1.3,1.4000000000000001,1.5,1.6,1.7000000000000002,1.8,1.9000000000000001],[0.0,0.1,0.2,0.30000000000000004,0.4,0.5,0.6000000000000001,0.7000000000000001,0.8,0.9,1.0,1.1,1.2000000000000002,1.3,1.4000000000000001,1.5,1.6,1.7000000000000002,1.8,1.9000000000000001],[0.0,0.1,0.2,0.30000000000000004,0.4,0.5,0.6000000000000001,0.7000000000000001,0.8,0.9,1.0,1.1,1.2000000000000002,1.3,1.4000000000000001,1.5,1.6,1.7000000000000002,1.8,1.9000000000000001],[0.0,0.1,0.2,0.30000000000000004,0.4,0.5,0.6000000000000001,0.7000000000000001,0.8,0.9,1.0,1.1,1.2000000000000002,1.3,1.4000000000000001,1.5,1.6,1.7000000000000002,1.8,1.9000000000000001],[0.0,0.1,0.2,0.30000000000000004,0.4,0.5,0.6000000000000001,0.7000000000000001,0.8,0.9,1.0,1.1,1.2000000000000002,1.3,1.4000000000000001,1.5,1.6,1.7000000000000002,1.8,1.9000000000000001],[0.0,0.1,0.2,0.30000000000000004,0.4,0.5,0.6000000000000001,0.7000000000000001,0.8,0.9,1.0,1.1,1.2000000000000002,1.3,1.4000000000000001,1.5,1.6,1.7000000000000002,1.8,1.9000000000000001],[0.0,0.1,0.2,0.30000000000000004,0.4,0.5,0.6000000000000001,0.7000000000000001,0.8,0.9,1.0,1.1,1.2000000000000002,1.3,1.4000000000000001,1.5,1.6,1.7000000000000002,1.8,1.9000000000000001],[0.0,0.1,0.2,0.30000000000000004,0.4,0.5,0.6000000000000001,0.7000000000000001,0.8,0.9,1.0,1.1,1.2000000000000002,1.3,1.4000000000000001,1.5,1.6,1.7000000000000002,1.8,1.9000000000000001],[0.0,0.1,0.2,0.30000000000000004,0.4,0.5,0.6000000000000001,0.7000000000000001,0.8,0.9,1.0,1.1,1.2000000000000002,1.3,1.4000000000000001,1.5,1.6,1.7000000000000002,1.8,1.9000000000000001],[0.0,0.1,0.2,0.30000000000000004,0.4,0.5,0.6000000000000001,0.7000000000000001,0.8,0.9,1.0,1.1,1.2000000000000002,1.3,1.4000000000000001,1.5,1.6,1.7000000000000002,1.8,1.9000000000000001],[0.0,0.1,0.2,0.30000000000000004,0.4,0.5,0.6000000000000001,0.7000000000000001,0.8,0.9,1.0,1.1,1.2000000000000002,1.3,1.4000000000000001,1.5,1.6,1.7000000000000002,1.8,1.9000000000000001],[0.0,0.1,0.2,0.30000000000000004,0.4,0.5,0.6000000000000001,0.7000000000000001,0.8,0.9,1.0,1.1,1.2000000000000002,1.3,1.4000000000000001,1.5,1.6,1.7000000000000002,1.8,1.9000000000000001],[0.0,0.1,0.2,0.30000000000000004,0.4,0.5,0.6000000000000001,0.7000000000000001,0.8,0.9,1.0,1.1,1.2000000000000002,1.3,1.4000000000000001,1.5,1.6,1.7000000000000002,1.8,1.9000000000000001],[0.0,0.1,0.2,0.30000000000000004,0.4,0.5,0.6000000000000001,0.7000000000000001,0.8,0.9,1.0,1.1,1.2000000000000002,1.3,1.4000000000000001,1.5,1.6,1.7000000000000002,1.8,1.9000000000000001],[0.0,0.1,0.2,0.30000000000000004,0.4,0.5,0.6000000000000001,0.7000000000000001,0.8,0.9,1.0,1.1,1.2000000000000002,1.3,1.4000000000000001,1.5,1.6,1.7000000000000002,1.8,1.9000000000000001],[0.0,0.1,0.2,0.30000000000000004,0.4,0.5,0.6000000000000001,0.7000000000000001,0.8,0.9,1.0,1.1,1.2000000000000002,1.3,1.4000000000000001,1.5,1.6,1.7000000000000002,1.8,1.9000000000000001],[0.0,0.1,0.2,0.30000000000000004,0.4,0.5,0.6000000000000001,0.7000000000000001,0.8,0.9,1.0,1.1,1.2000000000000002,1.3,1.4000000000000001,1.5,1.6,1.7000000000000002,1.8,1.9000000000000001],[0.0,0.1,0.2,0.30000000000000004,0.4,0.5,0.6000000000000001,0.7000000000000001,0.8,0.9,1.0,1.1,1.2000000000000002,1.3,1.4000000000000001,1.5,1.6,1.7000000000000002,1.8,1.9000000000000001],[0.0,0.1,0.2,0.30000000000000004,0.4,0.5,0.6000000000000001,0.7000000000000001,0.8,0.9,1.0,1.1,1.2000000000000002,1.3,1.4000000000000001,1.5,1.6,1.7000000000000002,1.8,1.9000000000000001],[0.0,0.1,0.2,0.30000000000000004,0.4,0.5,0.6000000000000001,0.7000000000000001,0.8,0.9,1.0,1.1,1.2000000000000002,1.3,1.4000000000000001,1.5,1.6,1.7000000000000002,1.8,1.9000000000000001],[0.0,0.1,0.2,0.30000000000000004,0.4,0.5,0.6000000000000001,0.7000000000000001,0.8,0.9,1.0,1.1,1.2000000000000002,1.3,1.4000000000000001,1.5,1.6,1.7000000000000002,1.8,1.9000000000000001],[0.0,0.1,0.2,0.30000000000000004,0.4,0.5,0.6000000000000001,0.7000000000000001,0.8,0.9,1.0,1.1,1.2000000000000002,1.3,1.4000000000000001,1.5,1.6,1.7000000000000002,1.8,1.9000000000000001],[0.0,0.1,0.2,0.30000000000000004,0.4,0.5,0.6000000000000001,0.7000000000000001,0.8,0.9,1.0,1.1,1.2000000000000002,1.3,1.4000000000000001,1.5,1.6,1.7000000000000002,1.8,1.9000000000000001],[0.0,0.1,0.2,0.30000000000000004,0.4,0.5,0.6000000000000001,0.7000000000000001,0.8,0.9,1.0,1.1,1.2000000000000002,1.3,1.4000000000000001,1.5,1.6,1.7000000000000002,1.8,1.9000000000000001],[0.0,0.1,0.2,0.30000000000000004,0.4,0.5,0.6000000000000001,0.7000000000000001,0.8,0.9,1.0,1.1,1.2000000000000002,1.3,1.4000000000000001,1.5,1.6,1.7000000000000002,1.8,1.9000000000000001],[0.0,0.1,0.2,0.30000000000000004,0.4,0.5,0.6000000000000001,0.7000000000000001,0.8,0.9,1.0,1.1,1.2000000000000002,1.3,1.4000000000000001,1.5,1.6,1.7000000000000002,1.8,1.9000000000000001],[0.0,0.1,0.2,0.30000000000000004,0.4,0.5,0.6000000000000001,0.7000000000000001,0.8,0.9,1.0,1.1,1.2000000000000002,1.3,1.4000000000000001,1.5,1.6,1.7000000000000002,1.8,1.9000000000000001],[0.0,0.1,0.2,0.30000000000000004,0.4,0.5,0.6000000000000001,0.7000000000000001,0.8,0.9,1.0,1.1,1.2000000000000002,1.3,1.4000000000000001,1.5,1.6,1.7000000000000002,1.8,1.9000000000000001]],\"y\":[[1.0,0.9048374180359595,0.8187307530779818,0.7408182206817179,0.6703200460356393,0.6065306597126334,0.5488116360940264,0.49658530379140947,0.44932896411722156,0.4065696597405991,0.36787944117144233,0.33287108369807955,0.301194211912202,0.2725317930340126,0.24659696394160643,0.22313016014842982,0.20189651799465538,0.1826835240527346,0.16529888822158653,0.14956861922263504],[0.9943348002101371,0.8997113332854421,0.8140924797876902,0.7366213374535852,0.6665225490516973,0.603094542346684,0.5457025085285522,0.49377204883272136,0.4467834257641254,0.40426636138967204,0.365795330638623,0.33098530250466174,0.2994878865261691,0.27098784597738534,0.24519994287330363,0.22186608321204485,0.200752733883338,0.18164858539065964,0.16436243699476902,0.14872128311244487],[0.9774033898178667,0.8843911596223929,0.8002302134065542,0.7240782401331515,0.6551730852581024,0.5928251228315949,0.5364103534897908,0.48536415925945875,0.4391756526715229,0.3973825636275582,0.3595666128452702,0.32534932557884977,0.2943882437165071,0.2663734983445852,0.24102470847532037,0.21808817489967877,0.1973343410804001,0.1785554956730166,0.16156369368090331,0.14618887543858122],[0.9493976084683813,0.859050480736045,0.7773010189517527,0.7033310470250245,0.6364002486146513,0.5758387577939238,0.5210404548072882,0.47145689982010874,0.4265918439484653,0.3859962626335283,0.3492638616528519,0.31602701079123513,0.28595306447396346,0.2587410325380914,0.2341185678217248,0.21183924042208618,0.19168007134221932,0.17343930084224224,0.15693436916005654,0.14200008939188766],[0.9106347728549132,0.8239764166438022,0.7455646933585001,0.6746148321172771,0.6104167428617594,0.5523279095369547,0.49976695957461703,0.45220784532117825,0.4091745791760195,0.37023646974757984,0.3350038113491488,0.30312398369336946,0.2742779227498827,0.24817692744527028,0.224559770245676,0.2031900827038458,0.1838539898042609,0.16635796943009706,0.15052691552883415,0.13620238559202727],[0.8615540813938061,0.7795663705067144,0.7053808218769597,0.6382549615992313,0.577516971502089,0.5225589653658971,0.47283090499322067,0.4278350952416719,0.38712120292364327,0.35028174972040416,0.31694803400212873,0.28678644073805964,0.25949510256514857,0.2348008785980256,0.21245662074321225,0.1922387001579333,0.17394476909749335,0.15739173575103704,0.1424139317971664,0.12886145433969728],[0.8027116379309637,0.7263235258928692,0.6572047038276781,0.5946634073325239,0.5380737020912271,0.4868692193132759,0.4405374873246079,0.39861480257884746,0.36068158875635814,0.3263581975034109,0.29530110878385607,0.2671994928151403,0.24177209917936945,0.21876444197459463,0.1979462528343697,0.17910917632454434,0.1620646846520481,0.1466421908153712,0.132687341312517,0.12006047131927398],[0.7347741508630673,0.6648511455065024,0.6015821938783538,0.5443340790452976,0.4925338426323291,0.4456630504627662,0.4032526038947589,0.3648780449244112,0.3301553080674131,0.2987368765025849,0.2703083040067263,0.2445850678711254,0.221309721302659,0.2002493168097558,0.18119307478560429,0.16395027395500275,0.1483483425717329,0.13423113126252081,0.12145735023162532,0.10989915518507311],[0.6585113790650386,0.5958457359805086,0.5391435172923394,0.4878372281376262,0.44141337792986907,0.3994073411725939,0.3613987073312175,0.32700707322311223,0.29588823581469686,0.2677307473217854,0.24225279813548226,0.21919939637689628,0.19833981585271165,0.17946528686989532,0.16238690679843887,0.14693374947034546,0.13295115449308992,0.12029917935642742,0.10885119884071462,0.09849263770915105],[0.5747874102144069,0.5200891561779799,0.47059612922458427,0.4258129865052896,0.38529152327562716,0.3486261871118603,0.315450019006017,0.2854309807167988,0.25826863161925995,0.23369112179405158,0.2114524712620566,0.19133010813408224,0.17312264103658387,0.15664784351910885,0.14174083027073145,0.12825240689244186,0.11604757670945437,0.10500418967911264,0.09501171987220645,0.08597015929232316],[0.4845508703326502,0.4384397584188722,0.3967166989720422,0.3589641135896117,0.3248041617079912,0.29389495904719304,0.2659271559180462,0.24062084114653096,0.21772274062866787,0.19700368247815675,0.17825630339711138,0.1612929733144769,0.14594391752121416,0.1320555175079485,0.11948877349929456,0.10811791329738529,0.09782913351144185,0.0885194605751882,0.08009572015278922,0.07247360461878057],[0.3888241754733207,0.35182266300524034,0.3183423100001972,0.28804803383218147,0.26063663920304586,0.23583378366205396,0.21339123189442394,0.19308437129886327,0.17470996398915997,0.158084112721107,0.14304042038707207,0.1294283246578165,0.11711159110409858,0.10596694971671564,0.09588286117881932,0.08675840054294323,0.07850224714020634,0.07103177061236508,0.06427220391941499,0.05815589504592413],[0.28869194733962117,0.261219276238556,0.23636097545291712,0.21386825475327836,0.1935159994308132,0.17510051727362524,0.158437499946628,0.14336017837177936,0.12971765364709545,0.11737338679972073,0.10620383225799529,0.09609720136584861,0.08695234356435613,0.0786777340429477,0.07119055772834071,0.06441588044345174,0.05828589894096593,0.052739262305648474,0.047720457933764185,0.043179255944280806],[0.18528872408711453,0.167656170694162,0.15170157660870168,0.13726526289060195,0.12420274605995948,0.11238329205786969,0.10168860781602396,0.09201165733992242,0.08325559045666485,0.07533277350586791,0.06816391227253726,0.06167725838391227,0.0558078912276359,0.05049706820444576,0.045691636812496446,0.04134350267925609,0.03740914821686085,0.033849197083468896,0.030628020091596334,0.027713378619233515],[0.0797861055530831,0.07219345374379625,0.06532333828463507,0.05910700075095875,0.05348222594734704,0.0483927192370133,0.04378754312615822,0.039620607464411234,0.03585020815911413,0.032438609786744524,0.029351667924113926,0.026558487419504135,0.02403111318360463,0.021744250405582727,0.019675011394114837,0.017802686509678957,0.016108536895521518,0.014575606932880679,0.013188554543454788,0.011933497640726053],[-0.026620521437774693,-0.024087243884526963,-0.021795039564077835,-0.019720967325151773,-0.017844269155661854,-0.016146162429547785,-0.014609651923941232,-0.013219359725263074,-0.011961371321895592,-0.010823096343073381,-0.009793142550220955,-0.00886120181960002,-0.008017946975142428,-0.007254938438937108,-0.006564539765097687,-0.005939841211645376,-0.005374590585488788,-0.00486313066837405,-0.004400342597543067,-0.003981594634434516],[-0.13272552728372186,-0.1200950234148642,-0.10866647090567383,-0.09832548896136963,-0.08896858155892894,-0.08050210162410294,-0.07284131378002173,-0.06590954628706203,-0.05963742368630677,-0.0539621724666344,-0.04882699280632062,-0.04418049010133152,-0.03997616059085207,-0.03617192593201748,-0.032729712065714664,-0.02961506815860165,-0.026796821807588075,-0.024246767055947686,-0.021939382098623072,-0.01985157385142245],[-0.23732669987111465,-0.21474207834237447,-0.19430666771098987,-0.17581594351878324,-0.15908484438309192,-0.14394591984024932,-0.1302476544450624,-0.11785295135331013,-0.10663776021044669,-0.09648983561395837,-0.08730761372364827,-0.07899919577658682,-0.07148142833340408,-0.06467907105071984,-0.058524043650497716,-0.052954744549740154,-0.04791543433114068,-0.0433556778842609,-0.039229839633993395,-0.03549662680438734],[-0.33923886611803006,-0.30695601971568487,-0.2777452923301354,-0.25131433318364255,-0.227398612353316,-0.2057587732667345,-0.18617823714091844,-0.16846103538907525,-0.15242984830111525,-0.13792423036839413,-0.12479900449113464,-0.11292280899721639,-0.10217678293040908,-0.09245337644997208,-0.08365527443569931,-0.07569442252548779,-0.06849114583768534,-0.06197335155809556,-0.05607580741086201,-0.0507394887919261],[-0.43730732045885534,-0.3956920267322146,-0.358036951805793,-0.323965231033419,-0.293135863181702,-0.2652402975750735,-0.2399993460169191,-0.21716038858026793,-0.19649484530265532,-0.17779588848102995,-0.16087637267058455,-0.14556696167024252,-0.1317144337490417,-0.11918014815155138,-0.10783865753459287,-0.0975764524480651,-0.08829082529421582,-0.07988884239548222,-0.07228641388300985,-0.06540745209698137],[-0.5304209081197424,-0.47994468497535664,-0.4342719095531837,-0.39294547336564856,-0.35555176754909135,-0.3217165433272415,-0.29110116640367506,-0.2633992277959576,-0.2383334771915598,-0.21565304813354325,-0.19513094726473978,-0.17656178250193813,-0.15975970740288034,-0.14455656115260265,-0.13080018555347825,-0.1183529021748337,-0.10709013442093902,-0.09689916072656629,-0.08767798640167772,-0.07933432283428604],[-0.6175246149461918,-0.5587593781615623,-0.5055863930390864,-0.4574734864716008,-0.41393912831887175,-0.37454761209210363,-0.3389046942569532,-0.3066536485117278,-0.2774716955506585,-0.25106677258011767,-0.22717461025601515,-0.20555608778737816,-0.18599483973510425,-0.16829509055392386,-0.15227969520494047,-0.13778836622854124,-0.12467606953362645,-0.11281157284767832,-0.10207613230006883,-0.09236230399349128],[-0.6976315211349846,-0.6312431043242784,-0.5711723806697839,-0.5168181421786996,-0.46763639336311597,-0.42313490675033016,-0.38286829650485527,-0.34643356085727944,-0.3134660487271042,-0.28363581017216727,-0.2566442941387214,-0.232221360462142,-0.2101225762133624,-0.190126769331963,-0.17203381506185184,-0.1556626330354418,-0.14084937496046823,-0.1274457847712088,-0.11531771483194721,-0.10434378334234617],[-0.769833983429906,-0.6965745938830539,-0.6302867569985896,-0.5703070418248621,-0.5160351512125342,-0.46692791383894544,-0.42249384796694833,-0.38228824253049076,-0.345908706316794,-0.3129911406998469,-0.28320609561897925,-0.25625547233192225,-0.23186953994240175,-0.20980423584266863,-0.1898387230528878,-0.1717731800104186,-0.15542680068845327,-0.14063598502852973,-0.12725270157615873,-0.11514300593227195],[-0.8333139190825148,-0.7540136149560492,-0.6822597325207918,-0.6173341348040177,-0.5585870246015304,-0.5054304410888377,-0.4573323753116001,-0.41381144566120065,-0.3744320800458086,-0.3388001565384832,-0.3065590588724601,-0.27738610730569047,-0.25098932913352656,-0.22710453652775786,-0.20549268245602964,-0.18593746821879722,-0.16824317865923977,-0.15223272338018914,-0.1377458643639128,-0.12463761225617437],[-0.8873520750565714,-0.8029093604830391,-0.7265024326563766,-0.6573665853616394,-0.594809883801741,-0.5382062394814365,-0.48698914410322625,-0.4406459997619051,-0.39871298869243627,-0.36077043122586483,-0.32643858549413124,-0.2953738468458206,-0.2672653089353212,-0.24183165206761914,-0.218818327656235,-0.1979950106154143,-0.17915329418925388,-0.16210460414684114,-0.14667831146796906,-0.1327200246305514],[-0.9313361774523383,-0.842707822129454,-0.7625135699343218,-0.6899508098367539,-0.6242933093445078,-0.564883946124409,-0.5111281313011743,-0.46248785861209946,-0.418476319859552,-0.37865303277090745,-0.34261943250391347,-0.31001488267578675,-0.2805130659930798,-0.2538187183585291,-0.22966467376872785,-0.2078091904269667,-0.18803353131007958,-0.17013977497479615,-0.15394883469341375,-0.13929866609363326],[-0.9647678688145159,-0.8729580674221818,-0.7898851237799482,-0.7147176159460628,-0.646703242237452,-0.5851612919416197,-0.5294758325350415,-0.47908954522344704,-0.43349814710800594,-0.3922453441525807,-0.3549182644396475,-0.32114332600937456,-0.2905824979258028,-0.26292991714962305,-0.23790882735807367,-0.21526880907464227,-0.19478327338677523,-0.17624719416788212,-0.15947505610694893,-0.14429899800895143],[-0.9872683547213446,-0.8933173489946712,-0.8083069635510666,-0.7313863858800336,-0.6617857689863416,-0.5988085265025433,-0.5418243610184788,-0.4902629558529439,-0.4436082671326554,-0.40139335905171813,-0.3631957306211375,-0.32863308713691397,-0.2973595140461517,-0.2690620149179476,-0.2434573788699085,-0.22028934609845044,-0.19932604314455177,-0.18035766222624047,-0.16319436141179317,-0.14766436461787416],[-0.9985826956767619,-0.9035549880515495,-0.8175703624420765,-0.7397682558148122,-0.6693699985364399,-0.6056710211864463,-0.548033802989547,-0.4958814912934894,-0.44869212823382215,-0.40599342680415135,-0.36735804404903966,-0.3323993040720733,-0.3007673280535246,-0.27214553254552565,-0.2462474609985146,-0.22281391680780666,-0.20161036918685485,-0.1824246059043103,-0.16506460939268364,-0.14935663497199006],[-0.9985826956767619,-0.9035549880515495,-0.8175703624420765,-0.7397682558148122,-0.6693699985364399,-0.6056710211864463,-0.548033802989547,-0.4958814912934894,-0.44869212823382215,-0.40599342680415135,-0.36735804404903966,-0.3323993040720733,-0.3007673280535246,-0.27214553254552565,-0.2462474609985146,-0.22281391680780666,-0.20161036918685485,-0.1824246059043103,-0.16506460939268364,-0.14935663497199006],[-0.9872683547213446,-0.8933173489946712,-0.8083069635510666,-0.7313863858800336,-0.6617857689863416,-0.5988085265025433,-0.5418243610184788,-0.4902629558529439,-0.4436082671326554,-0.40139335905171813,-0.3631957306211375,-0.32863308713691397,-0.2973595140461517,-0.2690620149179476,-0.2434573788699085,-0.22028934609845044,-0.19932604314455177,-0.18035766222624047,-0.16319436141179317,-0.14766436461787416],[-0.964767868814516,-0.872958067422182,-0.7898851237799482,-0.7147176159460628,-0.646703242237452,-0.5851612919416198,-0.5294758325350416,-0.4790895452234471,-0.433498147108006,-0.3922453441525807,-0.3549182644396475,-0.3211433260093746,-0.2905824979258029,-0.2629299171496231,-0.2379088273580737,-0.2152688090746423,-0.19478327338677526,-0.17624719416788215,-0.15947505610694895,-0.14429899800895146],[-0.9313361774523385,-0.8427078221294543,-0.7625135699343221,-0.689950809836754,-0.6242933093445079,-0.5648839461244092,-0.5111281313011744,-0.46248785861209957,-0.41847631985955214,-0.3786530327709075,-0.3426194325039136,-0.31001488267578686,-0.28051306599307985,-0.25381871835852915,-0.2296646737687279,-0.20780919042696674,-0.18803353131007963,-0.17013977497479618,-0.15394883469341378,-0.13929866609363328],[-0.8873520750565718,-0.8029093604830394,-0.7265024326563768,-0.6573665853616397,-0.5948098838017413,-0.5382062394814366,-0.48698914410322647,-0.44064599976190527,-0.39871298869243643,-0.36077043122586494,-0.32643858549413135,-0.2953738468458207,-0.2672653089353213,-0.24183165206761922,-0.21881832765623507,-0.19799501061541439,-0.17915329418925394,-0.1621046041468412,-0.1466783114679691,-0.13272002463055144],[-0.8333139190825152,-0.7540136149560496,-0.6822597325207921,-0.6173341348040179,-0.5585870246015306,-0.505430441088838,-0.45733237531160026,-0.4138114456612008,-0.37443208004580875,-0.33880015653848333,-0.3065590588724602,-0.2773861073056906,-0.2509893291335267,-0.22710453652775794,-0.20549268245602972,-0.1859374682187973,-0.16824317865923982,-0.1522327233801892,-0.13774586436391287,-0.12463761225617441],[-0.7698339834299065,-0.6965745938830542,-0.6302867569985899,-0.5703070418248625,-0.5160351512125345,-0.4669279138389457,-0.4224938479669486,-0.382288242530491,-0.3459087063167942,-0.3129911406998471,-0.2832060956189794,-0.2562554723319224,-0.2318695399424019,-0.20980423584266875,-0.1898387230528879,-0.1717731800104187,-0.15542680068845335,-0.1406359850285298,-0.1272527015761588,-0.11514300593227202],[-0.697631521134985,-0.6312431043242788,-0.5711723806697843,-0.5168181421786999,-0.4676363933631163,-0.42313490675033044,-0.3828682965048555,-0.34643356085727967,-0.3134660487271044,-0.28363581017216744,-0.2566442941387216,-0.23222136046214217,-0.21012257621336253,-0.19012676933196312,-0.17203381506185195,-0.15566263303544192,-0.14084937496046832,-0.12744578477120888,-0.11531771483194728,-0.10434378334234624],[-0.617524614946192,-0.5587593781615625,-0.5055863930390866,-0.45747348647160097,-0.4139391283188719,-0.3745476120921038,-0.3389046942569533,-0.30665364851172794,-0.2774716955506586,-0.2510667725801178,-0.22717461025601524,-0.20555608778737824,-0.18599483973510433,-0.16829509055392392,-0.15227969520494053,-0.1377883662285413,-0.1246760695336265,-0.11281157284767836,-0.10207613230006886,-0.09236230399349132],[-0.5304209081197426,-0.47994468497535686,-0.4342719095531839,-0.3929454733656487,-0.3555517675490915,-0.3217165433272416,-0.2911011664036752,-0.2633992277959577,-0.23833347719155992,-0.21565304813354336,-0.19513094726473987,-0.1765617825019382,-0.1597597074028804,-0.1445565611526027,-0.1308001855534783,-0.11835290217483375,-0.10709013442093906,-0.09689916072656633,-0.08767798640167776,-0.07933432283428607],[-0.43730732045885556,-0.3956920267322148,-0.35803695180579315,-0.3239652310334192,-0.29313586318170215,-0.26524029757507367,-0.23999934601691922,-0.21716038858026804,-0.19649484530265543,-0.17779588848103003,-0.16087637267058463,-0.1455669616702426,-0.1317144337490418,-0.11918014815155145,-0.10783865753459293,-0.09757645244806516,-0.08829082529421586,-0.07988884239548226,-0.07228641388300988,-0.0654074520969814],[-0.3392388661180305,-0.30695601971568526,-0.2777452923301358,-0.2513143331836429,-0.2273986123533163,-0.20575877326673478,-0.1861782371409187,-0.16846103538907548,-0.15242984830111544,-0.13792423036839432,-0.1247990044911348,-0.11292280899721653,-0.10217678293040922,-0.0924533764499722,-0.08365527443569942,-0.07569442252548789,-0.06849114583768544,-0.06197335155809564,-0.056075807410862086,-0.05073948879192617],[-0.2373266998711151,-0.21474207834237488,-0.19430666771099023,-0.17581594351878357,-0.15908484438309223,-0.1439459198402496,-0.13024765444506264,-0.11785295135331035,-0.1066377602104469,-0.09648983561395855,-0.08730761372364844,-0.07899919577658696,-0.0714814283334042,-0.06467907105071996,-0.05852404365049782,-0.05295474454974025,-0.04791543433114077,-0.043355677884260986,-0.03922983963399347,-0.0354966268043874],[-0.1327255272837223,-0.1200950234148646,-0.10866647090567419,-0.09832548896136996,-0.08896858155892924,-0.08050210162410322,-0.07284131378002198,-0.06590954628706225,-0.05963742368630697,-0.05396217246663458,-0.04882699280632079,-0.04418049010133167,-0.03997616059085221,-0.036171925932017596,-0.03272971206571477,-0.029615068158601748,-0.026796821807588165,-0.024246767055947766,-0.021939382098623148,-0.01985157385142252],[-0.02662052143777516,-0.024087243884527387,-0.021795039564078217,-0.01972096732515212,-0.01784426915566217,-0.01614616242954807,-0.01460965192394149,-0.013219359725263306,-0.011961371321895804,-0.010823096343073572,-0.009793142550221127,-0.008861201819600177,-0.008017946975142569,-0.007254938438937235,-0.006564539765097802,-0.005939841211645481,-0.0053745905854888825,-0.004863130668374136,-0.004400342597543144,-0.003981594634434586],[0.07978610555308265,0.07219345374379584,0.0653233382846347,0.05910700075095841,0.05348222594734674,0.04839271923701302,0.04378754312615797,0.039620607464411005,0.035850208159113925,0.03243860978674434,0.029351667924113756,0.026558487419503982,0.024031113183604493,0.021744250405582602,0.019675011394114726,0.017802686509678856,0.016108536895521424,0.014575606932880595,0.013188554543454713,0.011933497640725986],[0.18528872408711383,0.1676561706941614,0.1517015766087011,0.13726526289060142,0.12420274605995901,0.11238329205786926,0.10168860781602358,0.09201165733992207,0.08325559045666454,0.07533277350586762,0.068163912272537,0.06167725838391204,0.05580789122763569,0.05049706820444557,0.04569163681249627,0.041343502679255933,0.03740914821686071,0.033849197083468764,0.030628020091596216,0.027713378619233415],[0.2886919473396205,0.2612192762385554,0.23636097545291657,0.21386825475327786,0.19351599943081277,0.17510051727362486,0.15843749994662765,0.14336017837177903,0.12971765364709517,0.11737338679972047,0.10620383225799505,0.09609720136584839,0.08695234356435592,0.07867773404294752,0.07119055772834054,0.06441588044345159,0.058285898940965794,0.052739262305648356,0.047720457933764074,0.0431792559442807],[0.3888241754733201,0.35182266300523984,0.3183423100001967,0.288048033832181,0.2606366392030454,0.23583378366205357,0.2133912318944236,0.19308437129886297,0.1747099639891597,0.15808411272110676,0.14304042038707182,0.1294283246578163,0.1171115911040984,0.10596694971671547,0.09588286117881917,0.08675840054294309,0.07850224714020622,0.07103177061236497,0.06427220391941489,0.05815589504592404],[0.4845508703326496,0.4384397584188717,0.3967166989720417,0.3589641135896113,0.32480416170799076,0.29389495904719265,0.26592715591804583,0.24062084114653065,0.2177227406286676,0.1970036824781565,0.17825630339711115,0.1612929733144767,0.145943917521214,0.13205551750794833,0.1194887734992944,0.10811791329738515,0.09782913351144172,0.08851946057518809,0.08009572015278911,0.07247360461878047],[0.5747874102144063,0.5200891561779792,0.4705961292245837,0.42581298650528915,0.3852915232756267,0.3486261871118599,0.3154500190060166,0.28543098071679845,0.25826863161925967,0.23369112179405133,0.21145247126205635,0.19133010813408202,0.17312264103658367,0.15664784351910865,0.14174083027073128,0.1282524068924417,0.11604757670945424,0.10500418967911253,0.09501171987220634,0.08597015929232306],[0.6585113790650381,0.595845735980508,0.539143517292339,0.48783722813762576,0.4414133779298687,0.3994073411725936,0.36139870733121715,0.32700707322311195,0.2958882358146966,0.2677307473217852,0.24225279813548203,0.2191993963768961,0.1983398158527115,0.17946528686989519,0.16238690679843873,0.14693374947034532,0.1329511544930898,0.12029917935642732,0.10885119884071454,0.09849263770915097],[0.7347741508630667,0.6648511455065019,0.6015821938783532,0.5443340790452973,0.4925338426323287,0.4456630504627659,0.40325260389475864,0.36487804492441095,0.33015530806741283,0.2987368765025847,0.27030830400672606,0.24458506787112522,0.22130972130265883,0.20024931680975566,0.18119307478560415,0.1639502739550026,0.1483483425717328,0.1342311312625207,0.12145735023162522,0.10989915518507302],[0.8027116379309632,0.7263235258928687,0.6572047038276778,0.5946634073325235,0.5380737020912267,0.48686921931327565,0.4405374873246077,0.39861480257884724,0.3606815887563579,0.3263581975034107,0.2953011087838559,0.2671994928151402,0.24177209917936932,0.21876444197459452,0.1979462528343696,0.17910917632454423,0.162064684652048,0.1466421908153711,0.13268734131251694,0.12006047131927391],[0.8615540813938061,0.7795663705067144,0.7053808218769597,0.6382549615992313,0.577516971502089,0.5225589653658971,0.47283090499322067,0.4278350952416719,0.38712120292364327,0.35028174972040416,0.31694803400212873,0.28678644073805964,0.25949510256514857,0.2348008785980256,0.21245662074321225,0.1922387001579333,0.17394476909749335,0.15739173575103704,0.1424139317971664,0.12886145433969728],[0.9106347728549131,0.8239764166438021,0.7455646933585,0.674614832117277,0.6104167428617593,0.5523279095369545,0.499766959574617,0.4522078453211782,0.40917457917601946,0.3702364697475798,0.33500381134914875,0.30312398369336946,0.27427792274988266,0.24817692744527026,0.22455977024567597,0.20319008270384578,0.18385398980426088,0.16635796943009704,0.15052691552883413,0.13620238559202724],[0.9493976084683813,0.859050480736045,0.7773010189517527,0.7033310470250245,0.6364002486146513,0.5758387577939238,0.5210404548072882,0.47145689982010874,0.4265918439484653,0.3859962626335283,0.3492638616528519,0.31602701079123513,0.28595306447396346,0.2587410325380914,0.2341185678217248,0.21183924042208618,0.19168007134221932,0.17343930084224224,0.15693436916005654,0.14200008939188766],[0.9774033898178666,0.8843911596223928,0.8002302134065541,0.7240782401331514,0.6551730852581023,0.5928251228315948,0.5364103534897908,0.4853641592594587,0.43917565267152286,0.39738256362755814,0.35956661284527014,0.3253493255788497,0.2943882437165071,0.2663734983445851,0.24102470847532034,0.21808817489967874,0.19733434108040007,0.17855549567301657,0.1615636936809033,0.1461888754385812],[0.9943348002101371,0.8997113332854421,0.8140924797876902,0.7366213374535852,0.6665225490516973,0.603094542346684,0.5457025085285522,0.49377204883272136,0.4467834257641254,0.40426636138967204,0.365795330638623,0.33098530250466174,0.2994878865261691,0.27098784597738534,0.24519994287330363,0.22186608321204485,0.200752733883338,0.18164858539065964,0.16436243699476902,0.14872128311244487],[1.0,0.9048374180359595,0.8187307530779818,0.7408182206817179,0.6703200460356393,0.6065306597126334,0.5488116360940264,0.49658530379140947,0.44932896411722156,0.4065696597405991,0.36787944117144233,0.33287108369807955,0.301194211912202,0.2725317930340126,0.24659696394160643,0.22313016014842982,0.20189651799465538,0.1826835240527346,0.16529888822158653,0.14956861922263504]],\"z\":[[0.0,0.0,0.0,0.0,0.0,0.0,0.0,0.0,0.0,0.0,0.0,0.0,0.0,0.0,0.0,0.0,0.0,0.0,0.0,0.0],[0.1062934856473654,0.09617832310720444,0.08702574555135113,0.07874415090733895,0.07125065419243054,0.06447025797285187,0.05833510176426752,0.05278378286124477,0.04776074179833945,0.04321570629229161,0.03910318810011751,0.03538202775748479,0.03201498264095918,0.028968354231311576,0.026211650847411026,0.023717282475231468,0.021460284637717954,0.01941806854190948,0.017570195002706665,0.015898169880637417],[0.21138262362962432,0.19126690738269628,0.17306545463188192,0.15659609912033154,0.141694010002544,0.12821004216186332,0.11600924351602192,0.10496950437134216,0.09498033530787961,0.08594176136417149,0.07776332145421952,0.07036316300253632,0.06366722273605831,0.05760848543401535,0.052126313217076635,0.04716583866307334,0.04267741567539591,0.03861612260817262,0.03494131267533897,0.03161620714394085],[0.31407671202194876,0.2841883611711637,0.25714426295798654,0.23267375095766438,0.21053191606127492,0.19049715534304737,0.17236895418379805,0.15596587945322646,0.14112376366616514,0.12769406193920985,0.11554236530359853,0.10454705549507573,0.09459808775742648,0.08559588947756891,0.07745036362937481,0.0700799870523497,0.06341099454044158,0.057376640575065474,0.05191653131351953,0.046976020147108055],[0.41321218576837815,0.37388984727165453,0.33830952403514314,0.30611511622493337,0.2769844113867464,0.25062585963539363,0.22677565572553238,0.2051950988001024,0.18566820339191828,0.16799953776851873,0.15201226798570117,0.1375463880739722,0.12445711864502508,0.1126134578909596,0.10189687047415713,0.09220010118578095,0.08342610149959624,0.07548705827770055,0.0683035149071246,0.061803576071343284],[0.5076658003388399,0.45935501200375484,0.41564160302335473,0.37608807490797963,0.34029856265385083,0.3079148727930586,0.27861289847294207,0.25209937568577184,0.22810894818399116,0.20640151170570106,0.18675981093050545,0.1689872651152425,0.1529060006478342,0.13835507082839107,0.12518884506054367,0.11327555133148615,0.10249595739338171,0.09274217744695122,0.08391659238413217,0.07593087278323421],[0.5963673585385013,0.5396155009009028,0.488264296567354,0.44179980542514863,0.39975699522968083,0.3617150874054378,0.3272933457525877,0.2961472659111221,0.26796512744542844,0.24246487404139835,0.21939129059203305,0.1985134489188721,0.17962239656516552,0.16252906552945562,0.1470623800094699,0.13306754421799186,0.12040449313459363,0.1089464906878341,0.09857886133805854,0.08919784236605377],[0.6783118362696161,0.61376193055343,0.5553547605307315,0.5025057676126058,0.4546860213147681,0.41141692554349807,0.37226542864507134,0.3368396892792561,0.304785154739477,0.2757810124701588,0.24953697926684126,0.22579039602430143,0.20430359895594563,0.18486154097475205,0.16726963942974338,0.15135182865741495,0.13694879785739628,0.12391639665641499,0.11212419240291038,0.10145416475321657],[0.7525707698561385,0.6809541922859627,0.6161528331487928,0.5575181386618951,0.5044632730950432,0.4564572455212881,0.41301959548128836,0.3737155843735454,0.33815184444435864,0.3059724418311309,0.27685531425663834,0.25050904772151084,0.2266699599349788,0.20509946129388065,0.18558166699772116,0.1679212364010273,0.15194141797851152,0.13748228033639887,0.12439911156528316,0.11256097091469808],[0.818302775908169,0.740430970924406,0.6699696479650982,0.6062136064272002,0.5485247544178553,0.496325722516261,0.4490940852664457,0.4063571325677118,0.36768713863306446,0.332697081165772,0.3010367679101372,0.272389331809699,0.24646805969522823,0.2230135227629631,0.2017909801239432,0.18258802943829444,0.1652124811212201,0.1494904348450395,0.1352645390862584,0.12239241629863418],[0.8747630845319613,0.7915183708010717,0.7161954389636709,0.6480404318010187,0.5863712310937421,0.5305706307534286,0.4800801596166428,0.4343944920778144,0.39305639062073167,0.35565212963179643,0.3218073546950251,0.2911833359272287,0.263473577855491,0.23840075190745894,0.21571392081377647,0.19518602714355096,0.17661162083726736,0.15980480299353886,0.14459736533041892,0.13083710670037862],[0.921311977870413,0.8336375512618676,0.7543064494616082,0.6825247001387136,0.6175738874192811,0.5588039617388927,0.5056267339280848,0.45750998841744334,0.41397215664530124,0.3745774973577122,0.3389317355635238,0.30667811649774546,0.2774938350999511,0.2510868052727362,0.22719273658588032,0.20557248916889187,0.18600968031880538,0.16830851886936207,0.1522918456472102,0.13779936040335256],[0.9574220383620055,0.8663112851622023,0.7838708664815811,0.7092756909008043,0.6417791848303551,0.5807058205511214,0.5254443553059299,0.47544171377658695,0.43019745272019866,0.3892587523649914,0.3522158844378378,0.31869811146598503,0.28836997631181827,0.26092794480507653,0.23609736787085478,0.2136297327493504,0.19330017579663428,0.17490523197372362,0.15826079850008468,0.14320029229112588],[0.9826841245925209,0.8891693660412238,0.8045537133654119,0.7279903046728029,0.6587128676353505,0.5960280503782334,0.5393084821812475,0.48798649454177223,0.4415484397575961,0.3995295501680697,0.3615092866031446,0.32710712948601106,0.2959787704652765,0.26781266646125873,0.24232692163813094,0.21926646609564873,0.19840050304385606,0.17952019891123824,0.16243659326814672,0.1469787076473072],[0.9968120070307501,0.9019528027089466,0.8161206451934606,0.7384564974026924,0.6681830704417304,0.6045970442338351,0.5470620284567161,0.49500219333428963,0.44789650653873553,0.40527351852383575,0.3667066440994562,0.3318098930235835,0.30023400688224716,0.2716629635939231,0.24581081455432222,0.22241882276664904,0.2012528733147724,0.1821011302624567,0.1647719165281113,0.14909179551613286],[0.9996456111234526,0.9045167537199237,0.8184406040062038,0.7405556829447647,0.6700824920675976,0.6063157119935463,0.5486171433548749,0.4964093194834889,0.4491697269304279,0.4064255759756454,0.3677490687895807,0.33275311788869266,0.3010874720338199,0.2724352107980558,0.24650957272059518,0.223051085301651,0.20182496811446443,0.18261878304388185,0.16524030813429516,0.14951561376770198],[0.9911528310040072,0.8968321684846976,0.8114873037432845,0.7342640766880361,0.6643896113069604,0.6011645804649047,0.5439562068025352,0.4921919296878404,0.4453536748368821,0.40297266925223074,0.3646247495852472,0.32992611696672336,0.2985294958187999,0.27012065820425973,0.2444152789277163,0.22115608991349373,0.20011030538025418,0.18106729204265654,0.16383646102264043,0.14824536037187508],[0.97142989326471,0.8789861164245879,0.7953395280750795,0.7196529650453936,0.6511689307735966,0.5892020140264176,0.5331320290732509,0.48239780865891246,0.4364915876531352,0.39495392116647965,0.35736908627145536,0.32336092130773375,0.29258906112981886,0.2647455306182709,0.23955166236119627,0.2167553076571268,0.19612831292606467,0.17746423627176905,0.16057628134187102,0.1452954278071944],[0.9407002666710333,0.8511808004403564,0.7701802377522334,0.6968878977500524,0.6305702460606653,0.5705635533358321,0.5162672524258167,0.467137927701495,0.4226838763680895,0.38246018733833287,0.34606428841276654,0.3131319172018593,0.2833334754655802,0.2563707303834305,0.23197382974013636,0.20989860115397832,0.1899241083175254,0.1718504397928116,0.1554967082304718,0.14069923998835102],[0.8993121301712192,0.8137312658725447,0.7362944975872463,0.666226812110928,0.6028269484967805,0.5454603796003232,0.4935529615184709,0.44658518736437447,0.4040869878678859,0.365633026764306,0.3308384438860875,0.29935500335292214,0.270867608310004,0.2450911473327997,0.22176764093608142,0.20066365962852972,0.18156798767192542,0.16428950916304993,0.14865529528148924,0.1345088735598759],[0.847734427889671,0.7670618309118812,0.6940662465562424,0.6280171104798602,0.5682533807290007,0.5141769218090341,0.4652465183433638,0.420972458408029,0.38091163233017133,0.344663097897495,0.31186406759384455,0.28218627769980625,0.2553327029190709,0.23103458364943488,0.20904873614636757,0.18915511865835982,0.17115462917511584,0.15486711274771392,0.14012955843732533,0.12679446784694856],[0.7865515558026426,0.7117012789046301,0.6439739476169558,0.5826917240441506,0.5272412750950312,0.477067634038975,0.4316686462123502,0.390589943285861,0.35342039579359036,0.31978799841111927,0.2893561468012047,0.26182026876443615,0.23690477597829332,0.21436030581658638,0.19396122564447868,0.17550337461124027,0.15880202033983243,0.14369001006318788,0.130016097703136,0.11764343014881662],[0.7164567402983153,0.6482768670259876,0.5865851665322357,0.5307642075432216,0.4802553151393108,0.4345529793487001,0.3931997958337114,0.3557818880344419,0.32192476495304323,0.2912895731219448,0.26356970524445744,0.23848773156589376,0.21579262326333626,0.19525724006480377,0.17667605695306454,0.15986310720218508,0.14465012116003095,0.13088484214903112,0.11842950263017347,0.10715944537916904],[0.6382441836448203,0.577507219205648,0.5225501411231654,0.47282292048821134,0.427827870562775,0.387114665763844,0.35027583465361006,0.3169426818283632,0.2867815978909688,0.259490720575891,0.2347969136101799,0.2124530330738474,0.19223545390044838,0.17394183176225247,0.1573890779402018,0.1424115269104726,0.1288592783082306,0.11659669667439648,0.1055010539703829,0.09546130127463368],[0.5528000653611936,0.5001941838315321,0.45259441381472765,0.4095243608136168,0.37055296526141973,0.3352901883327117,0.3033831083037614,0.27451238839329933,0.24838908073267751,0.22475173447848146,0.2033637791246127,0.18401115682514974,0.16650018003147848,0.15065559300220546,0.13631881778479193,0.12334636711410561,0.1116084083436429,0.10098746403676488,0.09137723621302568,0.08268154248225613],[0.4610925014493262,0.4172137484871502,0.37751061095021726,0.34158572649337227,0.30907954679820043,0.2796667390926082,0.2530529301110919,0.22897175990815455,0.20718221603844422,0.18746622142319425,0.16962645176152058,0.15348436064249552,0.13887839259265566,0.12566236617452292,0.1137040109536446,0.10288364369162825,0.09309297051606455,0.08423400307905354,0.07621807785688389,0.06896496877568656],[0.3641605752528225,0.32950611466225366,0.2981494620180545,0.2697767894012268,0.2441041335678369,0.22087455394942654,0.19985556110544334,0.1808367898907773,0.16362789405068226,0.1480566411714809,0.13396718892067933,0.12121852532452308,0.10968305747276802,0.09924533452594919,0.08980089224457494,0.08125520747590662,0.07352275213447554,0.06652613720825667,0.06019533822342496,0.054466994415885144],[0.26310256422752126,0.23806504489427055,0.21541016054674655,0.1949111734878297,0.1763629229650868,0.15957977185300398,0.1443937487342396,0.13065286678522248,0.11821960264093688,0.10696952001486244,0.09679002429879403,0.08757923567815858,0.07924496948458779,0.07170381358077282,0.06488029354375825,0.05870611729154936,0.05311949159300172,0.048064503620394536,0.04349056135505783,0.03935188724544501],[0.1590634960190721,0.14392660304167032,0.13023017588291147,0.11783713609626251,0.10662344997409415,0.09647688717664564,0.08729589749306262,0.07898859449275457,0.07147183589511347,0.06467039145362428,0.05851619002627219,0.05294763829667369,0.04790900432746411,0.04334985977633624,0.039224575192240985,0.035491863340504685,0.03211436598630739,0.029058280000912214,0.026293019048591375,0.02379090746829772],[0.053222174842178754,0.04815741526645542,0.04357463128898503,0.03942795686739416,0.03567589069032611,0.0322808808183678,0.02920894885161845,0.026429349862442848,0.02391426468990183,0.021638521516239292,0.019579343938869516,0.017716123016484706,0.016030211007843454,0.014504734738908693,0.013124426730450627,0.011875472395983078,0.010745371780738639,0.009722814457920009,0.008797566330147041,0.00796036720317034],[-0.053222174842178505,-0.0481574152664552,-0.043574631288984825,-0.03942795686739397,-0.03567589069032594,-0.03228088081836765,-0.029208948851618316,-0.026429349862442723,-0.023914264689901717,-0.021638521516239188,-0.019579343938869426,-0.017716123016484626,-0.01603021100784338,-0.014504734738908624,-0.013124426730450566,-0.011875472395983022,-0.010745371780738587,-0.009722814457919964,-0.008797566330147,-0.007960367203170303],[-0.15906349601907185,-0.1439266030416701,-0.13023017588291128,-0.11783713609626233,-0.10662344997409398,-0.09647688717664549,-0.08729589749306248,-0.07898859449275444,-0.07147183589511336,-0.06467039145362419,-0.0585161900262721,-0.05294763829667361,-0.04790900432746403,-0.04334985977633617,-0.03922457519224092,-0.03549186334050463,-0.03211436598630733,-0.02905828000091217,-0.026293019048591333,-0.023790907468297682],[-0.26310256422752104,-0.23806504489427036,-0.2154101605467464,-0.19491117348782952,-0.17636292296508665,-0.15957977185300384,-0.1443937487342395,-0.13065286678522237,-0.11821960264093678,-0.10696952001486235,-0.09679002429879395,-0.0875792356781585,-0.07924496948458772,-0.07170381358077277,-0.0648802935437582,-0.058706117291549315,-0.05311949159300167,-0.048064503620394494,-0.04349056135505779,-0.03935188724544497],[-0.3641605752528219,-0.3295061146622531,-0.298149462018054,-0.26977678940122635,-0.24410413356783647,-0.22087455394942618,-0.199855561105443,-0.180836789890777,-0.16362789405068198,-0.14805664117148065,-0.1339671889206791,-0.12121852532452287,-0.10968305747276784,-0.09924533452594902,-0.08980089224457478,-0.08125520747590648,-0.07352275213447541,-0.06652613720825656,-0.06019533822342486,-0.05446699441588505],[-0.46109250144932556,-0.41721374848714965,-0.37751061095021676,-0.34158572649337177,-0.3090795467982,-0.2796667390926078,-0.2530529301110916,-0.22897175990815424,-0.20718221603844394,-0.187466221423194,-0.16962645176152036,-0.15348436064249532,-0.1388783925926555,-0.12566236617452275,-0.11370401095364445,-0.10288364369162813,-0.09309297051606442,-0.08423400307905343,-0.0762180778568838,-0.06896496877568647],[-0.5528000653611931,-0.5001941838315316,-0.4525944138147272,-0.40952436081361643,-0.3705529652614194,-0.3352901883327113,-0.3033831083037611,-0.27451238839329906,-0.24838908073267726,-0.2247517344784812,-0.2033637791246125,-0.18401115682514954,-0.16650018003147832,-0.1506555930022053,-0.13631881778479182,-0.12334636711410549,-0.11160840834364279,-0.10098746403676478,-0.09137723621302558,-0.08268154248225605],[-0.6382441836448197,-0.5775072192056474,-0.522550141123165,-0.47282292048821095,-0.4278278705627746,-0.3871146657638437,-0.35027583465360973,-0.31694268182836294,-0.2867815978909686,-0.2594907205758908,-0.23479691361017968,-0.21245303307384725,-0.19223545390044822,-0.17394183176225234,-0.15738907794020165,-0.14241152691047249,-0.1288592783082305,-0.11659669667439639,-0.1055010539703828,-0.09546130127463359],[-0.7164567402983149,-0.6482768670259872,-0.5865851665322354,-0.5307642075432213,-0.4802553151393105,-0.4345529793486998,-0.3931997958337111,-0.35578188803444166,-0.32192476495304306,-0.29128957312194464,-0.2635697052444573,-0.23848773156589362,-0.21579262326333615,-0.19525724006480366,-0.17667605695306443,-0.159863107202185,-0.14465012116003087,-0.13088484214903104,-0.11842950263017339,-0.10715944537916897],[-0.7865515558026425,-0.71170127890463,-0.6439739476169557,-0.5826917240441505,-0.527241275095031,-0.47706763403897495,-0.4316686462123501,-0.39058994328586094,-0.3534203957935903,-0.3197879984111192,-0.28935614680120464,-0.2618202687644361,-0.2369047759782933,-0.21436030581658636,-0.19396122564447865,-0.17550337461124024,-0.1588020203398324,-0.14369001006318785,-0.130016097703136,-0.1176434301488166],[-0.8477344278896709,-0.7670618309118812,-0.6940662465562424,-0.6280171104798601,-0.5682533807290006,-0.514176921809034,-0.4652465183433637,-0.42097245840802894,-0.3809116323301713,-0.34466309789749494,-0.3118640675938445,-0.28218627769980625,-0.2553327029190709,-0.23103458364943485,-0.20904873614636754,-0.1891551186583598,-0.17115462917511584,-0.15486711274771392,-0.14012955843732533,-0.12679446784694853],[-0.8993121301712191,-0.8137312658725446,-0.7362944975872463,-0.666226812110928,-0.6028269484967805,-0.5454603796003232,-0.49355296151847083,-0.4465851873643744,-0.4040869878678858,-0.3656330267643059,-0.3308384438860875,-0.2993550033529221,-0.270867608310004,-0.24509114733279969,-0.2217676409360814,-0.2006636596285297,-0.18156798767192542,-0.1642895091630499,-0.14865529528148924,-0.13450887355987587],[-0.9407002666710332,-0.8511808004403563,-0.7701802377522333,-0.6968878977500523,-0.6305702460606651,-0.570563553335832,-0.5162672524258167,-0.4671379277014949,-0.42268387636808946,-0.3824601873383328,-0.3460642884127665,-0.31313191720185923,-0.28333347546558013,-0.2563707303834305,-0.23197382974013633,-0.2098986011539783,-0.18992410831752538,-0.17185043979281156,-0.15549670823047176,-0.14069923998835102],[-0.9714298932647099,-0.8789861164245878,-0.7953395280750793,-0.7196529650453934,-0.6511689307735965,-0.5892020140264176,-0.5331320290732509,-0.4823978086589124,-0.43649158765313517,-0.3949539211664796,-0.35736908627145536,-0.3233609213077337,-0.2925890611298188,-0.26474553061827083,-0.23955166236119624,-0.2167553076571268,-0.19612831292606464,-0.17746423627176905,-0.16057628134187102,-0.14529542780719437],[-0.9911528310040071,-0.8968321684846975,-0.8114873037432844,-0.734264076688036,-0.6643896113069603,-0.6011645804649047,-0.5439562068025352,-0.49219192968784037,-0.44535367483688204,-0.4029726692522307,-0.36462474958524715,-0.32992611696672336,-0.2985294958187999,-0.27012065820425973,-0.24441527892771628,-0.2211560899134937,-0.20011030538025415,-0.18106729204265654,-0.1638364610226404,-0.14824536037187508],[-0.9996456111234525,-0.9045167537199236,-0.8184406040062037,-0.7405556829447646,-0.6700824920675975,-0.6063157119935463,-0.5486171433548749,-0.4964093194834888,-0.44916972693042784,-0.4064255759756453,-0.3677490687895807,-0.33275311788869266,-0.30108747203381986,-0.27243521079805577,-0.24650957272059515,-0.22305108530165096,-0.2018249681144644,-0.18261878304388182,-0.16524030813429513,-0.14951561376770198],[-0.9968120070307502,-0.9019528027089467,-0.8161206451934606,-0.7384564974026925,-0.6681830704417305,-0.6045970442338351,-0.5470620284567161,-0.4950021933342897,-0.4478965065387356,-0.4052735185238358,-0.36670664409945625,-0.33180989302358355,-0.3002340068822472,-0.2716629635939231,-0.24581081455432224,-0.22241882276664904,-0.2012528733147724,-0.18210113026245672,-0.16477191652811132,-0.14909179551613289],[-0.9826841245925211,-0.8891693660412239,-0.8045537133654121,-0.727990304672803,-0.6587128676353506,-0.5960280503782335,-0.5393084821812476,-0.48798649454177234,-0.44154843975759617,-0.3995295501680698,-0.3615092866031447,-0.3271071294860111,-0.29597877046527654,-0.2678126664612588,-0.242326921638131,-0.2192664660956488,-0.1984005030438561,-0.17952019891123827,-0.16243659326814675,-0.14697870764730722],[-0.9574220383620057,-0.8663112851622026,-0.7838708664815813,-0.7092756909008044,-0.6417791848303553,-0.5807058205511215,-0.52544435530593,-0.47544171377658706,-0.43019745272019877,-0.38925875236499147,-0.35221588443783786,-0.31869811146598515,-0.2883699763118184,-0.2609279448050766,-0.23609736787085484,-0.21362973274935043,-0.1933001757966343,-0.17490523197372365,-0.1582607985000847,-0.1432002922911259],[-0.9213119778704132,-0.8336375512618678,-0.7543064494616083,-0.6825247001387137,-0.6175738874192813,-0.5588039617388928,-0.5056267339280849,-0.45750998841744345,-0.4139721566453013,-0.3745774973577123,-0.33893173556352385,-0.3066781164977455,-0.27749383509995124,-0.25108680527273625,-0.22719273658588038,-0.20557248916889193,-0.1860096803188054,-0.16830851886936213,-0.15229184564721024,-0.13779936040335258],[-0.8747630845319616,-0.7915183708010719,-0.7161954389636712,-0.648040431801019,-0.5863712310937423,-0.5305706307534288,-0.48008015961664297,-0.43439449207781455,-0.39305639062073183,-0.35565212963179654,-0.3218073546950252,-0.29118333592722884,-0.26347357785549114,-0.23840075190745902,-0.21571392081377655,-0.19518602714355104,-0.17661162083726745,-0.1598048029935389,-0.14459736533041898,-0.13083710670037868],[-0.8183027759081695,-0.7404309709244065,-0.6699696479650986,-0.6062136064272006,-0.5485247544178556,-0.4963257225162613,-0.44909408526644595,-0.406357132567712,-0.3676871386330647,-0.3326970811657722,-0.3010367679101374,-0.2723893318096991,-0.24646805969522836,-0.22301352276296324,-0.2017909801239433,-0.18258802943829452,-0.1652124811212202,-0.14949043484503957,-0.1352645390862585,-0.12239241629863425],[-0.752570769856139,-0.6809541922859631,-0.6161528331487932,-0.5575181386618955,-0.5044632730950437,-0.4564572455212884,-0.41301959548128864,-0.3737155843735457,-0.3381518444443589,-0.30597244183113115,-0.27685531425663856,-0.250509047721511,-0.22666995993497896,-0.2050994612938808,-0.1855816669977213,-0.1679212364010274,-0.15194141797851163,-0.13748228033639898,-0.12439911156528324,-0.11256097091469816],[-0.6783118362696167,-0.6137619305534304,-0.555354760530732,-0.5025057676126061,-0.4546860213147685,-0.4114169255434984,-0.37226542864507167,-0.3368396892792564,-0.30478515473947726,-0.275781012470159,-0.24953697926684146,-0.2257903960243016,-0.2043035989559458,-0.18486154097475221,-0.16726963942974352,-0.15135182865741506,-0.1369487978573964,-0.1239163966564151,-0.11212419240291047,-0.10145416475321666],[-0.5963673585385021,-0.5396155009009036,-0.4882642965673546,-0.4417998054251492,-0.39975699522968133,-0.3617150874054383,-0.32729334575258817,-0.29614726591112245,-0.26796512744542883,-0.24246487404139866,-0.21939129059203333,-0.19851344891887235,-0.17962239656516577,-0.16252906552945584,-0.14706238000947008,-0.13306754421799202,-0.12040449313459378,-0.10894649068783425,-0.09857886133805868,-0.08919784236605388],[-0.5076658003388399,-0.45935501200375484,-0.41564160302335473,-0.37608807490797963,-0.34029856265385083,-0.3079148727930586,-0.27861289847294207,-0.25209937568577184,-0.22810894818399116,-0.20640151170570106,-0.18675981093050545,-0.1689872651152425,-0.1529060006478342,-0.13835507082839107,-0.12518884506054367,-0.11327555133148615,-0.10249595739338171,-0.09274217744695122,-0.08391659238413217,-0.07593087278323421],[-0.4132121857683782,-0.3738898472716546,-0.3383095240351432,-0.3061151162249334,-0.27698441138674645,-0.2506258596353937,-0.2267756557255324,-0.20519509880010242,-0.1856682033919183,-0.16799953776851875,-0.1520122679857012,-0.1375463880739722,-0.1244571186450251,-0.11261345789095961,-0.10189687047415714,-0.09220010118578097,-0.08342610149959626,-0.07548705827770057,-0.0683035149071246,-0.06180357607134329],[-0.3140767120219489,-0.28418836117116386,-0.25714426295798665,-0.23267375095766452,-0.21053191606127503,-0.19049715534304745,-0.17236895418379816,-0.15596587945322654,-0.14112376366616522,-0.1276940619392099,-0.1155423653035986,-0.10454705549507579,-0.09459808775742654,-0.08559588947756896,-0.07745036362937485,-0.07007998705234973,-0.0634109945404416,-0.05737664057506551,-0.05191653131351956,-0.046976020147108076],[-0.21138262362962446,-0.1912669073826964,-0.17306545463188203,-0.15659609912033165,-0.14169401000254409,-0.1282100421618634,-0.116009243516022,-0.10496950437134223,-0.09498033530787968,-0.08594176136417155,-0.07776332145421956,-0.07036316300253637,-0.06366722273605835,-0.057608485434015394,-0.05212631321707666,-0.04716583866307337,-0.04267741567539594,-0.03861612260817265,-0.03494131267533899,-0.03161620714394087],[-0.1062934856473656,-0.0961783231072046,-0.08702574555135129,-0.0787441509073391,-0.07125065419243068,-0.06447025797285198,-0.05833510176426763,-0.05278378286124487,-0.04776074179833954,-0.043215706292291683,-0.039103188100117585,-0.03538202775748485,-0.03201498264095924,-0.028968354231311628,-0.026211650847411075,-0.023717282475231513,-0.021460284637717993,-0.019418068541909514,-0.0175701950027067,-0.01589816988063745],[-2.4492935982947064e-16,-2.2162124954929868e-16,-2.005311992240905e-16,-1.8144813254158067e-16,-1.6418105975637044e-16,-1.485571662003618e-16,-1.344200826954743e-16,-1.2162832055835313e-16,-1.1005385553407026e-16,-9.958084648635064e-17,-9.010447602054478e-17,-8.152990143591277e-17,-7.377130550799757e-17,-6.675103760099849e-17,-6.039883651410871e-17,-5.465112728380218e-17,-4.945038490423014e-17,-4.474455859762799e-17,-4.0486550872636415e-17,-3.6633746156777854e-17]],\"type\":\"surface\"}],                        {\"template\":{\"data\":{\"bar\":[{\"error_x\":{\"color\":\"#2a3f5f\"},\"error_y\":{\"color\":\"#2a3f5f\"},\"marker\":{\"line\":{\"color\":\"#E5ECF6\",\"width\":0.5},\"pattern\":{\"fillmode\":\"overlay\",\"size\":10,\"solidity\":0.2}},\"type\":\"bar\"}],\"barpolar\":[{\"marker\":{\"line\":{\"color\":\"#E5ECF6\",\"width\":0.5},\"pattern\":{\"fillmode\":\"overlay\",\"size\":10,\"solidity\":0.2}},\"type\":\"barpolar\"}],\"carpet\":[{\"aaxis\":{\"endlinecolor\":\"#2a3f5f\",\"gridcolor\":\"white\",\"linecolor\":\"white\",\"minorgridcolor\":\"white\",\"startlinecolor\":\"#2a3f5f\"},\"baxis\":{\"endlinecolor\":\"#2a3f5f\",\"gridcolor\":\"white\",\"linecolor\":\"white\",\"minorgridcolor\":\"white\",\"startlinecolor\":\"#2a3f5f\"},\"type\":\"carpet\"}],\"choropleth\":[{\"colorbar\":{\"outlinewidth\":0,\"ticks\":\"\"},\"type\":\"choropleth\"}],\"contour\":[{\"colorbar\":{\"outlinewidth\":0,\"ticks\":\"\"},\"colorscale\":[[0.0,\"#0d0887\"],[0.1111111111111111,\"#46039f\"],[0.2222222222222222,\"#7201a8\"],[0.3333333333333333,\"#9c179e\"],[0.4444444444444444,\"#bd3786\"],[0.5555555555555556,\"#d8576b\"],[0.6666666666666666,\"#ed7953\"],[0.7777777777777778,\"#fb9f3a\"],[0.8888888888888888,\"#fdca26\"],[1.0,\"#f0f921\"]],\"type\":\"contour\"}],\"contourcarpet\":[{\"colorbar\":{\"outlinewidth\":0,\"ticks\":\"\"},\"type\":\"contourcarpet\"}],\"heatmap\":[{\"colorbar\":{\"outlinewidth\":0,\"ticks\":\"\"},\"colorscale\":[[0.0,\"#0d0887\"],[0.1111111111111111,\"#46039f\"],[0.2222222222222222,\"#7201a8\"],[0.3333333333333333,\"#9c179e\"],[0.4444444444444444,\"#bd3786\"],[0.5555555555555556,\"#d8576b\"],[0.6666666666666666,\"#ed7953\"],[0.7777777777777778,\"#fb9f3a\"],[0.8888888888888888,\"#fdca26\"],[1.0,\"#f0f921\"]],\"type\":\"heatmap\"}],\"heatmapgl\":[{\"colorbar\":{\"outlinewidth\":0,\"ticks\":\"\"},\"colorscale\":[[0.0,\"#0d0887\"],[0.1111111111111111,\"#46039f\"],[0.2222222222222222,\"#7201a8\"],[0.3333333333333333,\"#9c179e\"],[0.4444444444444444,\"#bd3786\"],[0.5555555555555556,\"#d8576b\"],[0.6666666666666666,\"#ed7953\"],[0.7777777777777778,\"#fb9f3a\"],[0.8888888888888888,\"#fdca26\"],[1.0,\"#f0f921\"]],\"type\":\"heatmapgl\"}],\"histogram\":[{\"marker\":{\"pattern\":{\"fillmode\":\"overlay\",\"size\":10,\"solidity\":0.2}},\"type\":\"histogram\"}],\"histogram2d\":[{\"colorbar\":{\"outlinewidth\":0,\"ticks\":\"\"},\"colorscale\":[[0.0,\"#0d0887\"],[0.1111111111111111,\"#46039f\"],[0.2222222222222222,\"#7201a8\"],[0.3333333333333333,\"#9c179e\"],[0.4444444444444444,\"#bd3786\"],[0.5555555555555556,\"#d8576b\"],[0.6666666666666666,\"#ed7953\"],[0.7777777777777778,\"#fb9f3a\"],[0.8888888888888888,\"#fdca26\"],[1.0,\"#f0f921\"]],\"type\":\"histogram2d\"}],\"histogram2dcontour\":[{\"colorbar\":{\"outlinewidth\":0,\"ticks\":\"\"},\"colorscale\":[[0.0,\"#0d0887\"],[0.1111111111111111,\"#46039f\"],[0.2222222222222222,\"#7201a8\"],[0.3333333333333333,\"#9c179e\"],[0.4444444444444444,\"#bd3786\"],[0.5555555555555556,\"#d8576b\"],[0.6666666666666666,\"#ed7953\"],[0.7777777777777778,\"#fb9f3a\"],[0.8888888888888888,\"#fdca26\"],[1.0,\"#f0f921\"]],\"type\":\"histogram2dcontour\"}],\"mesh3d\":[{\"colorbar\":{\"outlinewidth\":0,\"ticks\":\"\"},\"type\":\"mesh3d\"}],\"parcoords\":[{\"line\":{\"colorbar\":{\"outlinewidth\":0,\"ticks\":\"\"}},\"type\":\"parcoords\"}],\"pie\":[{\"automargin\":true,\"type\":\"pie\"}],\"scatter\":[{\"marker\":{\"colorbar\":{\"outlinewidth\":0,\"ticks\":\"\"}},\"type\":\"scatter\"}],\"scatter3d\":[{\"line\":{\"colorbar\":{\"outlinewidth\":0,\"ticks\":\"\"}},\"marker\":{\"colorbar\":{\"outlinewidth\":0,\"ticks\":\"\"}},\"type\":\"scatter3d\"}],\"scattercarpet\":[{\"marker\":{\"colorbar\":{\"outlinewidth\":0,\"ticks\":\"\"}},\"type\":\"scattercarpet\"}],\"scattergeo\":[{\"marker\":{\"colorbar\":{\"outlinewidth\":0,\"ticks\":\"\"}},\"type\":\"scattergeo\"}],\"scattergl\":[{\"marker\":{\"colorbar\":{\"outlinewidth\":0,\"ticks\":\"\"}},\"type\":\"scattergl\"}],\"scattermapbox\":[{\"marker\":{\"colorbar\":{\"outlinewidth\":0,\"ticks\":\"\"}},\"type\":\"scattermapbox\"}],\"scatterpolar\":[{\"marker\":{\"colorbar\":{\"outlinewidth\":0,\"ticks\":\"\"}},\"type\":\"scatterpolar\"}],\"scatterpolargl\":[{\"marker\":{\"colorbar\":{\"outlinewidth\":0,\"ticks\":\"\"}},\"type\":\"scatterpolargl\"}],\"scatterternary\":[{\"marker\":{\"colorbar\":{\"outlinewidth\":0,\"ticks\":\"\"}},\"type\":\"scatterternary\"}],\"surface\":[{\"colorbar\":{\"outlinewidth\":0,\"ticks\":\"\"},\"colorscale\":[[0.0,\"#0d0887\"],[0.1111111111111111,\"#46039f\"],[0.2222222222222222,\"#7201a8\"],[0.3333333333333333,\"#9c179e\"],[0.4444444444444444,\"#bd3786\"],[0.5555555555555556,\"#d8576b\"],[0.6666666666666666,\"#ed7953\"],[0.7777777777777778,\"#fb9f3a\"],[0.8888888888888888,\"#fdca26\"],[1.0,\"#f0f921\"]],\"type\":\"surface\"}],\"table\":[{\"cells\":{\"fill\":{\"color\":\"#EBF0F8\"},\"line\":{\"color\":\"white\"}},\"header\":{\"fill\":{\"color\":\"#C8D4E3\"},\"line\":{\"color\":\"white\"}},\"type\":\"table\"}]},\"layout\":{\"annotationdefaults\":{\"arrowcolor\":\"#2a3f5f\",\"arrowhead\":0,\"arrowwidth\":1},\"autotypenumbers\":\"strict\",\"coloraxis\":{\"colorbar\":{\"outlinewidth\":0,\"ticks\":\"\"}},\"colorscale\":{\"diverging\":[[0,\"#8e0152\"],[0.1,\"#c51b7d\"],[0.2,\"#de77ae\"],[0.3,\"#f1b6da\"],[0.4,\"#fde0ef\"],[0.5,\"#f7f7f7\"],[0.6,\"#e6f5d0\"],[0.7,\"#b8e186\"],[0.8,\"#7fbc41\"],[0.9,\"#4d9221\"],[1,\"#276419\"]],\"sequential\":[[0.0,\"#0d0887\"],[0.1111111111111111,\"#46039f\"],[0.2222222222222222,\"#7201a8\"],[0.3333333333333333,\"#9c179e\"],[0.4444444444444444,\"#bd3786\"],[0.5555555555555556,\"#d8576b\"],[0.6666666666666666,\"#ed7953\"],[0.7777777777777778,\"#fb9f3a\"],[0.8888888888888888,\"#fdca26\"],[1.0,\"#f0f921\"]],\"sequentialminus\":[[0.0,\"#0d0887\"],[0.1111111111111111,\"#46039f\"],[0.2222222222222222,\"#7201a8\"],[0.3333333333333333,\"#9c179e\"],[0.4444444444444444,\"#bd3786\"],[0.5555555555555556,\"#d8576b\"],[0.6666666666666666,\"#ed7953\"],[0.7777777777777778,\"#fb9f3a\"],[0.8888888888888888,\"#fdca26\"],[1.0,\"#f0f921\"]]},\"colorway\":[\"#636efa\",\"#EF553B\",\"#00cc96\",\"#ab63fa\",\"#FFA15A\",\"#19d3f3\",\"#FF6692\",\"#B6E880\",\"#FF97FF\",\"#FECB52\"],\"font\":{\"color\":\"#2a3f5f\"},\"geo\":{\"bgcolor\":\"white\",\"lakecolor\":\"white\",\"landcolor\":\"#E5ECF6\",\"showlakes\":true,\"showland\":true,\"subunitcolor\":\"white\"},\"hoverlabel\":{\"align\":\"left\"},\"hovermode\":\"closest\",\"mapbox\":{\"style\":\"light\"},\"paper_bgcolor\":\"white\",\"plot_bgcolor\":\"#E5ECF6\",\"polar\":{\"angularaxis\":{\"gridcolor\":\"white\",\"linecolor\":\"white\",\"ticks\":\"\"},\"bgcolor\":\"#E5ECF6\",\"radialaxis\":{\"gridcolor\":\"white\",\"linecolor\":\"white\",\"ticks\":\"\"}},\"scene\":{\"xaxis\":{\"backgroundcolor\":\"#E5ECF6\",\"gridcolor\":\"white\",\"gridwidth\":2,\"linecolor\":\"white\",\"showbackground\":true,\"ticks\":\"\",\"zerolinecolor\":\"white\"},\"yaxis\":{\"backgroundcolor\":\"#E5ECF6\",\"gridcolor\":\"white\",\"gridwidth\":2,\"linecolor\":\"white\",\"showbackground\":true,\"ticks\":\"\",\"zerolinecolor\":\"white\"},\"zaxis\":{\"backgroundcolor\":\"#E5ECF6\",\"gridcolor\":\"white\",\"gridwidth\":2,\"linecolor\":\"white\",\"showbackground\":true,\"ticks\":\"\",\"zerolinecolor\":\"white\"}},\"shapedefaults\":{\"line\":{\"color\":\"#2a3f5f\"}},\"ternary\":{\"aaxis\":{\"gridcolor\":\"white\",\"linecolor\":\"white\",\"ticks\":\"\"},\"baxis\":{\"gridcolor\":\"white\",\"linecolor\":\"white\",\"ticks\":\"\"},\"bgcolor\":\"#E5ECF6\",\"caxis\":{\"gridcolor\":\"white\",\"linecolor\":\"white\",\"ticks\":\"\"}},\"title\":{\"x\":0.05},\"xaxis\":{\"automargin\":true,\"gridcolor\":\"white\",\"linecolor\":\"white\",\"ticks\":\"\",\"title\":{\"standoff\":15},\"zerolinecolor\":\"white\",\"zerolinewidth\":2},\"yaxis\":{\"automargin\":true,\"gridcolor\":\"white\",\"linecolor\":\"white\",\"ticks\":\"\",\"title\":{\"standoff\":15},\"zerolinecolor\":\"white\",\"zerolinewidth\":2}}}},                        {\"responsive\": true}                    ).then(function(){\n",
       "                            \n",
       "var gd = document.getElementById('a17f3141-6254-49dc-8f4e-1cd2097c4cb1');\n",
       "var x = new MutationObserver(function (mutations, observer) {{\n",
       "        var display = window.getComputedStyle(gd).display;\n",
       "        if (!display || display === 'none') {{\n",
       "            console.log([gd, 'removed!']);\n",
       "            Plotly.purge(gd);\n",
       "            observer.disconnect();\n",
       "        }}\n",
       "}});\n",
       "\n",
       "// Listen for the removal of the full notebook cells\n",
       "var notebookContainer = gd.closest('#notebook-container');\n",
       "if (notebookContainer) {{\n",
       "    x.observe(notebookContainer, {childList: true});\n",
       "}}\n",
       "\n",
       "// Listen for the clearing of the current output cell\n",
       "var outputEl = gd.closest('.output');\n",
       "if (outputEl) {{\n",
       "    x.observe(outputEl, {childList: true});\n",
       "}}\n",
       "\n",
       "                        })                };                });            </script>        </div>"
      ]
     },
     "metadata": {},
     "output_type": "display_data"
    }
   ],
   "source": [
    "fig = go.Figure(data=[go.Surface(z=Z,x=X,y=Y)])\n",
    "fig.show()"
   ]
  },
  {
   "cell_type": "code",
   "execution_count": null,
   "id": "b7c40df2",
   "metadata": {},
   "outputs": [],
   "source": []
  },
  {
   "cell_type": "code",
   "execution_count": null,
   "id": "2b808bb6",
   "metadata": {},
   "outputs": [],
   "source": []
  },
  {
   "cell_type": "code",
   "execution_count": null,
   "id": "150b0862",
   "metadata": {},
   "outputs": [],
   "source": []
  }
 ],
 "metadata": {
  "kernelspec": {
   "display_name": "computational-physics",
   "language": "python",
   "name": "computational-physics"
  },
  "language_info": {
   "codemirror_mode": {
    "name": "ipython",
    "version": 3
   },
   "file_extension": ".py",
   "mimetype": "text/x-python",
   "name": "python",
   "nbconvert_exporter": "python",
   "pygments_lexer": "ipython3",
   "version": "3.9.7"
  }
 },
 "nbformat": 4,
 "nbformat_minor": 5
}
